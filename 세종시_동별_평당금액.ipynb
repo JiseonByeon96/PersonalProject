{
  "nbformat": 4,
  "nbformat_minor": 0,
  "metadata": {
    "colab": {
      "name": "세종시 동별 평당금액.ipynb",
      "provenance": [],
      "collapsed_sections": [],
      "toc_visible": true,
      "authorship_tag": "ABX9TyPsDOB+XDTdwsx1EDXFg7zx",
      "include_colab_link": true
    },
    "kernelspec": {
      "name": "python3",
      "display_name": "Python 3"
    }
  },
  "cells": [
    {
      "cell_type": "markdown",
      "metadata": {
        "id": "view-in-github",
        "colab_type": "text"
      },
      "source": [
        "<a href=\"https://colab.research.google.com/github/JiseonByeon96/PersonalProject/blob/main/%EC%84%B8%EC%A2%85%EC%8B%9C_%EB%8F%99%EB%B3%84_%ED%8F%89%EB%8B%B9%EA%B8%88%EC%95%A1.ipynb\" target=\"_parent\"><img src=\"https://colab.research.google.com/assets/colab-badge.svg\" alt=\"Open In Colab\"/></a>"
      ]
    },
    {
      "cell_type": "markdown",
      "metadata": {
        "id": "a0Y5L3KYAy65"
      },
      "source": [
        "# import 코드\r\n"
      ]
    },
    {
      "cell_type": "code",
      "metadata": {
        "id": "Nj-DCRZn_63p"
      },
      "source": [
        "import numpy as np\r\n",
        "import pandas as pd"
      ],
      "execution_count": null,
      "outputs": []
    },
    {
      "cell_type": "markdown",
      "metadata": {
        "id": "1DOcWp7oA3GQ"
      },
      "source": [
        "# 연립다세대 매매\r\n"
      ]
    },
    {
      "cell_type": "code",
      "metadata": {
        "id": "VhtQPZ7WAdxT"
      },
      "source": [
        "alliance_meme = pd.read_csv('/content/4.세종시_연립다세대(매매)_실거래가.csv', encoding='cp949')"
      ],
      "execution_count": 2,
      "outputs": []
    },
    {
      "cell_type": "code",
      "metadata": {
        "colab": {
          "base_uri": "https://localhost:8080/"
        },
        "id": "0lh5Ym01CJv_",
        "outputId": "323b642b-0811-4fef-9c5e-cf8f861f4d96"
      },
      "source": [
        "alliance_meme.info()\n",
        "alliance_meme['거래금액(만원)']=alliance_meme['거래금액(만원)'].replace(',', '')\n",
        "alliance_meme['거래금액(만원)']=alliance_meme['거래금액(만원)'].str.replace(',', '')\n",
        "alliance_meme['거래금액(만원)'] = pd.to_numeric(alliance_meme['거래금액(만원)'])\n",
        "alliance_meme['평당금액'] = (alliance_meme['거래금액(만원)']*3.3) / alliance_meme['전용면적(㎡)']\n",
        "alliance_meme\n",
        "place_split = alliance_meme['시군구'].str.split()\n",
        "alliance_meme['동']=place_split.str.get(1)\n",
        "alliance_meme\n",
        "alliance_meme\n",
        "is_2017 = alliance_meme['계약년월']<201801\n",
        "alliance_meme[is_2017].to_csv('4.세종시_연립다세대(매매)_실거래가_평당금액.csv')"
      ],
      "execution_count": 6,
      "outputs": [
        {
          "output_type": "stream",
          "text": [
            "<class 'pandas.core.frame.DataFrame'>\n",
            "RangeIndex: 529 entries, 0 to 528\n",
            "Data columns (total 11 columns):\n",
            " #   Column    Non-Null Count  Dtype  \n",
            "---  ------    --------------  -----  \n",
            " 0   계약년월      529 non-null    int64  \n",
            " 1   계약일       529 non-null    int64  \n",
            " 2   시군구       529 non-null    object \n",
            " 3   본번        529 non-null    int64  \n",
            " 4   부번        529 non-null    int64  \n",
            " 5   건물명       529 non-null    object \n",
            " 6   전용면적(㎡)   529 non-null    float64\n",
            " 7   대지권면적(㎡)  529 non-null    float64\n",
            " 8   거래금액(만원)  529 non-null    object \n",
            " 9   층         529 non-null    int64  \n",
            " 10  건축년도      529 non-null    int64  \n",
            "dtypes: float64(2), int64(6), object(3)\n",
            "memory usage: 45.6+ KB\n"
          ],
          "name": "stdout"
        }
      ]
    },
    {
      "cell_type": "markdown",
      "metadata": {
        "id": "bmno1ozgQlVU"
      },
      "source": [
        "# 단독다가구 매매 "
      ]
    },
    {
      "cell_type": "code",
      "metadata": {
        "id": "msWM8ck8QrdL"
      },
      "source": [
        "house_meme = pd.read_csv('/content/5.세종시_단독다가구(매매)_실거래가.csv', encoding='cp949')"
      ],
      "execution_count": 29,
      "outputs": []
    },
    {
      "cell_type": "code",
      "metadata": {
        "colab": {
          "base_uri": "https://localhost:8080/"
        },
        "id": "depc7-4kRBdm",
        "outputId": "23991f8e-1b48-4b46-b3b6-5e3d84d1e532"
      },
      "source": [
        "house_meme.info()\r\n",
        "house_meme['거래금액(만원)']=house_meme['거래금액(만원)'].replace(',', '')\r\n",
        "house_meme['평당금액'] = (house_meme['거래금액(만원)']*3.3) / house_meme['연면적(㎡)']\r\n",
        "house_meme\r\n",
        "place_split = house_meme['시군구'].str.split()\r\n",
        "house_meme['동']=place_split.str.get(1)\r\n",
        "house_meme\r\n",
        "house_meme\r\n",
        "is_2017 = house_meme['계약년월']<201801\r\n",
        "house_meme[is_2017].to_csv('5.세종시_단독주택(매매)_실거래가_평당금액.csv')"
      ],
      "execution_count": 32,
      "outputs": [
        {
          "output_type": "stream",
          "text": [
            "<class 'pandas.core.frame.DataFrame'>\n",
            "RangeIndex: 997 entries, 0 to 996\n",
            "Data columns (total 9 columns):\n",
            " #   Column    Non-Null Count  Dtype  \n",
            "---  ------    --------------  -----  \n",
            " 0   계약년월      997 non-null    int64  \n",
            " 1   계약일       997 non-null    int64  \n",
            " 2   시군구       997 non-null    object \n",
            " 3   주택유형      997 non-null    object \n",
            " 4   도로조건      997 non-null    object \n",
            " 5   연면적(㎡)    997 non-null    float64\n",
            " 6   대지면적(㎡)   997 non-null    float64\n",
            " 7   거래금액(만원)  997 non-null    int64  \n",
            " 8   건축년도      993 non-null    float64\n",
            "dtypes: float64(3), int64(3), object(3)\n",
            "memory usage: 70.2+ KB\n"
          ],
          "name": "stdout"
        }
      ]
    },
    {
      "cell_type": "markdown",
      "metadata": {
        "id": "hyBTvY-nUFIw"
      },
      "source": [
        "# 오피스텔 매매 "
      ]
    },
    {
      "cell_type": "code",
      "metadata": {
        "id": "GhbSq8llRP_Z"
      },
      "source": [
        "officetel_meme = pd.read_csv('/content/6.세종시_오피스텔(매매)_실거래가.csv', encoding='cp949')"
      ],
      "execution_count": 33,
      "outputs": []
    },
    {
      "cell_type": "code",
      "metadata": {
        "colab": {
          "base_uri": "https://localhost:8080/"
        },
        "id": "VhqGvPcBUKXu",
        "outputId": "ff4e0d17-b84f-4d17-c859-fb6271d0d868"
      },
      "source": [
        "officetel_meme.info()\r\n",
        "#officetel_meme['거래금액(만원)']=officetel_meme['거래금액(만원)'].replace(',', '')\r\n",
        "officetel_meme['평당금액'] = (officetel_meme['거래금액(만원)']*3.3) / officetel_meme['전용면적(㎡)']\r\n",
        "officetel_meme\r\n",
        "place_split = officetel_meme['시군구'].str.split()\r\n",
        "officetel_meme['동']=place_split.str.get(1)\r\n",
        "officetel_meme\r\n",
        "officetel_meme\r\n",
        "is_2017 = officetel_meme['계약년월']<201801\r\n",
        "officetel_meme[is_2017].to_csv('6.세종시_오피스텔(매매)_실거래가_평당금액.csv')"
      ],
      "execution_count": 35,
      "outputs": [
        {
          "output_type": "stream",
          "text": [
            "<class 'pandas.core.frame.DataFrame'>\n",
            "RangeIndex: 268 entries, 0 to 267\n",
            "Data columns (total 10 columns):\n",
            " #   Column    Non-Null Count  Dtype  \n",
            "---  ------    --------------  -----  \n",
            " 0   계약년월      268 non-null    int64  \n",
            " 1   계약일       268 non-null    int64  \n",
            " 2   시군구       268 non-null    object \n",
            " 3   본번        268 non-null    int64  \n",
            " 4   부번        268 non-null    int64  \n",
            " 5   단지명       268 non-null    object \n",
            " 6   전용면적(㎡)   268 non-null    float64\n",
            " 7   거래금액(만원)  268 non-null    int64  \n",
            " 8   층         268 non-null    int64  \n",
            " 9   건축년도      268 non-null    int64  \n",
            "dtypes: float64(1), int64(7), object(2)\n",
            "memory usage: 21.1+ KB\n"
          ],
          "name": "stdout"
        }
      ]
    },
    {
      "cell_type": "code",
      "metadata": {
        "id": "bWD1QkufQqeY"
      },
      "source": [
        ""
      ],
      "execution_count": null,
      "outputs": []
    }
  ]
}