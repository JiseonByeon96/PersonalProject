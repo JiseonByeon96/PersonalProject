{
  "nbformat": 4,
  "nbformat_minor": 0,
  "metadata": {
    "colab": {
      "name": "세종시 2019-2020전입/전출인구 시각화.ipynb",
      "provenance": [],
      "toc_visible": true,
      "authorship_tag": "ABX9TyPm9svjbZw9YMYqPtEfOPmf",
      "include_colab_link": true
    },
    "kernelspec": {
      "name": "python3",
      "display_name": "Python 3"
    }
  },
  "cells": [
    {
      "cell_type": "markdown",
      "metadata": {
        "id": "view-in-github",
        "colab_type": "text"
      },
      "source": [
        "<a href=\"https://colab.research.google.com/github/JiseonByeon96/PersonalProject/blob/main/%EC%84%B8%EC%A2%85%EC%8B%9C_2019_2020%EC%A0%84%EC%9E%85_%EC%A0%84%EC%B6%9C%EC%9D%B8%EA%B5%AC_%EC%8B%9C%EA%B0%81%ED%99%94.ipynb\" target=\"_parent\"><img src=\"https://colab.research.google.com/assets/colab-badge.svg\" alt=\"Open In Colab\"/></a>"
      ]
    },
    {
      "cell_type": "markdown",
      "metadata": {
        "id": "A9Msw0A_Z5jp"
      },
      "source": [
        "# 코드 불러오기"
      ]
    },
    {
      "cell_type": "code",
      "metadata": {
        "colab": {
          "base_uri": "https://localhost:8080/"
        },
        "id": "BvsS_lmkZxBM",
        "outputId": "88a3eb3e-b617-44ba-af4d-18e31ec0efc0"
      },
      "source": [
        "pip install geopandas"
      ],
      "execution_count": 2,
      "outputs": [
        {
          "output_type": "stream",
          "text": [
            "Collecting geopandas\n",
            "\u001b[?25l  Downloading https://files.pythonhosted.org/packages/2a/9f/e8a440a993e024c0d3d4e5c7d3346367c50c9a1a3d735caf5ee3bde0aab1/geopandas-0.8.2-py2.py3-none-any.whl (962kB)\n",
            "\u001b[K     |████████████████████████████████| 972kB 5.5MB/s \n",
            "\u001b[?25hRequirement already satisfied: shapely in /usr/local/lib/python3.6/dist-packages (from geopandas) (1.7.1)\n",
            "Requirement already satisfied: pandas>=0.23.0 in /usr/local/lib/python3.6/dist-packages (from geopandas) (1.1.5)\n",
            "Collecting fiona\n",
            "\u001b[?25l  Downloading https://files.pythonhosted.org/packages/37/94/4910fd55246c1d963727b03885ead6ef1cd3748a465f7b0239ab25dfc9a3/Fiona-1.8.18-cp36-cp36m-manylinux1_x86_64.whl (14.8MB)\n",
            "\u001b[K     |████████████████████████████████| 14.8MB 254kB/s \n",
            "\u001b[?25hCollecting pyproj>=2.2.0\n",
            "\u001b[?25l  Downloading https://files.pythonhosted.org/packages/e4/ab/280e80a67cfc109d15428c0ec56391fc03a65857b7727cf4e6e6f99a4204/pyproj-3.0.0.post1-cp36-cp36m-manylinux2010_x86_64.whl (6.4MB)\n",
            "\u001b[K     |████████████████████████████████| 6.5MB 45.0MB/s \n",
            "\u001b[?25hRequirement already satisfied: pytz>=2017.2 in /usr/local/lib/python3.6/dist-packages (from pandas>=0.23.0->geopandas) (2018.9)\n",
            "Requirement already satisfied: numpy>=1.15.4 in /usr/local/lib/python3.6/dist-packages (from pandas>=0.23.0->geopandas) (1.19.5)\n",
            "Requirement already satisfied: python-dateutil>=2.7.3 in /usr/local/lib/python3.6/dist-packages (from pandas>=0.23.0->geopandas) (2.8.1)\n",
            "Collecting click-plugins>=1.0\n",
            "  Downloading https://files.pythonhosted.org/packages/e9/da/824b92d9942f4e472702488857914bdd50f73021efea15b4cad9aca8ecef/click_plugins-1.1.1-py2.py3-none-any.whl\n",
            "Requirement already satisfied: certifi in /usr/local/lib/python3.6/dist-packages (from fiona->geopandas) (2020.12.5)\n",
            "Requirement already satisfied: attrs>=17 in /usr/local/lib/python3.6/dist-packages (from fiona->geopandas) (20.3.0)\n",
            "Requirement already satisfied: click<8,>=4.0 in /usr/local/lib/python3.6/dist-packages (from fiona->geopandas) (7.1.2)\n",
            "Collecting munch\n",
            "  Downloading https://files.pythonhosted.org/packages/cc/ab/85d8da5c9a45e072301beb37ad7f833cd344e04c817d97e0cc75681d248f/munch-2.5.0-py2.py3-none-any.whl\n",
            "Collecting cligj>=0.5\n",
            "  Downloading https://files.pythonhosted.org/packages/42/1e/947eadf10d6804bf276eb8a038bd5307996dceaaa41cfd21b7a15ec62f5d/cligj-0.7.1-py3-none-any.whl\n",
            "Requirement already satisfied: six>=1.7 in /usr/local/lib/python3.6/dist-packages (from fiona->geopandas) (1.15.0)\n",
            "Installing collected packages: click-plugins, munch, cligj, fiona, pyproj, geopandas\n",
            "Successfully installed click-plugins-1.1.1 cligj-0.7.1 fiona-1.8.18 geopandas-0.8.2 munch-2.5.0 pyproj-3.0.0.post1\n"
          ],
          "name": "stdout"
        }
      ]
    },
    {
      "cell_type": "code",
      "metadata": {
        "id": "_6avmyl-0jQQ"
      },
      "source": [
        "import pandas as pd\r\n",
        "import numpy as np\r\n",
        "import geopandas as gpd\r\n",
        "import folium"
      ],
      "execution_count": 3,
      "outputs": []
    },
    {
      "cell_type": "markdown",
      "metadata": {
        "id": "G9CeBBJ1Z_2r"
      },
      "source": [
        "# 전입인구"
      ]
    },
    {
      "cell_type": "code",
      "metadata": {
        "id": "TD0T_6MjZrpj"
      },
      "source": [
        "in_data = pd.read_csv('/content/20.세종시_전입자수.csv', encoding='utf-8')"
      ],
      "execution_count": 23,
      "outputs": []
    },
    {
      "cell_type": "code",
      "metadata": {
        "colab": {
          "base_uri": "https://localhost:8080/",
          "height": 410
        },
        "id": "JpuPRSsagyFM",
        "outputId": "f63ac049-d757-4156-847d-6b509ae39a0b"
      },
      "source": [
        "in_data"
      ],
      "execution_count": 24,
      "outputs": [
        {
          "output_type": "execute_result",
          "data": {
            "text/html": [
              "<div>\n",
              "<style scoped>\n",
              "    .dataframe tbody tr th:only-of-type {\n",
              "        vertical-align: middle;\n",
              "    }\n",
              "\n",
              "    .dataframe tbody tr th {\n",
              "        vertical-align: top;\n",
              "    }\n",
              "\n",
              "    .dataframe thead th {\n",
              "        text-align: right;\n",
              "    }\n",
              "</style>\n",
              "<table border=\"1\" class=\"dataframe\">\n",
              "  <thead>\n",
              "    <tr style=\"text-align: right;\">\n",
              "      <th></th>\n",
              "      <th>년월</th>\n",
              "      <th>년</th>\n",
              "      <th>월</th>\n",
              "      <th>전입자수</th>\n",
              "      <th>세종전입행정동</th>\n",
              "      <th>전출시</th>\n",
              "      <th>전출시군구</th>\n",
              "      <th>전출읍면동</th>\n",
              "    </tr>\n",
              "  </thead>\n",
              "  <tbody>\n",
              "    <tr>\n",
              "      <th>0</th>\n",
              "      <td>201701</td>\n",
              "      <td>2017</td>\n",
              "      <td>1</td>\n",
              "      <td>1</td>\n",
              "      <td>조치원읍</td>\n",
              "      <td>강원도</td>\n",
              "      <td>강릉시</td>\n",
              "      <td>교1동</td>\n",
              "    </tr>\n",
              "    <tr>\n",
              "      <th>1</th>\n",
              "      <td>201701</td>\n",
              "      <td>2017</td>\n",
              "      <td>1</td>\n",
              "      <td>6</td>\n",
              "      <td>조치원읍</td>\n",
              "      <td>강원도</td>\n",
              "      <td>동해시</td>\n",
              "      <td>천곡동</td>\n",
              "    </tr>\n",
              "    <tr>\n",
              "      <th>2</th>\n",
              "      <td>201701</td>\n",
              "      <td>2017</td>\n",
              "      <td>1</td>\n",
              "      <td>14</td>\n",
              "      <td>조치원읍</td>\n",
              "      <td>강원도</td>\n",
              "      <td>속초시</td>\n",
              "      <td>교동</td>\n",
              "    </tr>\n",
              "    <tr>\n",
              "      <th>3</th>\n",
              "      <td>201701</td>\n",
              "      <td>2017</td>\n",
              "      <td>1</td>\n",
              "      <td>21</td>\n",
              "      <td>조치원읍</td>\n",
              "      <td>강원도</td>\n",
              "      <td>양양군</td>\n",
              "      <td>서면</td>\n",
              "    </tr>\n",
              "    <tr>\n",
              "      <th>4</th>\n",
              "      <td>201701</td>\n",
              "      <td>2017</td>\n",
              "      <td>1</td>\n",
              "      <td>2</td>\n",
              "      <td>조치원읍</td>\n",
              "      <td>강원도</td>\n",
              "      <td>원주시</td>\n",
              "      <td>원인동</td>\n",
              "    </tr>\n",
              "    <tr>\n",
              "      <th>...</th>\n",
              "      <td>...</td>\n",
              "      <td>...</td>\n",
              "      <td>...</td>\n",
              "      <td>...</td>\n",
              "      <td>...</td>\n",
              "      <td>...</td>\n",
              "      <td>...</td>\n",
              "      <td>...</td>\n",
              "    </tr>\n",
              "    <tr>\n",
              "      <th>108077</th>\n",
              "      <td>202101</td>\n",
              "      <td>2021</td>\n",
              "      <td>1</td>\n",
              "      <td>3</td>\n",
              "      <td>다정동</td>\n",
              "      <td>충청북도</td>\n",
              "      <td>청주시흥덕구</td>\n",
              "      <td>복대1동</td>\n",
              "    </tr>\n",
              "    <tr>\n",
              "      <th>108078</th>\n",
              "      <td>202101</td>\n",
              "      <td>2021</td>\n",
              "      <td>1</td>\n",
              "      <td>56</td>\n",
              "      <td>다정동</td>\n",
              "      <td>충청북도</td>\n",
              "      <td>청주시흥덕구</td>\n",
              "      <td>오송읍</td>\n",
              "    </tr>\n",
              "    <tr>\n",
              "      <th>108079</th>\n",
              "      <td>202101</td>\n",
              "      <td>2021</td>\n",
              "      <td>1</td>\n",
              "      <td>32</td>\n",
              "      <td>다정동</td>\n",
              "      <td>충청북도</td>\n",
              "      <td>청주시흥덕구</td>\n",
              "      <td>옥산면</td>\n",
              "    </tr>\n",
              "    <tr>\n",
              "      <th>108080</th>\n",
              "      <td>202101</td>\n",
              "      <td>2021</td>\n",
              "      <td>1</td>\n",
              "      <td>8</td>\n",
              "      <td>다정동</td>\n",
              "      <td>충청북도</td>\n",
              "      <td>충주시</td>\n",
              "      <td>교현·안림동</td>\n",
              "    </tr>\n",
              "    <tr>\n",
              "      <th>108081</th>\n",
              "      <td>202101</td>\n",
              "      <td>2021</td>\n",
              "      <td>1</td>\n",
              "      <td>9</td>\n",
              "      <td>다정동</td>\n",
              "      <td>충청북도</td>\n",
              "      <td>충주시</td>\n",
              "      <td>중앙탑면</td>\n",
              "    </tr>\n",
              "  </tbody>\n",
              "</table>\n",
              "<p>108082 rows × 8 columns</p>\n",
              "</div>"
            ],
            "text/plain": [
              "            년월     년  월  전입자수 세종전입행정동   전출시   전출시군구   전출읍면동\n",
              "0       201701  2017  1     1    조치원읍   강원도     강릉시     교1동\n",
              "1       201701  2017  1     6    조치원읍   강원도     동해시     천곡동\n",
              "2       201701  2017  1    14    조치원읍   강원도     속초시      교동\n",
              "3       201701  2017  1    21    조치원읍   강원도     양양군      서면\n",
              "4       201701  2017  1     2    조치원읍   강원도     원주시     원인동\n",
              "...        ...   ... ..   ...     ...   ...     ...     ...\n",
              "108077  202101  2021  1     3     다정동  충청북도  청주시흥덕구    복대1동\n",
              "108078  202101  2021  1    56     다정동  충청북도  청주시흥덕구     오송읍\n",
              "108079  202101  2021  1    32     다정동  충청북도  청주시흥덕구     옥산면\n",
              "108080  202101  2021  1     8     다정동  충청북도     충주시  교현·안림동\n",
              "108081  202101  2021  1     9     다정동  충청북도     충주시    중앙탑면\n",
              "\n",
              "[108082 rows x 8 columns]"
            ]
          },
          "metadata": {
            "tags": []
          },
          "execution_count": 24
        }
      ]
    },
    {
      "cell_type": "code",
      "metadata": {
        "colab": {
          "base_uri": "https://localhost:8080/"
        },
        "id": "WBE-4CCFg0ZW",
        "outputId": "d855756f-5951-438f-fe4a-3fae4eb2f238"
      },
      "source": [
        "#2017년전입\n",
        "in_data.info()\n",
        "in_data.drop(['년월', '전출시', '전출시군구', '전출읍면동'], axis = 1, inplace=True)\n",
        "is_2017 = in_data['년']==2017\n",
        "in_data_2017 = in_data[is_2017]\n",
        "in_data_2017 = in_data_2017.groupby(['년', '월', '세종전입행정동']).sum()\n",
        "in_data_2017 = in_data_2017.reset_index()\n",
        "in_data_2017.to_csv('2017전입.csv')"
      ],
      "execution_count": 25,
      "outputs": [
        {
          "output_type": "stream",
          "text": [
            "<class 'pandas.core.frame.DataFrame'>\n",
            "RangeIndex: 108082 entries, 0 to 108081\n",
            "Data columns (total 8 columns):\n",
            " #   Column   Non-Null Count   Dtype \n",
            "---  ------   --------------   ----- \n",
            " 0   년월       108082 non-null  int64 \n",
            " 1   년        108082 non-null  int64 \n",
            " 2   월        108082 non-null  int64 \n",
            " 3   전입자수     108082 non-null  int64 \n",
            " 4   세종전입행정동  108082 non-null  object\n",
            " 5   전출시      108082 non-null  object\n",
            " 6   전출시군구    108082 non-null  object\n",
            " 7   전출읍면동    108082 non-null  object\n",
            "dtypes: int64(4), object(4)\n",
            "memory usage: 6.6+ MB\n"
          ],
          "name": "stdout"
        }
      ]
    },
    {
      "cell_type": "code",
      "metadata": {
        "colab": {
          "base_uri": "https://localhost:8080/"
        },
        "id": "gI6u0gTqilbG",
        "outputId": "cb235dab-507a-4ec5-d1cd-defec137c4c5"
      },
      "source": [
        "#2018년전입\r\n",
        "in_data.info()\r\n",
        "is_2018 = in_data['년']==2018\r\n",
        "in_data_2018 = in_data[is_2018]\r\n",
        "in_data_2018 = in_data_2018.groupby(['년', '월', '세종전입행정동']).sum()\r\n",
        "in_data_2018 = in_data_2018.reset_index()\r\n",
        "in_data_2018.to_csv('2018전입.csv')"
      ],
      "execution_count": 41,
      "outputs": [
        {
          "output_type": "stream",
          "text": [
            "<class 'pandas.core.frame.DataFrame'>\n",
            "RangeIndex: 108082 entries, 0 to 108081\n",
            "Data columns (total 4 columns):\n",
            " #   Column   Non-Null Count   Dtype \n",
            "---  ------   --------------   ----- \n",
            " 0   년        108082 non-null  int64 \n",
            " 1   월        108082 non-null  int64 \n",
            " 2   전입자수     108082 non-null  int64 \n",
            " 3   세종전입행정동  108082 non-null  object\n",
            "dtypes: int64(3), object(1)\n",
            "memory usage: 3.3+ MB\n"
          ],
          "name": "stdout"
        }
      ]
    },
    {
      "cell_type": "code",
      "metadata": {
        "colab": {
          "base_uri": "https://localhost:8080/"
        },
        "id": "uWUZW_vrj0RT",
        "outputId": "9efbd717-acfb-40e7-eec5-625c8cc03736"
      },
      "source": [
        "#2019년전입\r\n",
        "in_data.info()\r\n",
        "is_2019 = in_data['년']==2019\r\n",
        "in_data_2019 = in_data[is_2019]\r\n",
        "in_data_2019 = in_data_2019.groupby(['년', '월', '세종전입행정동']).sum()\r\n",
        "in_data_2019 = in_data_2019.reset_index()\r\n",
        "in_data_2019.to_csv('2019전입.csv')"
      ],
      "execution_count": 42,
      "outputs": [
        {
          "output_type": "stream",
          "text": [
            "<class 'pandas.core.frame.DataFrame'>\n",
            "RangeIndex: 108082 entries, 0 to 108081\n",
            "Data columns (total 4 columns):\n",
            " #   Column   Non-Null Count   Dtype \n",
            "---  ------   --------------   ----- \n",
            " 0   년        108082 non-null  int64 \n",
            " 1   월        108082 non-null  int64 \n",
            " 2   전입자수     108082 non-null  int64 \n",
            " 3   세종전입행정동  108082 non-null  object\n",
            "dtypes: int64(3), object(1)\n",
            "memory usage: 3.3+ MB\n"
          ],
          "name": "stdout"
        }
      ]
    },
    {
      "cell_type": "code",
      "metadata": {
        "colab": {
          "base_uri": "https://localhost:8080/"
        },
        "id": "fVrmRXsjj8s7",
        "outputId": "2e7121a2-c24b-413d-bab9-454a0c274ad7"
      },
      "source": [
        "#2020년전입\r\n",
        "in_data.info()\r\n",
        "is_2020 = in_data['년']==2020\r\n",
        "in_data_2020 = in_data[is_2020]\r\n",
        "in_data_2020 = in_data_2020.groupby(['년', '월', '세종전입행정동']).sum()\r\n",
        "in_data_2020 = in_data_2020.reset_index()\r\n",
        "in_data_2020.to_csv('2020전입.csv')"
      ],
      "execution_count": 43,
      "outputs": [
        {
          "output_type": "stream",
          "text": [
            "<class 'pandas.core.frame.DataFrame'>\n",
            "RangeIndex: 108082 entries, 0 to 108081\n",
            "Data columns (total 4 columns):\n",
            " #   Column   Non-Null Count   Dtype \n",
            "---  ------   --------------   ----- \n",
            " 0   년        108082 non-null  int64 \n",
            " 1   월        108082 non-null  int64 \n",
            " 2   전입자수     108082 non-null  int64 \n",
            " 3   세종전입행정동  108082 non-null  object\n",
            "dtypes: int64(3), object(1)\n",
            "memory usage: 3.3+ MB\n"
          ],
          "name": "stdout"
        }
      ]
    },
    {
      "cell_type": "code",
      "metadata": {
        "colab": {
          "base_uri": "https://localhost:8080/",
          "height": 410
        },
        "id": "f_RlrFcfoK6P",
        "outputId": "af7de621-3692-4051-e4fd-104c28d9c1ad"
      },
      "source": [
        "#2019년-2020년 전입\r\n",
        "in_data = pd.read_csv('/content/20.세종시_전입자수.csv')\r\n",
        "in_data"
      ],
      "execution_count": 45,
      "outputs": [
        {
          "output_type": "execute_result",
          "data": {
            "text/html": [
              "<div>\n",
              "<style scoped>\n",
              "    .dataframe tbody tr th:only-of-type {\n",
              "        vertical-align: middle;\n",
              "    }\n",
              "\n",
              "    .dataframe tbody tr th {\n",
              "        vertical-align: top;\n",
              "    }\n",
              "\n",
              "    .dataframe thead th {\n",
              "        text-align: right;\n",
              "    }\n",
              "</style>\n",
              "<table border=\"1\" class=\"dataframe\">\n",
              "  <thead>\n",
              "    <tr style=\"text-align: right;\">\n",
              "      <th></th>\n",
              "      <th>년월</th>\n",
              "      <th>년</th>\n",
              "      <th>월</th>\n",
              "      <th>전입자수</th>\n",
              "      <th>세종전입행정동</th>\n",
              "      <th>전출시</th>\n",
              "      <th>전출시군구</th>\n",
              "      <th>전출읍면동</th>\n",
              "    </tr>\n",
              "  </thead>\n",
              "  <tbody>\n",
              "    <tr>\n",
              "      <th>0</th>\n",
              "      <td>201701</td>\n",
              "      <td>2017</td>\n",
              "      <td>1</td>\n",
              "      <td>1</td>\n",
              "      <td>조치원읍</td>\n",
              "      <td>강원도</td>\n",
              "      <td>강릉시</td>\n",
              "      <td>교1동</td>\n",
              "    </tr>\n",
              "    <tr>\n",
              "      <th>1</th>\n",
              "      <td>201701</td>\n",
              "      <td>2017</td>\n",
              "      <td>1</td>\n",
              "      <td>6</td>\n",
              "      <td>조치원읍</td>\n",
              "      <td>강원도</td>\n",
              "      <td>동해시</td>\n",
              "      <td>천곡동</td>\n",
              "    </tr>\n",
              "    <tr>\n",
              "      <th>2</th>\n",
              "      <td>201701</td>\n",
              "      <td>2017</td>\n",
              "      <td>1</td>\n",
              "      <td>14</td>\n",
              "      <td>조치원읍</td>\n",
              "      <td>강원도</td>\n",
              "      <td>속초시</td>\n",
              "      <td>교동</td>\n",
              "    </tr>\n",
              "    <tr>\n",
              "      <th>3</th>\n",
              "      <td>201701</td>\n",
              "      <td>2017</td>\n",
              "      <td>1</td>\n",
              "      <td>21</td>\n",
              "      <td>조치원읍</td>\n",
              "      <td>강원도</td>\n",
              "      <td>양양군</td>\n",
              "      <td>서면</td>\n",
              "    </tr>\n",
              "    <tr>\n",
              "      <th>4</th>\n",
              "      <td>201701</td>\n",
              "      <td>2017</td>\n",
              "      <td>1</td>\n",
              "      <td>2</td>\n",
              "      <td>조치원읍</td>\n",
              "      <td>강원도</td>\n",
              "      <td>원주시</td>\n",
              "      <td>원인동</td>\n",
              "    </tr>\n",
              "    <tr>\n",
              "      <th>...</th>\n",
              "      <td>...</td>\n",
              "      <td>...</td>\n",
              "      <td>...</td>\n",
              "      <td>...</td>\n",
              "      <td>...</td>\n",
              "      <td>...</td>\n",
              "      <td>...</td>\n",
              "      <td>...</td>\n",
              "    </tr>\n",
              "    <tr>\n",
              "      <th>108077</th>\n",
              "      <td>202101</td>\n",
              "      <td>2021</td>\n",
              "      <td>1</td>\n",
              "      <td>3</td>\n",
              "      <td>다정동</td>\n",
              "      <td>충청북도</td>\n",
              "      <td>청주시흥덕구</td>\n",
              "      <td>복대1동</td>\n",
              "    </tr>\n",
              "    <tr>\n",
              "      <th>108078</th>\n",
              "      <td>202101</td>\n",
              "      <td>2021</td>\n",
              "      <td>1</td>\n",
              "      <td>56</td>\n",
              "      <td>다정동</td>\n",
              "      <td>충청북도</td>\n",
              "      <td>청주시흥덕구</td>\n",
              "      <td>오송읍</td>\n",
              "    </tr>\n",
              "    <tr>\n",
              "      <th>108079</th>\n",
              "      <td>202101</td>\n",
              "      <td>2021</td>\n",
              "      <td>1</td>\n",
              "      <td>32</td>\n",
              "      <td>다정동</td>\n",
              "      <td>충청북도</td>\n",
              "      <td>청주시흥덕구</td>\n",
              "      <td>옥산면</td>\n",
              "    </tr>\n",
              "    <tr>\n",
              "      <th>108080</th>\n",
              "      <td>202101</td>\n",
              "      <td>2021</td>\n",
              "      <td>1</td>\n",
              "      <td>8</td>\n",
              "      <td>다정동</td>\n",
              "      <td>충청북도</td>\n",
              "      <td>충주시</td>\n",
              "      <td>교현·안림동</td>\n",
              "    </tr>\n",
              "    <tr>\n",
              "      <th>108081</th>\n",
              "      <td>202101</td>\n",
              "      <td>2021</td>\n",
              "      <td>1</td>\n",
              "      <td>9</td>\n",
              "      <td>다정동</td>\n",
              "      <td>충청북도</td>\n",
              "      <td>충주시</td>\n",
              "      <td>중앙탑면</td>\n",
              "    </tr>\n",
              "  </tbody>\n",
              "</table>\n",
              "<p>108082 rows × 8 columns</p>\n",
              "</div>"
            ],
            "text/plain": [
              "            년월     년  월  전입자수 세종전입행정동   전출시   전출시군구   전출읍면동\n",
              "0       201701  2017  1     1    조치원읍   강원도     강릉시     교1동\n",
              "1       201701  2017  1     6    조치원읍   강원도     동해시     천곡동\n",
              "2       201701  2017  1    14    조치원읍   강원도     속초시      교동\n",
              "3       201701  2017  1    21    조치원읍   강원도     양양군      서면\n",
              "4       201701  2017  1     2    조치원읍   강원도     원주시     원인동\n",
              "...        ...   ... ..   ...     ...   ...     ...     ...\n",
              "108077  202101  2021  1     3     다정동  충청북도  청주시흥덕구    복대1동\n",
              "108078  202101  2021  1    56     다정동  충청북도  청주시흥덕구     오송읍\n",
              "108079  202101  2021  1    32     다정동  충청북도  청주시흥덕구     옥산면\n",
              "108080  202101  2021  1     8     다정동  충청북도     충주시  교현·안림동\n",
              "108081  202101  2021  1     9     다정동  충청북도     충주시    중앙탑면\n",
              "\n",
              "[108082 rows x 8 columns]"
            ]
          },
          "metadata": {
            "tags": []
          },
          "execution_count": 45
        }
      ]
    },
    {
      "cell_type": "code",
      "metadata": {
        "id": "QcHevKGNobS1"
      },
      "source": [
        "in_data.drop(['전출시', '전출시군구', '전출읍면동'], axis = 1, inplace=True)"
      ],
      "execution_count": 46,
      "outputs": []
    },
    {
      "cell_type": "code",
      "metadata": {
        "colab": {
          "base_uri": "https://localhost:8080/",
          "height": 410
        },
        "id": "JmUyu9EwoqU1",
        "outputId": "bacf4739-620d-4f53-b190-57f091c4afbe"
      },
      "source": [
        "in_data[is_2017]"
      ],
      "execution_count": 47,
      "outputs": [
        {
          "output_type": "execute_result",
          "data": {
            "text/html": [
              "<div>\n",
              "<style scoped>\n",
              "    .dataframe tbody tr th:only-of-type {\n",
              "        vertical-align: middle;\n",
              "    }\n",
              "\n",
              "    .dataframe tbody tr th {\n",
              "        vertical-align: top;\n",
              "    }\n",
              "\n",
              "    .dataframe thead th {\n",
              "        text-align: right;\n",
              "    }\n",
              "</style>\n",
              "<table border=\"1\" class=\"dataframe\">\n",
              "  <thead>\n",
              "    <tr style=\"text-align: right;\">\n",
              "      <th></th>\n",
              "      <th>년월</th>\n",
              "      <th>년</th>\n",
              "      <th>월</th>\n",
              "      <th>전입자수</th>\n",
              "      <th>세종전입행정동</th>\n",
              "    </tr>\n",
              "  </thead>\n",
              "  <tbody>\n",
              "    <tr>\n",
              "      <th>0</th>\n",
              "      <td>201701</td>\n",
              "      <td>2017</td>\n",
              "      <td>1</td>\n",
              "      <td>1</td>\n",
              "      <td>조치원읍</td>\n",
              "    </tr>\n",
              "    <tr>\n",
              "      <th>1</th>\n",
              "      <td>201701</td>\n",
              "      <td>2017</td>\n",
              "      <td>1</td>\n",
              "      <td>6</td>\n",
              "      <td>조치원읍</td>\n",
              "    </tr>\n",
              "    <tr>\n",
              "      <th>2</th>\n",
              "      <td>201701</td>\n",
              "      <td>2017</td>\n",
              "      <td>1</td>\n",
              "      <td>14</td>\n",
              "      <td>조치원읍</td>\n",
              "    </tr>\n",
              "    <tr>\n",
              "      <th>3</th>\n",
              "      <td>201701</td>\n",
              "      <td>2017</td>\n",
              "      <td>1</td>\n",
              "      <td>21</td>\n",
              "      <td>조치원읍</td>\n",
              "    </tr>\n",
              "    <tr>\n",
              "      <th>4</th>\n",
              "      <td>201701</td>\n",
              "      <td>2017</td>\n",
              "      <td>1</td>\n",
              "      <td>2</td>\n",
              "      <td>조치원읍</td>\n",
              "    </tr>\n",
              "    <tr>\n",
              "      <th>...</th>\n",
              "      <td>...</td>\n",
              "      <td>...</td>\n",
              "      <td>...</td>\n",
              "      <td>...</td>\n",
              "      <td>...</td>\n",
              "    </tr>\n",
              "    <tr>\n",
              "      <th>23491</th>\n",
              "      <td>201712</td>\n",
              "      <td>2017</td>\n",
              "      <td>12</td>\n",
              "      <td>16</td>\n",
              "      <td>보람동</td>\n",
              "    </tr>\n",
              "    <tr>\n",
              "      <th>23492</th>\n",
              "      <td>201712</td>\n",
              "      <td>2017</td>\n",
              "      <td>12</td>\n",
              "      <td>238</td>\n",
              "      <td>보람동</td>\n",
              "    </tr>\n",
              "    <tr>\n",
              "      <th>23493</th>\n",
              "      <td>201712</td>\n",
              "      <td>2017</td>\n",
              "      <td>12</td>\n",
              "      <td>16</td>\n",
              "      <td>보람동</td>\n",
              "    </tr>\n",
              "    <tr>\n",
              "      <th>23494</th>\n",
              "      <td>201712</td>\n",
              "      <td>2017</td>\n",
              "      <td>12</td>\n",
              "      <td>6</td>\n",
              "      <td>보람동</td>\n",
              "    </tr>\n",
              "    <tr>\n",
              "      <th>23495</th>\n",
              "      <td>201712</td>\n",
              "      <td>2017</td>\n",
              "      <td>12</td>\n",
              "      <td>2</td>\n",
              "      <td>보람동</td>\n",
              "    </tr>\n",
              "  </tbody>\n",
              "</table>\n",
              "<p>23496 rows × 5 columns</p>\n",
              "</div>"
            ],
            "text/plain": [
              "           년월     년   월  전입자수 세종전입행정동\n",
              "0      201701  2017   1     1    조치원읍\n",
              "1      201701  2017   1     6    조치원읍\n",
              "2      201701  2017   1    14    조치원읍\n",
              "3      201701  2017   1    21    조치원읍\n",
              "4      201701  2017   1     2    조치원읍\n",
              "...       ...   ...  ..   ...     ...\n",
              "23491  201712  2017  12    16     보람동\n",
              "23492  201712  2017  12   238     보람동\n",
              "23493  201712  2017  12    16     보람동\n",
              "23494  201712  2017  12     6     보람동\n",
              "23495  201712  2017  12     2     보람동\n",
              "\n",
              "[23496 rows x 5 columns]"
            ]
          },
          "metadata": {
            "tags": []
          },
          "execution_count": 47
        }
      ]
    },
    {
      "cell_type": "code",
      "metadata": {
        "id": "guZ6ys_aoVp_"
      },
      "source": [
        ""
      ],
      "execution_count": null,
      "outputs": []
    },
    {
      "cell_type": "markdown",
      "metadata": {
        "id": "wM3NflmnvT-O"
      },
      "source": [
        "# 전출인구"
      ]
    },
    {
      "cell_type": "code",
      "metadata": {
        "id": "VVDNVCfcvVZF"
      },
      "source": [
        "out_data = pd.read_csv('/content/21.세종시_전출자수.csv', encoding='utf-8')"
      ],
      "execution_count": 50,
      "outputs": []
    },
    {
      "cell_type": "code",
      "metadata": {
        "colab": {
          "base_uri": "https://localhost:8080/",
          "height": 410
        },
        "id": "gGzxgaewvp2f",
        "outputId": "b35e5cc1-443d-4360-8fdd-009ecfacee49"
      },
      "source": [
        "out_data"
      ],
      "execution_count": 51,
      "outputs": [
        {
          "output_type": "execute_result",
          "data": {
            "text/html": [
              "<div>\n",
              "<style scoped>\n",
              "    .dataframe tbody tr th:only-of-type {\n",
              "        vertical-align: middle;\n",
              "    }\n",
              "\n",
              "    .dataframe tbody tr th {\n",
              "        vertical-align: top;\n",
              "    }\n",
              "\n",
              "    .dataframe thead th {\n",
              "        text-align: right;\n",
              "    }\n",
              "</style>\n",
              "<table border=\"1\" class=\"dataframe\">\n",
              "  <thead>\n",
              "    <tr style=\"text-align: right;\">\n",
              "      <th></th>\n",
              "      <th>년월</th>\n",
              "      <th>년</th>\n",
              "      <th>월</th>\n",
              "      <th>전출자수</th>\n",
              "      <th>세종전출행정동</th>\n",
              "      <th>전입시</th>\n",
              "      <th>전입시군구</th>\n",
              "      <th>전입읍면동</th>\n",
              "    </tr>\n",
              "  </thead>\n",
              "  <tbody>\n",
              "    <tr>\n",
              "      <th>0</th>\n",
              "      <td>201701</td>\n",
              "      <td>2017</td>\n",
              "      <td>1</td>\n",
              "      <td>3</td>\n",
              "      <td>조치원읍</td>\n",
              "      <td>강원도</td>\n",
              "      <td>원주시</td>\n",
              "      <td>단계동</td>\n",
              "    </tr>\n",
              "    <tr>\n",
              "      <th>1</th>\n",
              "      <td>201701</td>\n",
              "      <td>2017</td>\n",
              "      <td>1</td>\n",
              "      <td>9</td>\n",
              "      <td>조치원읍</td>\n",
              "      <td>강원도</td>\n",
              "      <td>춘천시</td>\n",
              "      <td>신사우동</td>\n",
              "    </tr>\n",
              "    <tr>\n",
              "      <th>2</th>\n",
              "      <td>201701</td>\n",
              "      <td>2017</td>\n",
              "      <td>1</td>\n",
              "      <td>13</td>\n",
              "      <td>조치원읍</td>\n",
              "      <td>강원도</td>\n",
              "      <td>홍천군</td>\n",
              "      <td>서면</td>\n",
              "    </tr>\n",
              "    <tr>\n",
              "      <th>3</th>\n",
              "      <td>201701</td>\n",
              "      <td>2017</td>\n",
              "      <td>1</td>\n",
              "      <td>3</td>\n",
              "      <td>조치원읍</td>\n",
              "      <td>경기도</td>\n",
              "      <td>고양시 덕양구</td>\n",
              "      <td>행주동</td>\n",
              "    </tr>\n",
              "    <tr>\n",
              "      <th>4</th>\n",
              "      <td>201701</td>\n",
              "      <td>2017</td>\n",
              "      <td>1</td>\n",
              "      <td>1</td>\n",
              "      <td>조치원읍</td>\n",
              "      <td>경기도</td>\n",
              "      <td>고양시 덕양구</td>\n",
              "      <td>화정1동</td>\n",
              "    </tr>\n",
              "    <tr>\n",
              "      <th>...</th>\n",
              "      <td>...</td>\n",
              "      <td>...</td>\n",
              "      <td>...</td>\n",
              "      <td>...</td>\n",
              "      <td>...</td>\n",
              "      <td>...</td>\n",
              "      <td>...</td>\n",
              "      <td>...</td>\n",
              "    </tr>\n",
              "    <tr>\n",
              "      <th>80987</th>\n",
              "      <td>202101</td>\n",
              "      <td>2021</td>\n",
              "      <td>1</td>\n",
              "      <td>22</td>\n",
              "      <td>다정동</td>\n",
              "      <td>충청북도</td>\n",
              "      <td>옥천군</td>\n",
              "      <td>옥천읍</td>\n",
              "    </tr>\n",
              "    <tr>\n",
              "      <th>80988</th>\n",
              "      <td>202101</td>\n",
              "      <td>2021</td>\n",
              "      <td>1</td>\n",
              "      <td>2</td>\n",
              "      <td>다정동</td>\n",
              "      <td>충청북도</td>\n",
              "      <td>청주시상당구</td>\n",
              "      <td>용암1동</td>\n",
              "    </tr>\n",
              "    <tr>\n",
              "      <th>80989</th>\n",
              "      <td>202101</td>\n",
              "      <td>2021</td>\n",
              "      <td>1</td>\n",
              "      <td>35</td>\n",
              "      <td>다정동</td>\n",
              "      <td>충청북도</td>\n",
              "      <td>청주시청원구</td>\n",
              "      <td>오창읍</td>\n",
              "    </tr>\n",
              "    <tr>\n",
              "      <th>80990</th>\n",
              "      <td>202101</td>\n",
              "      <td>2021</td>\n",
              "      <td>1</td>\n",
              "      <td>13</td>\n",
              "      <td>다정동</td>\n",
              "      <td>충청북도</td>\n",
              "      <td>청주시흥덕구</td>\n",
              "      <td>강서제1동</td>\n",
              "    </tr>\n",
              "    <tr>\n",
              "      <th>80991</th>\n",
              "      <td>202101</td>\n",
              "      <td>2021</td>\n",
              "      <td>1</td>\n",
              "      <td>84</td>\n",
              "      <td>다정동</td>\n",
              "      <td>충청북도</td>\n",
              "      <td>청주시흥덕구</td>\n",
              "      <td>오송읍</td>\n",
              "    </tr>\n",
              "  </tbody>\n",
              "</table>\n",
              "<p>80992 rows × 8 columns</p>\n",
              "</div>"
            ],
            "text/plain": [
              "           년월     년  월  전출자수 세종전출행정동   전입시    전입시군구  전입읍면동\n",
              "0      201701  2017  1     3    조치원읍   강원도      원주시    단계동\n",
              "1      201701  2017  1     9    조치원읍   강원도      춘천시   신사우동\n",
              "2      201701  2017  1    13    조치원읍   강원도      홍천군     서면\n",
              "3      201701  2017  1     3    조치원읍   경기도  고양시 덕양구    행주동\n",
              "4      201701  2017  1     1    조치원읍   경기도  고양시 덕양구   화정1동\n",
              "...       ...   ... ..   ...     ...   ...      ...    ...\n",
              "80987  202101  2021  1    22     다정동  충청북도      옥천군    옥천읍\n",
              "80988  202101  2021  1     2     다정동  충청북도   청주시상당구   용암1동\n",
              "80989  202101  2021  1    35     다정동  충청북도   청주시청원구    오창읍\n",
              "80990  202101  2021  1    13     다정동  충청북도   청주시흥덕구  강서제1동\n",
              "80991  202101  2021  1    84     다정동  충청북도   청주시흥덕구    오송읍\n",
              "\n",
              "[80992 rows x 8 columns]"
            ]
          },
          "metadata": {
            "tags": []
          },
          "execution_count": 51
        }
      ]
    },
    {
      "cell_type": "code",
      "metadata": {
        "colab": {
          "base_uri": "https://localhost:8080/"
        },
        "id": "IIuQzFojvrDT",
        "outputId": "102aa090-0c20-4d06-a6b5-0880fe482b96"
      },
      "source": [
        "#2019년전출\r\n",
        "out_data.info()\r\n",
        "is_2019 = out_data['년']==2019\r\n",
        "out_data_2019 = out_data[is_2019]\r\n",
        "out_data_2019 = out_data_2019.groupby(['년', '월', '세종전출행정동']).sum()\r\n",
        "out_data_2019 = out_data_2019.reset_index()\r\n",
        "out_data_2019.to_csv('2019전출.csv')"
      ],
      "execution_count": 53,
      "outputs": [
        {
          "output_type": "stream",
          "text": [
            "<class 'pandas.core.frame.DataFrame'>\n",
            "RangeIndex: 80992 entries, 0 to 80991\n",
            "Data columns (total 8 columns):\n",
            " #   Column   Non-Null Count  Dtype \n",
            "---  ------   --------------  ----- \n",
            " 0   년월       80992 non-null  int64 \n",
            " 1   년        80992 non-null  int64 \n",
            " 2   월        80992 non-null  int64 \n",
            " 3   전출자수     80992 non-null  int64 \n",
            " 4   세종전출행정동  80992 non-null  object\n",
            " 5   전입시      80992 non-null  object\n",
            " 6   전입시군구    80992 non-null  object\n",
            " 7   전입읍면동    80992 non-null  object\n",
            "dtypes: int64(4), object(4)\n",
            "memory usage: 4.9+ MB\n"
          ],
          "name": "stdout"
        }
      ]
    },
    {
      "cell_type": "code",
      "metadata": {
        "colab": {
          "base_uri": "https://localhost:8080/"
        },
        "id": "1oWgsp3bw1fc",
        "outputId": "dbaa3399-c541-40df-945a-670bd744bb74"
      },
      "source": [
        "#2020년전출\r\n",
        "out_data.info()\r\n",
        "is_2020 = out_data['년']==2020\r\n",
        "out_data_2020 = out_data[is_2020]\r\n",
        "out_data_2020 = out_data_2020.groupby(['년', '월', '세종전출행정동']).sum()\r\n",
        "out_data_2020 = out_data_2020.reset_index()\r\n",
        "out_data_2020.to_csv('2020전출.csv')"
      ],
      "execution_count": 54,
      "outputs": [
        {
          "output_type": "stream",
          "text": [
            "<class 'pandas.core.frame.DataFrame'>\n",
            "RangeIndex: 80992 entries, 0 to 80991\n",
            "Data columns (total 8 columns):\n",
            " #   Column   Non-Null Count  Dtype \n",
            "---  ------   --------------  ----- \n",
            " 0   년월       80992 non-null  int64 \n",
            " 1   년        80992 non-null  int64 \n",
            " 2   월        80992 non-null  int64 \n",
            " 3   전출자수     80992 non-null  int64 \n",
            " 4   세종전출행정동  80992 non-null  object\n",
            " 5   전입시      80992 non-null  object\n",
            " 6   전입시군구    80992 non-null  object\n",
            " 7   전입읍면동    80992 non-null  object\n",
            "dtypes: int64(4), object(4)\n",
            "memory usage: 4.9+ MB\n"
          ],
          "name": "stdout"
        }
      ]
    },
    {
      "cell_type": "markdown",
      "metadata": {
        "id": "uMmvsierJdOj"
      },
      "source": [
        "# 전입전출 비교"
      ]
    },
    {
      "cell_type": "code",
      "metadata": {
        "id": "Eim0WZDqJgqg"
      },
      "source": [
        "in_data = pd.read_excel('/content/1920전입.xlsx')"
      ],
      "execution_count": 56,
      "outputs": []
    },
    {
      "cell_type": "code",
      "metadata": {
        "id": "PfDAre5bJxEJ"
      },
      "source": [
        "out_data = pd.read_excel('/content/1920전출.xlsx')"
      ],
      "execution_count": 57,
      "outputs": []
    },
    {
      "cell_type": "code",
      "metadata": {
        "colab": {
          "base_uri": "https://localhost:8080/"
        },
        "id": "Vm1u7htcJ1yw",
        "outputId": "06d7edf4-2b99-4fb8-e0ef-e56b073125cc"
      },
      "source": [
        "in_data"
      ],
      "execution_count": 59,
      "outputs": [
        {
          "output_type": "execute_result",
          "data": {
            "text/plain": [
              "(        년   월 세종전입행정동   전입자수\n",
              " 0    2019   1     고운동   5686\n",
              " 1    2019   1     금남면   1567\n",
              " 2    2019   1     대평동   5573\n",
              " 3    2019   1     도담동   4445\n",
              " 4    2019   1     보람동   2176\n",
              " ..    ...  ..     ...    ...\n",
              " 457  2020  12     전동면    334\n",
              " 458  2020  12     전의면    733\n",
              " 459  2020  12    조치원읍  10588\n",
              " 460  2020  12     종촌동   2705\n",
              " 461  2020  12     한솔동   1545\n",
              " \n",
              " [462 rows x 4 columns],         년   월 세종전출행정동  전출자수\n",
              " 0    2020   1     고운동  2638\n",
              " 1    2020   1     금남면  1803\n",
              " 2    2020   1     대평동  1036\n",
              " 3    2020   1     도담동  3979\n",
              " 4    2020   1     보람동  2045\n",
              " ..    ...  ..     ...   ...\n",
              " 456  2019  12     전동면   333\n",
              " 457  2019  12     전의면   677\n",
              " 458  2019  12    조치원읍  6599\n",
              " 459  2019  12     종촌동  1843\n",
              " 460  2019  12     한솔동  1505\n",
              " \n",
              " [461 rows x 4 columns])"
            ]
          },
          "metadata": {
            "tags": []
          },
          "execution_count": 59
        }
      ]
    },
    {
      "cell_type": "code",
      "metadata": {
        "id": "L_nc-msFP6eX"
      },
      "source": [
        "in_data = in_data.set_index('세종전입행정동')"
      ],
      "execution_count": 116,
      "outputs": []
    },
    {
      "cell_type": "code",
      "metadata": {
        "id": "eYtHyF1PJvUi"
      },
      "source": [
        "out_data = out_data.sort_values(by=['년', '월'], ascending=True)\n",
        "out_data = out_data.reset_index()\n",
        "out_data.drop('index', axis=1, inplace=True)"
      ],
      "execution_count": 79,
      "outputs": []
    },
    {
      "cell_type": "code",
      "metadata": {
        "id": "N77UCeFIO2zZ"
      },
      "source": [
        "out_data = out_data.set_index('세종전출행정동')"
      ],
      "execution_count": 113,
      "outputs": []
    },
    {
      "cell_type": "code",
      "metadata": {
        "colab": {
          "base_uri": "https://localhost:8080/",
          "height": 440
        },
        "id": "nh1dVWP7QVqJ",
        "outputId": "f524962b-0feb-4b5f-c872-a047ba82c867"
      },
      "source": [
        "out_data"
      ],
      "execution_count": 121,
      "outputs": [
        {
          "output_type": "execute_result",
          "data": {
            "text/html": [
              "<div>\n",
              "<style scoped>\n",
              "    .dataframe tbody tr th:only-of-type {\n",
              "        vertical-align: middle;\n",
              "    }\n",
              "\n",
              "    .dataframe tbody tr th {\n",
              "        vertical-align: top;\n",
              "    }\n",
              "\n",
              "    .dataframe thead th {\n",
              "        text-align: right;\n",
              "    }\n",
              "</style>\n",
              "<table border=\"1\" class=\"dataframe\">\n",
              "  <thead>\n",
              "    <tr style=\"text-align: right;\">\n",
              "      <th></th>\n",
              "      <th>년</th>\n",
              "      <th>월</th>\n",
              "      <th>전출자수</th>\n",
              "    </tr>\n",
              "    <tr>\n",
              "      <th>세종전출행정동</th>\n",
              "      <th></th>\n",
              "      <th></th>\n",
              "      <th></th>\n",
              "    </tr>\n",
              "  </thead>\n",
              "  <tbody>\n",
              "    <tr>\n",
              "      <th>고운동</th>\n",
              "      <td>2019</td>\n",
              "      <td>1</td>\n",
              "      <td>2029</td>\n",
              "    </tr>\n",
              "    <tr>\n",
              "      <th>금남면</th>\n",
              "      <td>2019</td>\n",
              "      <td>1</td>\n",
              "      <td>1560</td>\n",
              "    </tr>\n",
              "    <tr>\n",
              "      <th>대평동</th>\n",
              "      <td>2019</td>\n",
              "      <td>1</td>\n",
              "      <td>898</td>\n",
              "    </tr>\n",
              "    <tr>\n",
              "      <th>도담동</th>\n",
              "      <td>2019</td>\n",
              "      <td>1</td>\n",
              "      <td>3972</td>\n",
              "    </tr>\n",
              "    <tr>\n",
              "      <th>보람동</th>\n",
              "      <td>2019</td>\n",
              "      <td>1</td>\n",
              "      <td>1019</td>\n",
              "    </tr>\n",
              "    <tr>\n",
              "      <th>...</th>\n",
              "      <td>...</td>\n",
              "      <td>...</td>\n",
              "      <td>...</td>\n",
              "    </tr>\n",
              "    <tr>\n",
              "      <th>전동면</th>\n",
              "      <td>2020</td>\n",
              "      <td>12</td>\n",
              "      <td>487</td>\n",
              "    </tr>\n",
              "    <tr>\n",
              "      <th>전의면</th>\n",
              "      <td>2020</td>\n",
              "      <td>12</td>\n",
              "      <td>712</td>\n",
              "    </tr>\n",
              "    <tr>\n",
              "      <th>조치원읍</th>\n",
              "      <td>2020</td>\n",
              "      <td>12</td>\n",
              "      <td>9915</td>\n",
              "    </tr>\n",
              "    <tr>\n",
              "      <th>종촌동</th>\n",
              "      <td>2020</td>\n",
              "      <td>12</td>\n",
              "      <td>3004</td>\n",
              "    </tr>\n",
              "    <tr>\n",
              "      <th>한솔동</th>\n",
              "      <td>2020</td>\n",
              "      <td>12</td>\n",
              "      <td>1723</td>\n",
              "    </tr>\n",
              "  </tbody>\n",
              "</table>\n",
              "<p>461 rows × 3 columns</p>\n",
              "</div>"
            ],
            "text/plain": [
              "            년   월  전출자수\n",
              "세종전출행정동                \n",
              "고운동      2019   1  2029\n",
              "금남면      2019   1  1560\n",
              "대평동      2019   1   898\n",
              "도담동      2019   1  3972\n",
              "보람동      2019   1  1019\n",
              "...       ...  ..   ...\n",
              "전동면      2020  12   487\n",
              "전의면      2020  12   712\n",
              "조치원읍     2020  12  9915\n",
              "종촌동      2020  12  3004\n",
              "한솔동      2020  12  1723\n",
              "\n",
              "[461 rows x 3 columns]"
            ]
          },
          "metadata": {
            "tags": []
          },
          "execution_count": 121
        }
      ]
    },
    {
      "cell_type": "code",
      "metadata": {
        "colab": {
          "base_uri": "https://localhost:8080/",
          "height": 440
        },
        "id": "EA5RiBovQGYx",
        "outputId": "14454ecd-4dd4-47ae-9514-a56aa366c0f4"
      },
      "source": [
        "in_data"
      ],
      "execution_count": 119,
      "outputs": [
        {
          "output_type": "execute_result",
          "data": {
            "text/html": [
              "<div>\n",
              "<style scoped>\n",
              "    .dataframe tbody tr th:only-of-type {\n",
              "        vertical-align: middle;\n",
              "    }\n",
              "\n",
              "    .dataframe tbody tr th {\n",
              "        vertical-align: top;\n",
              "    }\n",
              "\n",
              "    .dataframe thead th {\n",
              "        text-align: right;\n",
              "    }\n",
              "</style>\n",
              "<table border=\"1\" class=\"dataframe\">\n",
              "  <thead>\n",
              "    <tr style=\"text-align: right;\">\n",
              "      <th></th>\n",
              "      <th>년</th>\n",
              "      <th>월</th>\n",
              "      <th>전입자수</th>\n",
              "    </tr>\n",
              "    <tr>\n",
              "      <th>세종전입행정동</th>\n",
              "      <th></th>\n",
              "      <th></th>\n",
              "      <th></th>\n",
              "    </tr>\n",
              "  </thead>\n",
              "  <tbody>\n",
              "    <tr>\n",
              "      <th>고운동</th>\n",
              "      <td>2019</td>\n",
              "      <td>1</td>\n",
              "      <td>5686</td>\n",
              "    </tr>\n",
              "    <tr>\n",
              "      <th>금남면</th>\n",
              "      <td>2019</td>\n",
              "      <td>1</td>\n",
              "      <td>1567</td>\n",
              "    </tr>\n",
              "    <tr>\n",
              "      <th>대평동</th>\n",
              "      <td>2019</td>\n",
              "      <td>1</td>\n",
              "      <td>5573</td>\n",
              "    </tr>\n",
              "    <tr>\n",
              "      <th>도담동</th>\n",
              "      <td>2019</td>\n",
              "      <td>1</td>\n",
              "      <td>4445</td>\n",
              "    </tr>\n",
              "    <tr>\n",
              "      <th>보람동</th>\n",
              "      <td>2019</td>\n",
              "      <td>1</td>\n",
              "      <td>2176</td>\n",
              "    </tr>\n",
              "    <tr>\n",
              "      <th>...</th>\n",
              "      <td>...</td>\n",
              "      <td>...</td>\n",
              "      <td>...</td>\n",
              "    </tr>\n",
              "    <tr>\n",
              "      <th>전동면</th>\n",
              "      <td>2020</td>\n",
              "      <td>12</td>\n",
              "      <td>334</td>\n",
              "    </tr>\n",
              "    <tr>\n",
              "      <th>전의면</th>\n",
              "      <td>2020</td>\n",
              "      <td>12</td>\n",
              "      <td>733</td>\n",
              "    </tr>\n",
              "    <tr>\n",
              "      <th>조치원읍</th>\n",
              "      <td>2020</td>\n",
              "      <td>12</td>\n",
              "      <td>10588</td>\n",
              "    </tr>\n",
              "    <tr>\n",
              "      <th>종촌동</th>\n",
              "      <td>2020</td>\n",
              "      <td>12</td>\n",
              "      <td>2705</td>\n",
              "    </tr>\n",
              "    <tr>\n",
              "      <th>한솔동</th>\n",
              "      <td>2020</td>\n",
              "      <td>12</td>\n",
              "      <td>1545</td>\n",
              "    </tr>\n",
              "  </tbody>\n",
              "</table>\n",
              "<p>462 rows × 3 columns</p>\n",
              "</div>"
            ],
            "text/plain": [
              "            년   월   전입자수\n",
              "세종전입행정동                 \n",
              "고운동      2019   1   5686\n",
              "금남면      2019   1   1567\n",
              "대평동      2019   1   5573\n",
              "도담동      2019   1   4445\n",
              "보람동      2019   1   2176\n",
              "...       ...  ..    ...\n",
              "전동면      2020  12    334\n",
              "전의면      2020  12    733\n",
              "조치원읍     2020  12  10588\n",
              "종촌동      2020  12   2705\n",
              "한솔동      2020  12   1545\n",
              "\n",
              "[462 rows x 3 columns]"
            ]
          },
          "metadata": {
            "tags": []
          },
          "execution_count": 119
        }
      ]
    },
    {
      "cell_type": "code",
      "metadata": {
        "colab": {
          "base_uri": "https://localhost:8080/",
          "height": 410
        },
        "id": "6lr0ZAkuPIqQ",
        "outputId": "d4be2f29-0d17-4f44-c986-f2caaae893d9"
      },
      "source": [
        "in_data.join(out_data, how='left', lsuffix='in', rsuffix='out')"
      ],
      "execution_count": 120,
      "outputs": [
        {
          "output_type": "execute_result",
          "data": {
            "text/html": [
              "<div>\n",
              "<style scoped>\n",
              "    .dataframe tbody tr th:only-of-type {\n",
              "        vertical-align: middle;\n",
              "    }\n",
              "\n",
              "    .dataframe tbody tr th {\n",
              "        vertical-align: top;\n",
              "    }\n",
              "\n",
              "    .dataframe thead th {\n",
              "        text-align: right;\n",
              "    }\n",
              "</style>\n",
              "<table border=\"1\" class=\"dataframe\">\n",
              "  <thead>\n",
              "    <tr style=\"text-align: right;\">\n",
              "      <th></th>\n",
              "      <th>년in</th>\n",
              "      <th>월in</th>\n",
              "      <th>전입자수</th>\n",
              "      <th>년out</th>\n",
              "      <th>월out</th>\n",
              "      <th>전출자수</th>\n",
              "    </tr>\n",
              "  </thead>\n",
              "  <tbody>\n",
              "    <tr>\n",
              "      <th>고운동</th>\n",
              "      <td>2019</td>\n",
              "      <td>1</td>\n",
              "      <td>5686</td>\n",
              "      <td>2019</td>\n",
              "      <td>1</td>\n",
              "      <td>2029</td>\n",
              "    </tr>\n",
              "    <tr>\n",
              "      <th>고운동</th>\n",
              "      <td>2019</td>\n",
              "      <td>1</td>\n",
              "      <td>5686</td>\n",
              "      <td>2019</td>\n",
              "      <td>2</td>\n",
              "      <td>2620</td>\n",
              "    </tr>\n",
              "    <tr>\n",
              "      <th>고운동</th>\n",
              "      <td>2019</td>\n",
              "      <td>1</td>\n",
              "      <td>5686</td>\n",
              "      <td>2019</td>\n",
              "      <td>3</td>\n",
              "      <td>2211</td>\n",
              "    </tr>\n",
              "    <tr>\n",
              "      <th>고운동</th>\n",
              "      <td>2019</td>\n",
              "      <td>1</td>\n",
              "      <td>5686</td>\n",
              "      <td>2019</td>\n",
              "      <td>4</td>\n",
              "      <td>1850</td>\n",
              "    </tr>\n",
              "    <tr>\n",
              "      <th>고운동</th>\n",
              "      <td>2019</td>\n",
              "      <td>1</td>\n",
              "      <td>5686</td>\n",
              "      <td>2019</td>\n",
              "      <td>5</td>\n",
              "      <td>2600</td>\n",
              "    </tr>\n",
              "    <tr>\n",
              "      <th>...</th>\n",
              "      <td>...</td>\n",
              "      <td>...</td>\n",
              "      <td>...</td>\n",
              "      <td>...</td>\n",
              "      <td>...</td>\n",
              "      <td>...</td>\n",
              "    </tr>\n",
              "    <tr>\n",
              "      <th>한솔동</th>\n",
              "      <td>2020</td>\n",
              "      <td>12</td>\n",
              "      <td>1545</td>\n",
              "      <td>2020</td>\n",
              "      <td>8</td>\n",
              "      <td>1292</td>\n",
              "    </tr>\n",
              "    <tr>\n",
              "      <th>한솔동</th>\n",
              "      <td>2020</td>\n",
              "      <td>12</td>\n",
              "      <td>1545</td>\n",
              "      <td>2020</td>\n",
              "      <td>9</td>\n",
              "      <td>1775</td>\n",
              "    </tr>\n",
              "    <tr>\n",
              "      <th>한솔동</th>\n",
              "      <td>2020</td>\n",
              "      <td>12</td>\n",
              "      <td>1545</td>\n",
              "      <td>2020</td>\n",
              "      <td>10</td>\n",
              "      <td>2062</td>\n",
              "    </tr>\n",
              "    <tr>\n",
              "      <th>한솔동</th>\n",
              "      <td>2020</td>\n",
              "      <td>12</td>\n",
              "      <td>1545</td>\n",
              "      <td>2020</td>\n",
              "      <td>11</td>\n",
              "      <td>1979</td>\n",
              "    </tr>\n",
              "    <tr>\n",
              "      <th>한솔동</th>\n",
              "      <td>2020</td>\n",
              "      <td>12</td>\n",
              "      <td>1545</td>\n",
              "      <td>2020</td>\n",
              "      <td>12</td>\n",
              "      <td>1723</td>\n",
              "    </tr>\n",
              "  </tbody>\n",
              "</table>\n",
              "<p>10974 rows × 6 columns</p>\n",
              "</div>"
            ],
            "text/plain": [
              "      년in  월in  전입자수  년out  월out  전출자수\n",
              "고운동  2019    1  5686  2019     1  2029\n",
              "고운동  2019    1  5686  2019     2  2620\n",
              "고운동  2019    1  5686  2019     3  2211\n",
              "고운동  2019    1  5686  2019     4  1850\n",
              "고운동  2019    1  5686  2019     5  2600\n",
              "..    ...  ...   ...   ...   ...   ...\n",
              "한솔동  2020   12  1545  2020     8  1292\n",
              "한솔동  2020   12  1545  2020     9  1775\n",
              "한솔동  2020   12  1545  2020    10  2062\n",
              "한솔동  2020   12  1545  2020    11  1979\n",
              "한솔동  2020   12  1545  2020    12  1723\n",
              "\n",
              "[10974 rows x 6 columns]"
            ]
          },
          "metadata": {
            "tags": []
          },
          "execution_count": 120
        }
      ]
    },
    {
      "cell_type": "code",
      "metadata": {
        "colab": {
          "base_uri": "https://localhost:8080/",
          "height": 410
        },
        "id": "c3Is84isLWM_",
        "outputId": "1e8c8e11-d8c8-40da-bc21-61ca30febed6"
      },
      "source": [
        "pd.concat([in_data, out_data], axis=1)"
      ],
      "execution_count": 104,
      "outputs": [
        {
          "output_type": "execute_result",
          "data": {
            "text/html": [
              "<div>\n",
              "<style scoped>\n",
              "    .dataframe tbody tr th:only-of-type {\n",
              "        vertical-align: middle;\n",
              "    }\n",
              "\n",
              "    .dataframe tbody tr th {\n",
              "        vertical-align: top;\n",
              "    }\n",
              "\n",
              "    .dataframe thead th {\n",
              "        text-align: right;\n",
              "    }\n",
              "</style>\n",
              "<table border=\"1\" class=\"dataframe\">\n",
              "  <thead>\n",
              "    <tr style=\"text-align: right;\">\n",
              "      <th></th>\n",
              "      <th>년</th>\n",
              "      <th>월</th>\n",
              "      <th>세종전입행정동</th>\n",
              "      <th>전입자수</th>\n",
              "      <th>index</th>\n",
              "      <th>년</th>\n",
              "      <th>월</th>\n",
              "      <th>세종전출행정동</th>\n",
              "      <th>전출자수</th>\n",
              "    </tr>\n",
              "  </thead>\n",
              "  <tbody>\n",
              "    <tr>\n",
              "      <th>0</th>\n",
              "      <td>2019</td>\n",
              "      <td>1</td>\n",
              "      <td>고운동</td>\n",
              "      <td>5686</td>\n",
              "      <td>233.0</td>\n",
              "      <td>2019.0</td>\n",
              "      <td>1.0</td>\n",
              "      <td>고운동</td>\n",
              "      <td>2029.0</td>\n",
              "    </tr>\n",
              "    <tr>\n",
              "      <th>1</th>\n",
              "      <td>2019</td>\n",
              "      <td>1</td>\n",
              "      <td>금남면</td>\n",
              "      <td>1567</td>\n",
              "      <td>234.0</td>\n",
              "      <td>2019.0</td>\n",
              "      <td>1.0</td>\n",
              "      <td>금남면</td>\n",
              "      <td>1560.0</td>\n",
              "    </tr>\n",
              "    <tr>\n",
              "      <th>2</th>\n",
              "      <td>2019</td>\n",
              "      <td>1</td>\n",
              "      <td>대평동</td>\n",
              "      <td>5573</td>\n",
              "      <td>235.0</td>\n",
              "      <td>2019.0</td>\n",
              "      <td>1.0</td>\n",
              "      <td>대평동</td>\n",
              "      <td>898.0</td>\n",
              "    </tr>\n",
              "    <tr>\n",
              "      <th>3</th>\n",
              "      <td>2019</td>\n",
              "      <td>1</td>\n",
              "      <td>도담동</td>\n",
              "      <td>4445</td>\n",
              "      <td>236.0</td>\n",
              "      <td>2019.0</td>\n",
              "      <td>1.0</td>\n",
              "      <td>도담동</td>\n",
              "      <td>3972.0</td>\n",
              "    </tr>\n",
              "    <tr>\n",
              "      <th>4</th>\n",
              "      <td>2019</td>\n",
              "      <td>1</td>\n",
              "      <td>보람동</td>\n",
              "      <td>2176</td>\n",
              "      <td>237.0</td>\n",
              "      <td>2019.0</td>\n",
              "      <td>1.0</td>\n",
              "      <td>보람동</td>\n",
              "      <td>1019.0</td>\n",
              "    </tr>\n",
              "    <tr>\n",
              "      <th>...</th>\n",
              "      <td>...</td>\n",
              "      <td>...</td>\n",
              "      <td>...</td>\n",
              "      <td>...</td>\n",
              "      <td>...</td>\n",
              "      <td>...</td>\n",
              "      <td>...</td>\n",
              "      <td>...</td>\n",
              "      <td>...</td>\n",
              "    </tr>\n",
              "    <tr>\n",
              "      <th>457</th>\n",
              "      <td>2020</td>\n",
              "      <td>12</td>\n",
              "      <td>전동면</td>\n",
              "      <td>334</td>\n",
              "      <td>229.0</td>\n",
              "      <td>2020.0</td>\n",
              "      <td>12.0</td>\n",
              "      <td>전의면</td>\n",
              "      <td>712.0</td>\n",
              "    </tr>\n",
              "    <tr>\n",
              "      <th>458</th>\n",
              "      <td>2020</td>\n",
              "      <td>12</td>\n",
              "      <td>전의면</td>\n",
              "      <td>733</td>\n",
              "      <td>230.0</td>\n",
              "      <td>2020.0</td>\n",
              "      <td>12.0</td>\n",
              "      <td>조치원읍</td>\n",
              "      <td>9915.0</td>\n",
              "    </tr>\n",
              "    <tr>\n",
              "      <th>459</th>\n",
              "      <td>2020</td>\n",
              "      <td>12</td>\n",
              "      <td>조치원읍</td>\n",
              "      <td>10588</td>\n",
              "      <td>231.0</td>\n",
              "      <td>2020.0</td>\n",
              "      <td>12.0</td>\n",
              "      <td>종촌동</td>\n",
              "      <td>3004.0</td>\n",
              "    </tr>\n",
              "    <tr>\n",
              "      <th>460</th>\n",
              "      <td>2020</td>\n",
              "      <td>12</td>\n",
              "      <td>종촌동</td>\n",
              "      <td>2705</td>\n",
              "      <td>232.0</td>\n",
              "      <td>2020.0</td>\n",
              "      <td>12.0</td>\n",
              "      <td>한솔동</td>\n",
              "      <td>1723.0</td>\n",
              "    </tr>\n",
              "    <tr>\n",
              "      <th>461</th>\n",
              "      <td>2020</td>\n",
              "      <td>12</td>\n",
              "      <td>한솔동</td>\n",
              "      <td>1545</td>\n",
              "      <td>NaN</td>\n",
              "      <td>NaN</td>\n",
              "      <td>NaN</td>\n",
              "      <td>NaN</td>\n",
              "      <td>NaN</td>\n",
              "    </tr>\n",
              "  </tbody>\n",
              "</table>\n",
              "<p>462 rows × 9 columns</p>\n",
              "</div>"
            ],
            "text/plain": [
              "        년   월 세종전입행정동   전입자수  index       년     월 세종전출행정동    전출자수\n",
              "0    2019   1     고운동   5686  233.0  2019.0   1.0     고운동  2029.0\n",
              "1    2019   1     금남면   1567  234.0  2019.0   1.0     금남면  1560.0\n",
              "2    2019   1     대평동   5573  235.0  2019.0   1.0     대평동   898.0\n",
              "3    2019   1     도담동   4445  236.0  2019.0   1.0     도담동  3972.0\n",
              "4    2019   1     보람동   2176  237.0  2019.0   1.0     보람동  1019.0\n",
              "..    ...  ..     ...    ...    ...     ...   ...     ...     ...\n",
              "457  2020  12     전동면    334  229.0  2020.0  12.0     전의면   712.0\n",
              "458  2020  12     전의면    733  230.0  2020.0  12.0    조치원읍  9915.0\n",
              "459  2020  12    조치원읍  10588  231.0  2020.0  12.0     종촌동  3004.0\n",
              "460  2020  12     종촌동   2705  232.0  2020.0  12.0     한솔동  1723.0\n",
              "461  2020  12     한솔동   1545    NaN     NaN   NaN     NaN     NaN\n",
              "\n",
              "[462 rows x 9 columns]"
            ]
          },
          "metadata": {
            "tags": []
          },
          "execution_count": 104
        }
      ]
    },
    {
      "cell_type": "code",
      "metadata": {
        "id": "YpyH4VAMRMxH"
      },
      "source": [
        "out_data = out_data.reset_index()"
      ],
      "execution_count": 130,
      "outputs": []
    },
    {
      "cell_type": "code",
      "metadata": {
        "id": "t6EWNdOrRViR"
      },
      "source": [
        "in_data = in_data.reset_index()"
      ],
      "execution_count": 129,
      "outputs": []
    },
    {
      "cell_type": "code",
      "metadata": {
        "id": "huoz9iGlSVVy"
      },
      "source": [
        "out_data.columns=['동', '년', '월', '전출자수']"
      ],
      "execution_count": 140,
      "outputs": []
    },
    {
      "cell_type": "code",
      "metadata": {
        "id": "j2wF8L0JReI9"
      },
      "source": [
        "in_data.columns=['동', '년', '월', '전입자수']"
      ],
      "execution_count": 142,
      "outputs": []
    },
    {
      "cell_type": "code",
      "metadata": {
        "id": "CuFQGGzUKDhB"
      },
      "source": [
        "inout_data = pd.merge(in_data, out_data, how='left', on=['년','월','동'])"
      ],
      "execution_count": 146,
      "outputs": []
    },
    {
      "cell_type": "code",
      "metadata": {
        "id": "cylbnGHsStHU"
      },
      "source": [
        "inout_data.to_excel('전출입자 동별 연도별 월별 통계.xlsx')"
      ],
      "execution_count": 148,
      "outputs": []
    },
    {
      "cell_type": "code",
      "metadata": {
        "id": "CsYnU7djSxGW"
      },
      "source": [
        "# 시각화\r\n"
      ],
      "execution_count": null,
      "outputs": []
    }
  ]
}