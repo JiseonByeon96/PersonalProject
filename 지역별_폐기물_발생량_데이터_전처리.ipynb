{
  "nbformat": 4,
  "nbformat_minor": 0,
  "metadata": {
    "colab": {
      "name": "지역별 폐기물 발생량 데이터 전처리.ipynb",
      "provenance": [],
      "mount_file_id": "1OB1cqMFcgrNgFR41ccYoID1rt94DBHy_",
      "authorship_tag": "ABX9TyP/uAw9TCFKL1Skti79q8BQ",
      "include_colab_link": true
    },
    "kernelspec": {
      "name": "python3",
      "display_name": "Python 3"
    }
  },
  "cells": [
    {
      "cell_type": "markdown",
      "metadata": {
        "id": "view-in-github",
        "colab_type": "text"
      },
      "source": [
        "<a href=\"https://colab.research.google.com/github/JiseonByeon96/PersonalProject/blob/main/%EC%A7%80%EC%97%AD%EB%B3%84_%ED%8F%90%EA%B8%B0%EB%AC%BC_%EB%B0%9C%EC%83%9D%EB%9F%89_%EB%8D%B0%EC%9D%B4%ED%84%B0_%EC%A0%84%EC%B2%98%EB%A6%AC.ipynb\" target=\"_parent\"><img src=\"https://colab.research.google.com/assets/colab-badge.svg\" alt=\"Open In Colab\"/></a>"
      ]
    },
    {
      "cell_type": "code",
      "metadata": {
        "id": "06KtwzR5BpgA"
      },
      "source": [
        "import pandas as pd\r\n",
        "import numpy as np"
      ],
      "execution_count": 1,
      "outputs": []
    },
    {
      "cell_type": "code",
      "metadata": {
        "colab": {
          "base_uri": "https://localhost:8080/",
          "height": 410
        },
        "id": "Z-PM00R5B0XR",
        "outputId": "7aa192aa-113e-4c21-c77e-ae2643b44d58"
      },
      "source": [
        "data = pd.read_excel('/content/drive/MyDrive/생활폐기물/지역별가정생활폐기물발생현황.xlsx', sheet_name = '18', header = 3)\n",
        "data = data.loc[:, :'총계'].iloc[2:].drop([])\n",
        "data['Unnamed: 3'] = np.where(pd.notnull(data['Unnamed: 3'])==True, data['Unnamed: 3'], '발생량')\n",
        "data.drop('발생량 및\\n처리현황', axis = 1, inplace=True)\n",
        "data.columns = ['시도', '시군구', '처리현황', '총계']\n",
        "data"
      ],
      "execution_count": 24,
      "outputs": [
        {
          "output_type": "execute_result",
          "data": {
            "text/html": [
              "<div>\n",
              "<style scoped>\n",
              "    .dataframe tbody tr th:only-of-type {\n",
              "        vertical-align: middle;\n",
              "    }\n",
              "\n",
              "    .dataframe tbody tr th {\n",
              "        vertical-align: top;\n",
              "    }\n",
              "\n",
              "    .dataframe thead th {\n",
              "        text-align: right;\n",
              "    }\n",
              "</style>\n",
              "<table border=\"1\" class=\"dataframe\">\n",
              "  <thead>\n",
              "    <tr style=\"text-align: right;\">\n",
              "      <th></th>\n",
              "      <th>시도</th>\n",
              "      <th>시군구</th>\n",
              "      <th>처리현황</th>\n",
              "      <th>총계</th>\n",
              "    </tr>\n",
              "  </thead>\n",
              "  <tbody>\n",
              "    <tr>\n",
              "      <th>2</th>\n",
              "      <td>전국</td>\n",
              "      <td>합계</td>\n",
              "      <td>발생량</td>\n",
              "      <td>46749.3</td>\n",
              "    </tr>\n",
              "    <tr>\n",
              "      <th>3</th>\n",
              "      <td>NaN</td>\n",
              "      <td>NaN</td>\n",
              "      <td>매립</td>\n",
              "      <td>6545.2</td>\n",
              "    </tr>\n",
              "    <tr>\n",
              "      <th>4</th>\n",
              "      <td>NaN</td>\n",
              "      <td>NaN</td>\n",
              "      <td>소각</td>\n",
              "      <td>12429.3</td>\n",
              "    </tr>\n",
              "    <tr>\n",
              "      <th>5</th>\n",
              "      <td>NaN</td>\n",
              "      <td>NaN</td>\n",
              "      <td>재활용</td>\n",
              "      <td>27774.8</td>\n",
              "    </tr>\n",
              "    <tr>\n",
              "      <th>6</th>\n",
              "      <td>서울</td>\n",
              "      <td>소계</td>\n",
              "      <td>발생량</td>\n",
              "      <td>8586.9</td>\n",
              "    </tr>\n",
              "    <tr>\n",
              "      <th>...</th>\n",
              "      <td>...</td>\n",
              "      <td>...</td>\n",
              "      <td>...</td>\n",
              "      <td>...</td>\n",
              "    </tr>\n",
              "    <tr>\n",
              "      <th>989</th>\n",
              "      <td>NaN</td>\n",
              "      <td>NaN</td>\n",
              "      <td>재활용</td>\n",
              "      <td>472.2</td>\n",
              "    </tr>\n",
              "    <tr>\n",
              "      <th>990</th>\n",
              "      <td>제주</td>\n",
              "      <td>서귀포시</td>\n",
              "      <td>발생량</td>\n",
              "      <td>278.2</td>\n",
              "    </tr>\n",
              "    <tr>\n",
              "      <th>991</th>\n",
              "      <td>NaN</td>\n",
              "      <td>NaN</td>\n",
              "      <td>매립</td>\n",
              "      <td>18.3</td>\n",
              "    </tr>\n",
              "    <tr>\n",
              "      <th>992</th>\n",
              "      <td>NaN</td>\n",
              "      <td>NaN</td>\n",
              "      <td>소각</td>\n",
              "      <td>50.1</td>\n",
              "    </tr>\n",
              "    <tr>\n",
              "      <th>993</th>\n",
              "      <td>NaN</td>\n",
              "      <td>NaN</td>\n",
              "      <td>재활용</td>\n",
              "      <td>209.8</td>\n",
              "    </tr>\n",
              "  </tbody>\n",
              "</table>\n",
              "<p>992 rows × 4 columns</p>\n",
              "</div>"
            ],
            "text/plain": [
              "      시도   시군구 처리현황       총계\n",
              "2     전국    합계  발생량  46749.3\n",
              "3    NaN   NaN   매립   6545.2\n",
              "4    NaN   NaN   소각  12429.3\n",
              "5    NaN   NaN  재활용  27774.8\n",
              "6     서울    소계  발생량   8586.9\n",
              "..   ...   ...  ...      ...\n",
              "989  NaN   NaN  재활용    472.2\n",
              "990   제주  서귀포시  발생량    278.2\n",
              "991  NaN   NaN   매립     18.3\n",
              "992  NaN   NaN   소각     50.1\n",
              "993  NaN   NaN  재활용    209.8\n",
              "\n",
              "[992 rows x 4 columns]"
            ]
          },
          "metadata": {
            "tags": []
          },
          "execution_count": 24
        }
      ]
    }
  ]
}