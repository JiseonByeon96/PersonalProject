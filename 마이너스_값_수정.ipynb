{
  "nbformat": 4,
  "nbformat_minor": 0,
  "metadata": {
    "colab": {
      "name": "마이너스 값 수정.ipynb",
      "provenance": [],
      "authorship_tag": "ABX9TyPiW0GTN7HTWrEoZ0a3vrxW",
      "include_colab_link": true
    },
    "kernelspec": {
      "name": "python3",
      "display_name": "Python 3"
    },
    "language_info": {
      "name": "python"
    }
  },
  "cells": [
    {
      "cell_type": "markdown",
      "metadata": {
        "id": "view-in-github",
        "colab_type": "text"
      },
      "source": [
        "<a href=\"https://colab.research.google.com/github/JiseonByeon96/PersonalProject/blob/main/%EB%A7%88%EC%9D%B4%EB%84%88%EC%8A%A4_%EA%B0%92_%EC%88%98%EC%A0%95.ipynb\" target=\"_parent\"><img src=\"https://colab.research.google.com/assets/colab-badge.svg\" alt=\"Open In Colab\"/></a>"
      ]
    },
    {
      "cell_type": "code",
      "metadata": {
        "colab": {
          "base_uri": "https://localhost:8080/"
        },
        "id": "sKX7hL_UQ6h_",
        "outputId": "c2ba9163-326c-41f9-e479-6372f08e15a4"
      },
      "source": [
        "pip install prophet"
      ],
      "execution_count": 1,
      "outputs": [
        {
          "output_type": "stream",
          "text": [
            "Collecting prophet\n",
            "\u001b[?25l  Downloading https://files.pythonhosted.org/packages/91/8d/2ed577196f58f9d7a93958ec650ffee35d42e81f430b1a44f0963eb83ce0/prophet-0.1.1.post1.tar.gz (90kB)\n",
            "\r\u001b[K     |███▋                            | 10kB 15.4MB/s eta 0:00:01\r\u001b[K     |███████▎                        | 20kB 20.0MB/s eta 0:00:01\r\u001b[K     |██████████▉                     | 30kB 16.3MB/s eta 0:00:01\r\u001b[K     |██████████████▌                 | 40kB 14.8MB/s eta 0:00:01\r\u001b[K     |██████████████████              | 51kB 15.4MB/s eta 0:00:01\r\u001b[K     |█████████████████████▊          | 61kB 17.4MB/s eta 0:00:01\r\u001b[K     |█████████████████████████▎      | 71kB 13.8MB/s eta 0:00:01\r\u001b[K     |█████████████████████████████   | 81kB 14.0MB/s eta 0:00:01\r\u001b[K     |████████████████████████████████| 92kB 4.8MB/s \n",
            "\u001b[?25hRequirement already satisfied: pytz>=2014.9 in /usr/local/lib/python3.7/dist-packages (from prophet) (2018.9)\n",
            "Requirement already satisfied: pandas>=0.15.1 in /usr/local/lib/python3.7/dist-packages (from prophet) (1.1.5)\n",
            "Requirement already satisfied: six>=1.8.0 in /usr/local/lib/python3.7/dist-packages (from prophet) (1.15.0)\n",
            "Requirement already satisfied: numpy>=1.15.4 in /usr/local/lib/python3.7/dist-packages (from pandas>=0.15.1->prophet) (1.19.5)\n",
            "Requirement already satisfied: python-dateutil>=2.7.3 in /usr/local/lib/python3.7/dist-packages (from pandas>=0.15.1->prophet) (2.8.1)\n",
            "Building wheels for collected packages: prophet\n",
            "  Building wheel for prophet (setup.py) ... \u001b[?25l\u001b[?25hdone\n",
            "  Created wheel for prophet: filename=prophet-0.1.1.post1-cp37-none-any.whl size=13235 sha256=52718573614a8900efbadfe59c7dd3e67c8b5f3bbf564de7d81a84c54e391187\n",
            "  Stored in directory: /root/.cache/pip/wheels/71/d7/4f/0ade9b5843362f84d39c21edbe6065032e388053c4ab0ab83e\n",
            "Successfully built prophet\n",
            "Installing collected packages: prophet\n",
            "Successfully installed prophet-0.1.1.post1\n"
          ],
          "name": "stdout"
        }
      ]
    },
    {
      "cell_type": "code",
      "metadata": {
        "colab": {
          "base_uri": "https://localhost:8080/"
        },
        "id": "asF-f8CzQ7go",
        "outputId": "9b77d7b2-aa78-4e7f-c8dd-96c899801387"
      },
      "source": [
        "import fbprophet\n",
        "from fbprophet import Prophet\n",
        "import pandas as pd\n",
        "from fbprophet.plot import add_changepoints_to_plot\n",
        "\n",
        "print(fbprophet.__version__)\n"
      ],
      "execution_count": 2,
      "outputs": [
        {
          "output_type": "stream",
          "text": [
            "0.7.1\n"
          ],
          "name": "stdout"
        }
      ]
    },
    {
      "cell_type": "code",
      "metadata": {
        "colab": {
          "base_uri": "https://localhost:8080/",
          "height": 413
        },
        "id": "n7SFK9DRRDea",
        "outputId": "d32664d2-8979-4e35-b37e-85341a1b11b1"
      },
      "source": [
        "df = pd.read_csv('/content/동별_월별_연령대별_인구수_날짜처리.csv', encoding='utf-8')\n",
        "df"
      ],
      "execution_count": 4,
      "outputs": [
        {
          "output_type": "execute_result",
          "data": {
            "text/html": [
              "<div>\n",
              "<style scoped>\n",
              "    .dataframe tbody tr th:only-of-type {\n",
              "        vertical-align: middle;\n",
              "    }\n",
              "\n",
              "    .dataframe tbody tr th {\n",
              "        vertical-align: top;\n",
              "    }\n",
              "\n",
              "    .dataframe thead th {\n",
              "        text-align: right;\n",
              "    }\n",
              "</style>\n",
              "<table border=\"1\" class=\"dataframe\">\n",
              "  <thead>\n",
              "    <tr style=\"text-align: right;\">\n",
              "      <th></th>\n",
              "      <th>읍면동</th>\n",
              "      <th>년</th>\n",
              "      <th>월</th>\n",
              "      <th>일</th>\n",
              "      <th>0s</th>\n",
              "      <th>10s</th>\n",
              "      <th>20s</th>\n",
              "      <th>30s</th>\n",
              "      <th>40s</th>\n",
              "      <th>50s</th>\n",
              "      <th>60s</th>\n",
              "      <th>70s</th>\n",
              "      <th>80s</th>\n",
              "      <th>90s</th>\n",
              "      <th>100s</th>\n",
              "      <th>날짜</th>\n",
              "    </tr>\n",
              "  </thead>\n",
              "  <tbody>\n",
              "    <tr>\n",
              "      <th>0</th>\n",
              "      <td>고운동</td>\n",
              "      <td>2017</td>\n",
              "      <td>1</td>\n",
              "      <td>1</td>\n",
              "      <td>0</td>\n",
              "      <td>0</td>\n",
              "      <td>0</td>\n",
              "      <td>0</td>\n",
              "      <td>0</td>\n",
              "      <td>0</td>\n",
              "      <td>0</td>\n",
              "      <td>0</td>\n",
              "      <td>0</td>\n",
              "      <td>0</td>\n",
              "      <td>0</td>\n",
              "      <td>2017-01-01</td>\n",
              "    </tr>\n",
              "    <tr>\n",
              "      <th>1</th>\n",
              "      <td>금남면</td>\n",
              "      <td>2017</td>\n",
              "      <td>1</td>\n",
              "      <td>1</td>\n",
              "      <td>503</td>\n",
              "      <td>559</td>\n",
              "      <td>1096</td>\n",
              "      <td>1098</td>\n",
              "      <td>1281</td>\n",
              "      <td>1827</td>\n",
              "      <td>1556</td>\n",
              "      <td>1053</td>\n",
              "      <td>583</td>\n",
              "      <td>80</td>\n",
              "      <td>3</td>\n",
              "      <td>2017-01-01</td>\n",
              "    </tr>\n",
              "    <tr>\n",
              "      <th>2</th>\n",
              "      <td>다정동</td>\n",
              "      <td>2017</td>\n",
              "      <td>1</td>\n",
              "      <td>1</td>\n",
              "      <td>0</td>\n",
              "      <td>0</td>\n",
              "      <td>0</td>\n",
              "      <td>0</td>\n",
              "      <td>0</td>\n",
              "      <td>0</td>\n",
              "      <td>0</td>\n",
              "      <td>0</td>\n",
              "      <td>0</td>\n",
              "      <td>0</td>\n",
              "      <td>0</td>\n",
              "      <td>2017-01-01</td>\n",
              "    </tr>\n",
              "    <tr>\n",
              "      <th>3</th>\n",
              "      <td>대평동</td>\n",
              "      <td>2017</td>\n",
              "      <td>1</td>\n",
              "      <td>1</td>\n",
              "      <td>0</td>\n",
              "      <td>0</td>\n",
              "      <td>0</td>\n",
              "      <td>0</td>\n",
              "      <td>0</td>\n",
              "      <td>0</td>\n",
              "      <td>0</td>\n",
              "      <td>0</td>\n",
              "      <td>0</td>\n",
              "      <td>0</td>\n",
              "      <td>0</td>\n",
              "      <td>2017-01-01</td>\n",
              "    </tr>\n",
              "    <tr>\n",
              "      <th>4</th>\n",
              "      <td>도담동</td>\n",
              "      <td>2017</td>\n",
              "      <td>1</td>\n",
              "      <td>1</td>\n",
              "      <td>5148</td>\n",
              "      <td>3835</td>\n",
              "      <td>3585</td>\n",
              "      <td>6804</td>\n",
              "      <td>6260</td>\n",
              "      <td>3123</td>\n",
              "      <td>1473</td>\n",
              "      <td>720</td>\n",
              "      <td>342</td>\n",
              "      <td>47</td>\n",
              "      <td>1</td>\n",
              "      <td>2017-01-01</td>\n",
              "    </tr>\n",
              "    <tr>\n",
              "      <th>...</th>\n",
              "      <td>...</td>\n",
              "      <td>...</td>\n",
              "      <td>...</td>\n",
              "      <td>...</td>\n",
              "      <td>...</td>\n",
              "      <td>...</td>\n",
              "      <td>...</td>\n",
              "      <td>...</td>\n",
              "      <td>...</td>\n",
              "      <td>...</td>\n",
              "      <td>...</td>\n",
              "      <td>...</td>\n",
              "      <td>...</td>\n",
              "      <td>...</td>\n",
              "      <td>...</td>\n",
              "      <td>...</td>\n",
              "    </tr>\n",
              "    <tr>\n",
              "      <th>907</th>\n",
              "      <td>전동면</td>\n",
              "      <td>2020</td>\n",
              "      <td>12</td>\n",
              "      <td>1</td>\n",
              "      <td>77</td>\n",
              "      <td>122</td>\n",
              "      <td>283</td>\n",
              "      <td>256</td>\n",
              "      <td>339</td>\n",
              "      <td>699</td>\n",
              "      <td>852</td>\n",
              "      <td>519</td>\n",
              "      <td>313</td>\n",
              "      <td>47</td>\n",
              "      <td>2</td>\n",
              "      <td>2020-12-01</td>\n",
              "    </tr>\n",
              "    <tr>\n",
              "      <th>908</th>\n",
              "      <td>전의면</td>\n",
              "      <td>2020</td>\n",
              "      <td>12</td>\n",
              "      <td>1</td>\n",
              "      <td>195</td>\n",
              "      <td>393</td>\n",
              "      <td>560</td>\n",
              "      <td>514</td>\n",
              "      <td>686</td>\n",
              "      <td>1031</td>\n",
              "      <td>992</td>\n",
              "      <td>663</td>\n",
              "      <td>481</td>\n",
              "      <td>74</td>\n",
              "      <td>1</td>\n",
              "      <td>2020-12-01</td>\n",
              "    </tr>\n",
              "    <tr>\n",
              "      <th>909</th>\n",
              "      <td>조치원읍</td>\n",
              "      <td>2020</td>\n",
              "      <td>12</td>\n",
              "      <td>1</td>\n",
              "      <td>3227</td>\n",
              "      <td>4178</td>\n",
              "      <td>6428</td>\n",
              "      <td>5406</td>\n",
              "      <td>6829</td>\n",
              "      <td>6618</td>\n",
              "      <td>5302</td>\n",
              "      <td>3076</td>\n",
              "      <td>1493</td>\n",
              "      <td>224</td>\n",
              "      <td>8</td>\n",
              "      <td>2020-12-01</td>\n",
              "    </tr>\n",
              "    <tr>\n",
              "      <th>910</th>\n",
              "      <td>종촌동</td>\n",
              "      <td>2020</td>\n",
              "      <td>12</td>\n",
              "      <td>1</td>\n",
              "      <td>4688</td>\n",
              "      <td>4206</td>\n",
              "      <td>2618</td>\n",
              "      <td>5444</td>\n",
              "      <td>6309</td>\n",
              "      <td>3195</td>\n",
              "      <td>1902</td>\n",
              "      <td>804</td>\n",
              "      <td>327</td>\n",
              "      <td>43</td>\n",
              "      <td>0</td>\n",
              "      <td>2020-12-01</td>\n",
              "    </tr>\n",
              "    <tr>\n",
              "      <th>911</th>\n",
              "      <td>한솔동</td>\n",
              "      <td>2020</td>\n",
              "      <td>12</td>\n",
              "      <td>1</td>\n",
              "      <td>2630</td>\n",
              "      <td>3338</td>\n",
              "      <td>1736</td>\n",
              "      <td>2573</td>\n",
              "      <td>4482</td>\n",
              "      <td>2536</td>\n",
              "      <td>1185</td>\n",
              "      <td>495</td>\n",
              "      <td>195</td>\n",
              "      <td>36</td>\n",
              "      <td>2</td>\n",
              "      <td>2020-12-01</td>\n",
              "    </tr>\n",
              "  </tbody>\n",
              "</table>\n",
              "<p>912 rows × 16 columns</p>\n",
              "</div>"
            ],
            "text/plain": [
              "      읍면동     년   월  일    0s   10s  ...   60s   70s   80s  90s  100s          날짜\n",
              "0     고운동  2017   1  1     0     0  ...     0     0     0    0     0  2017-01-01\n",
              "1     금남면  2017   1  1   503   559  ...  1556  1053   583   80     3  2017-01-01\n",
              "2     다정동  2017   1  1     0     0  ...     0     0     0    0     0  2017-01-01\n",
              "3     대평동  2017   1  1     0     0  ...     0     0     0    0     0  2017-01-01\n",
              "4     도담동  2017   1  1  5148  3835  ...  1473   720   342   47     1  2017-01-01\n",
              "..    ...   ...  .. ..   ...   ...  ...   ...   ...   ...  ...   ...         ...\n",
              "907   전동면  2020  12  1    77   122  ...   852   519   313   47     2  2020-12-01\n",
              "908   전의면  2020  12  1   195   393  ...   992   663   481   74     1  2020-12-01\n",
              "909  조치원읍  2020  12  1  3227  4178  ...  5302  3076  1493  224     8  2020-12-01\n",
              "910   종촌동  2020  12  1  4688  4206  ...  1902   804   327   43     0  2020-12-01\n",
              "911   한솔동  2020  12  1  2630  3338  ...  1185   495   195   36     2  2020-12-01\n",
              "\n",
              "[912 rows x 16 columns]"
            ]
          },
          "metadata": {
            "tags": []
          },
          "execution_count": 4
        }
      ]
    },
    {
      "cell_type": "code",
      "metadata": {
        "id": "-dBmn67jSSMj"
      },
      "source": [
        "idx = df[df['0s']==0].index\n",
        "df = df.drop(idx)"
      ],
      "execution_count": 11,
      "outputs": []
    },
    {
      "cell_type": "code",
      "metadata": {
        "colab": {
          "base_uri": "https://localhost:8080/",
          "height": 413
        },
        "id": "pMw6CBviTRGV",
        "outputId": "3b62104f-2b6a-41b1-f525-35d1130e3735"
      },
      "source": [
        "df"
      ],
      "execution_count": 12,
      "outputs": [
        {
          "output_type": "execute_result",
          "data": {
            "text/html": [
              "<div>\n",
              "<style scoped>\n",
              "    .dataframe tbody tr th:only-of-type {\n",
              "        vertical-align: middle;\n",
              "    }\n",
              "\n",
              "    .dataframe tbody tr th {\n",
              "        vertical-align: top;\n",
              "    }\n",
              "\n",
              "    .dataframe thead th {\n",
              "        text-align: right;\n",
              "    }\n",
              "</style>\n",
              "<table border=\"1\" class=\"dataframe\">\n",
              "  <thead>\n",
              "    <tr style=\"text-align: right;\">\n",
              "      <th></th>\n",
              "      <th>읍면동</th>\n",
              "      <th>년</th>\n",
              "      <th>월</th>\n",
              "      <th>일</th>\n",
              "      <th>0s</th>\n",
              "      <th>10s</th>\n",
              "      <th>20s</th>\n",
              "      <th>30s</th>\n",
              "      <th>40s</th>\n",
              "      <th>50s</th>\n",
              "      <th>60s</th>\n",
              "      <th>70s</th>\n",
              "      <th>80s</th>\n",
              "      <th>90s</th>\n",
              "      <th>100s</th>\n",
              "      <th>날짜</th>\n",
              "    </tr>\n",
              "  </thead>\n",
              "  <tbody>\n",
              "    <tr>\n",
              "      <th>1</th>\n",
              "      <td>금남면</td>\n",
              "      <td>2017</td>\n",
              "      <td>1</td>\n",
              "      <td>1</td>\n",
              "      <td>503</td>\n",
              "      <td>559</td>\n",
              "      <td>1096</td>\n",
              "      <td>1098</td>\n",
              "      <td>1281</td>\n",
              "      <td>1827</td>\n",
              "      <td>1556</td>\n",
              "      <td>1053</td>\n",
              "      <td>583</td>\n",
              "      <td>80</td>\n",
              "      <td>3</td>\n",
              "      <td>2017-01-01</td>\n",
              "    </tr>\n",
              "    <tr>\n",
              "      <th>4</th>\n",
              "      <td>도담동</td>\n",
              "      <td>2017</td>\n",
              "      <td>1</td>\n",
              "      <td>1</td>\n",
              "      <td>5148</td>\n",
              "      <td>3835</td>\n",
              "      <td>3585</td>\n",
              "      <td>6804</td>\n",
              "      <td>6260</td>\n",
              "      <td>3123</td>\n",
              "      <td>1473</td>\n",
              "      <td>720</td>\n",
              "      <td>342</td>\n",
              "      <td>47</td>\n",
              "      <td>1</td>\n",
              "      <td>2017-01-01</td>\n",
              "    </tr>\n",
              "    <tr>\n",
              "      <th>6</th>\n",
              "      <td>부강면</td>\n",
              "      <td>2017</td>\n",
              "      <td>1</td>\n",
              "      <td>1</td>\n",
              "      <td>470</td>\n",
              "      <td>540</td>\n",
              "      <td>813</td>\n",
              "      <td>830</td>\n",
              "      <td>1006</td>\n",
              "      <td>1190</td>\n",
              "      <td>836</td>\n",
              "      <td>668</td>\n",
              "      <td>321</td>\n",
              "      <td>29</td>\n",
              "      <td>1</td>\n",
              "      <td>2017-01-01</td>\n",
              "    </tr>\n",
              "    <tr>\n",
              "      <th>9</th>\n",
              "      <td>소정면</td>\n",
              "      <td>2017</td>\n",
              "      <td>1</td>\n",
              "      <td>1</td>\n",
              "      <td>181</td>\n",
              "      <td>265</td>\n",
              "      <td>332</td>\n",
              "      <td>305</td>\n",
              "      <td>470</td>\n",
              "      <td>477</td>\n",
              "      <td>348</td>\n",
              "      <td>276</td>\n",
              "      <td>162</td>\n",
              "      <td>15</td>\n",
              "      <td>2</td>\n",
              "      <td>2017-01-01</td>\n",
              "    </tr>\n",
              "    <tr>\n",
              "      <th>10</th>\n",
              "      <td>아름동</td>\n",
              "      <td>2017</td>\n",
              "      <td>1</td>\n",
              "      <td>1</td>\n",
              "      <td>10212</td>\n",
              "      <td>6663</td>\n",
              "      <td>4254</td>\n",
              "      <td>11858</td>\n",
              "      <td>10457</td>\n",
              "      <td>4124</td>\n",
              "      <td>2191</td>\n",
              "      <td>760</td>\n",
              "      <td>291</td>\n",
              "      <td>53</td>\n",
              "      <td>2</td>\n",
              "      <td>2017-01-01</td>\n",
              "    </tr>\n",
              "    <tr>\n",
              "      <th>...</th>\n",
              "      <td>...</td>\n",
              "      <td>...</td>\n",
              "      <td>...</td>\n",
              "      <td>...</td>\n",
              "      <td>...</td>\n",
              "      <td>...</td>\n",
              "      <td>...</td>\n",
              "      <td>...</td>\n",
              "      <td>...</td>\n",
              "      <td>...</td>\n",
              "      <td>...</td>\n",
              "      <td>...</td>\n",
              "      <td>...</td>\n",
              "      <td>...</td>\n",
              "      <td>...</td>\n",
              "      <td>...</td>\n",
              "    </tr>\n",
              "    <tr>\n",
              "      <th>907</th>\n",
              "      <td>전동면</td>\n",
              "      <td>2020</td>\n",
              "      <td>12</td>\n",
              "      <td>1</td>\n",
              "      <td>77</td>\n",
              "      <td>122</td>\n",
              "      <td>283</td>\n",
              "      <td>256</td>\n",
              "      <td>339</td>\n",
              "      <td>699</td>\n",
              "      <td>852</td>\n",
              "      <td>519</td>\n",
              "      <td>313</td>\n",
              "      <td>47</td>\n",
              "      <td>2</td>\n",
              "      <td>2020-12-01</td>\n",
              "    </tr>\n",
              "    <tr>\n",
              "      <th>908</th>\n",
              "      <td>전의면</td>\n",
              "      <td>2020</td>\n",
              "      <td>12</td>\n",
              "      <td>1</td>\n",
              "      <td>195</td>\n",
              "      <td>393</td>\n",
              "      <td>560</td>\n",
              "      <td>514</td>\n",
              "      <td>686</td>\n",
              "      <td>1031</td>\n",
              "      <td>992</td>\n",
              "      <td>663</td>\n",
              "      <td>481</td>\n",
              "      <td>74</td>\n",
              "      <td>1</td>\n",
              "      <td>2020-12-01</td>\n",
              "    </tr>\n",
              "    <tr>\n",
              "      <th>909</th>\n",
              "      <td>조치원읍</td>\n",
              "      <td>2020</td>\n",
              "      <td>12</td>\n",
              "      <td>1</td>\n",
              "      <td>3227</td>\n",
              "      <td>4178</td>\n",
              "      <td>6428</td>\n",
              "      <td>5406</td>\n",
              "      <td>6829</td>\n",
              "      <td>6618</td>\n",
              "      <td>5302</td>\n",
              "      <td>3076</td>\n",
              "      <td>1493</td>\n",
              "      <td>224</td>\n",
              "      <td>8</td>\n",
              "      <td>2020-12-01</td>\n",
              "    </tr>\n",
              "    <tr>\n",
              "      <th>910</th>\n",
              "      <td>종촌동</td>\n",
              "      <td>2020</td>\n",
              "      <td>12</td>\n",
              "      <td>1</td>\n",
              "      <td>4688</td>\n",
              "      <td>4206</td>\n",
              "      <td>2618</td>\n",
              "      <td>5444</td>\n",
              "      <td>6309</td>\n",
              "      <td>3195</td>\n",
              "      <td>1902</td>\n",
              "      <td>804</td>\n",
              "      <td>327</td>\n",
              "      <td>43</td>\n",
              "      <td>0</td>\n",
              "      <td>2020-12-01</td>\n",
              "    </tr>\n",
              "    <tr>\n",
              "      <th>911</th>\n",
              "      <td>한솔동</td>\n",
              "      <td>2020</td>\n",
              "      <td>12</td>\n",
              "      <td>1</td>\n",
              "      <td>2630</td>\n",
              "      <td>3338</td>\n",
              "      <td>1736</td>\n",
              "      <td>2573</td>\n",
              "      <td>4482</td>\n",
              "      <td>2536</td>\n",
              "      <td>1185</td>\n",
              "      <td>495</td>\n",
              "      <td>195</td>\n",
              "      <td>36</td>\n",
              "      <td>2</td>\n",
              "      <td>2020-12-01</td>\n",
              "    </tr>\n",
              "  </tbody>\n",
              "</table>\n",
              "<p>822 rows × 16 columns</p>\n",
              "</div>"
            ],
            "text/plain": [
              "      읍면동     년   월  일     0s   10s  ...   60s   70s   80s  90s  100s          날짜\n",
              "1     금남면  2017   1  1    503   559  ...  1556  1053   583   80     3  2017-01-01\n",
              "4     도담동  2017   1  1   5148  3835  ...  1473   720   342   47     1  2017-01-01\n",
              "6     부강면  2017   1  1    470   540  ...   836   668   321   29     1  2017-01-01\n",
              "9     소정면  2017   1  1    181   265  ...   348   276   162   15     2  2017-01-01\n",
              "10    아름동  2017   1  1  10212  6663  ...  2191   760   291   53     2  2017-01-01\n",
              "..    ...   ...  .. ..    ...   ...  ...   ...   ...   ...  ...   ...         ...\n",
              "907   전동면  2020  12  1     77   122  ...   852   519   313   47     2  2020-12-01\n",
              "908   전의면  2020  12  1    195   393  ...   992   663   481   74     1  2020-12-01\n",
              "909  조치원읍  2020  12  1   3227  4178  ...  5302  3076  1493  224     8  2020-12-01\n",
              "910   종촌동  2020  12  1   4688  4206  ...  1902   804   327   43     0  2020-12-01\n",
              "911   한솔동  2020  12  1   2630  3338  ...  1185   495   195   36     2  2020-12-01\n",
              "\n",
              "[822 rows x 16 columns]"
            ]
          },
          "metadata": {
            "tags": []
          },
          "execution_count": 12
        }
      ]
    },
    {
      "cell_type": "markdown",
      "metadata": {
        "id": "bxMcXLStVp93"
      },
      "source": [
        "# 고운동 \n"
      ]
    },
    {
      "cell_type": "code",
      "metadata": {
        "colab": {
          "base_uri": "https://localhost:8080/"
        },
        "id": "0c_GIPNCRM6H",
        "outputId": "55bec65d-5110-4a50-c41d-424c708c0479"
      },
      "source": [
        "is_place = df['읍면동'] == '고운동'\n",
        "#0세\n",
        "df1 = df[is_place].drop(['읍면동',\t'년',\t'월',\t'일',\t'10s',\t'20s',\t'30s',\t'40s',\t'50s',\t'60s',\t'70s',\t'80s',\t'90s',\t'100s'], axis = 1)\n",
        "df1.columns=['y', 'ds']\n",
        "m = Prophet()\n",
        "m.fit(df1)\n",
        "future = m.make_future_dataframe(periods=365)\n",
        "forecast = m.predict(future)\n",
        "forecast[['ds', 'yhat']].to_csv('고운동_00세.csv')"
      ],
      "execution_count": 14,
      "outputs": [
        {
          "output_type": "stream",
          "text": [
            "INFO:fbprophet:Disabling weekly seasonality. Run prophet with weekly_seasonality=True to override this.\n",
            "INFO:fbprophet:Disabling daily seasonality. Run prophet with daily_seasonality=True to override this.\n"
          ],
          "name": "stderr"
        }
      ]
    },
    {
      "cell_type": "code",
      "metadata": {
        "colab": {
          "base_uri": "https://localhost:8080/"
        },
        "id": "wHk0m5sFTcDj",
        "outputId": "b94a7606-b407-4ede-de7a-42a08f5e5514"
      },
      "source": [
        "#10세\n",
        "df1 = df[is_place].drop(['읍면동',\t'년',\t'월',\t'일',\t'0s',\t'20s',\t'30s',\t'40s',\t'50s',\t'60s',\t'70s',\t'80s',\t'90s',\t'100s'], axis = 1)\n",
        "df1.columns=['y', 'ds']\n",
        "m = Prophet()\n",
        "m.fit(df1)\n",
        "future = m.make_future_dataframe(periods=365)\n",
        "forecast = m.predict(future)\n",
        "forecast[['ds', 'yhat']].to_csv('고운동10.csv')\n"
      ],
      "execution_count": 15,
      "outputs": [
        {
          "output_type": "stream",
          "text": [
            "INFO:fbprophet:Disabling weekly seasonality. Run prophet with weekly_seasonality=True to override this.\n",
            "INFO:fbprophet:Disabling daily seasonality. Run prophet with daily_seasonality=True to override this.\n"
          ],
          "name": "stderr"
        }
      ]
    },
    {
      "cell_type": "code",
      "metadata": {
        "colab": {
          "base_uri": "https://localhost:8080/"
        },
        "id": "O4kvW0CKTcY6",
        "outputId": "bf16db06-4285-44b4-d2c2-c112725c6fec"
      },
      "source": [
        "#20세 \n",
        "df1 = df[is_place].drop(['읍면동',\t'년',\t'월',\t'일',\t'0s',\t'10s',\t'30s',\t'40s',\t'50s',\t'60s',\t'70s',\t'80s',\t'90s',\t'100s'], axis = 1)\n",
        "df1.columns=['y', 'ds']\n",
        "m = Prophet()\n",
        "m.fit(df1)\n",
        "future = m.make_future_dataframe(periods=365)\n",
        "forecast = m.predict(future)\n",
        "forecast[['ds', 'yhat']].to_csv('고운동20.csv')\n"
      ],
      "execution_count": 16,
      "outputs": [
        {
          "output_type": "stream",
          "text": [
            "INFO:fbprophet:Disabling weekly seasonality. Run prophet with weekly_seasonality=True to override this.\n",
            "INFO:fbprophet:Disabling daily seasonality. Run prophet with daily_seasonality=True to override this.\n"
          ],
          "name": "stderr"
        }
      ]
    },
    {
      "cell_type": "code",
      "metadata": {
        "colab": {
          "base_uri": "https://localhost:8080/"
        },
        "id": "T6on7x55ThlT",
        "outputId": "32a17644-7734-4daa-b351-cf4e2e7f54d8"
      },
      "source": [
        "#30세 \n",
        "df1 = df[is_place].drop(['읍면동',\t'년',\t'월',\t'일',\t'0s',\t'10s',\t'20s',\t'40s',\t'50s',\t'60s',\t'70s',\t'80s',\t'90s',\t'100s'], axis = 1)\n",
        "df1.columns=['y', 'ds']\n",
        "m = Prophet()\n",
        "m.fit(df1)\n",
        "future = m.make_future_dataframe(periods=365)\n",
        "forecast = m.predict(future)\n",
        "forecast[['ds', 'yhat']].to_csv('고운동30.csv')\n"
      ],
      "execution_count": 17,
      "outputs": [
        {
          "output_type": "stream",
          "text": [
            "INFO:fbprophet:Disabling weekly seasonality. Run prophet with weekly_seasonality=True to override this.\n",
            "INFO:fbprophet:Disabling daily seasonality. Run prophet with daily_seasonality=True to override this.\n"
          ],
          "name": "stderr"
        }
      ]
    },
    {
      "cell_type": "code",
      "metadata": {
        "colab": {
          "base_uri": "https://localhost:8080/"
        },
        "id": "P6tKkiRwTlgX",
        "outputId": "de236cee-aced-407b-e58e-5fbd172bd6da"
      },
      "source": [
        "#40세 \n",
        "df1 = df[is_place].drop(['읍면동',\t'년',\t'월',\t'일',\t'0s',\t'10s',\t'20s',\t'30s',\t'50s',\t'60s',\t'70s',\t'80s',\t'90s',\t'100s'], axis = 1)\n",
        "df1.columns=['y', 'ds']\n",
        "m = Prophet()\n",
        "m.fit(df1)\n",
        "future = m.make_future_dataframe(periods=365)\n",
        "forecast = m.predict(future)\n",
        "forecast[['ds', 'yhat']].to_csv('고운동40.csv')"
      ],
      "execution_count": 18,
      "outputs": [
        {
          "output_type": "stream",
          "text": [
            "INFO:fbprophet:Disabling weekly seasonality. Run prophet with weekly_seasonality=True to override this.\n",
            "INFO:fbprophet:Disabling daily seasonality. Run prophet with daily_seasonality=True to override this.\n"
          ],
          "name": "stderr"
        }
      ]
    },
    {
      "cell_type": "code",
      "metadata": {
        "colab": {
          "base_uri": "https://localhost:8080/"
        },
        "id": "Wuc3VfH7Tl1k",
        "outputId": "8bae2662-d272-4058-abe6-449e0afeafdd"
      },
      "source": [
        "#50세 \n",
        "df1 = df[is_place].drop(['읍면동',\t'년',\t'월',\t'일',\t'0s',\t'10s',\t'20s',\t'30s',\t'40s',\t'60s',\t'70s',\t'80s',\t'90s',\t'100s'], axis = 1)\n",
        "df1.columns=['y', 'ds']\n",
        "m = Prophet()\n",
        "m.fit(df1)\n",
        "future = m.make_future_dataframe(periods=365)\n",
        "forecast = m.predict(future)\n",
        "forecast[['ds', 'yhat']].to_csv('고운동50.csv')"
      ],
      "execution_count": 19,
      "outputs": [
        {
          "output_type": "stream",
          "text": [
            "INFO:fbprophet:Disabling weekly seasonality. Run prophet with weekly_seasonality=True to override this.\n",
            "INFO:fbprophet:Disabling daily seasonality. Run prophet with daily_seasonality=True to override this.\n"
          ],
          "name": "stderr"
        }
      ]
    },
    {
      "cell_type": "code",
      "metadata": {
        "colab": {
          "base_uri": "https://localhost:8080/"
        },
        "id": "m-6s2_owTnd2",
        "outputId": "c7fc7965-d269-4295-eb51-98e4c0358ac2"
      },
      "source": [
        "#60세 \n",
        "df1 = df[is_place].drop(['읍면동',\t'년',\t'월',\t'일',\t'0s',\t'10s',\t'20s',\t'30s',\t'40s',\t'50s',\t'70s',\t'80s',\t'90s',\t'100s'], axis = 1)\n",
        "df1.columns=['y', 'ds']\n",
        "m = Prophet()\n",
        "m.fit(df1)\n",
        "future = m.make_future_dataframe(periods=365)\n",
        "forecast = m.predict(future)\n",
        "forecast[['ds', 'yhat']].to_csv('고운동60.csv')"
      ],
      "execution_count": 20,
      "outputs": [
        {
          "output_type": "stream",
          "text": [
            "INFO:fbprophet:Disabling weekly seasonality. Run prophet with weekly_seasonality=True to override this.\n",
            "INFO:fbprophet:Disabling daily seasonality. Run prophet with daily_seasonality=True to override this.\n"
          ],
          "name": "stderr"
        }
      ]
    },
    {
      "cell_type": "code",
      "metadata": {
        "colab": {
          "base_uri": "https://localhost:8080/"
        },
        "id": "EzHCCh5yTpH5",
        "outputId": "06bb1f4b-e478-4cd6-f587-b92de3b176eb"
      },
      "source": [
        "#70세 \n",
        "df1 = df[is_place].drop(['읍면동',\t'년',\t'월',\t'일',\t'0s',\t'10s',\t'20s',\t'30s',\t'40s',\t'50s',\t'60s',\t'80s',\t'90s',\t'100s'], axis = 1)\n",
        "df1.columns=['y', 'ds']\n",
        "m = Prophet()\n",
        "m.fit(df1)\n",
        "future = m.make_future_dataframe(periods=365)\n",
        "forecast = m.predict(future)\n",
        "forecast[['ds', 'yhat']].to_csv('고운동70.csv')"
      ],
      "execution_count": 21,
      "outputs": [
        {
          "output_type": "stream",
          "text": [
            "INFO:fbprophet:Disabling weekly seasonality. Run prophet with weekly_seasonality=True to override this.\n",
            "INFO:fbprophet:Disabling daily seasonality. Run prophet with daily_seasonality=True to override this.\n"
          ],
          "name": "stderr"
        }
      ]
    },
    {
      "cell_type": "code",
      "metadata": {
        "colab": {
          "base_uri": "https://localhost:8080/"
        },
        "id": "fonERoXsTq1c",
        "outputId": "4fdd9b2e-05a1-4fbd-cd07-7782525d9029"
      },
      "source": [
        "#80세 \n",
        "df1 = df[is_place].drop(['읍면동',\t'년',\t'월',\t'일',\t'0s',\t'10s',\t'20s',\t'30s',\t'40s',\t'50s',\t'60s',\t'70s',\t'90s',\t'100s'], axis = 1)\n",
        "df1.columns=['y', 'ds']\n",
        "m = Prophet()\n",
        "m.fit(df1)\n",
        "future = m.make_future_dataframe(periods=365)\n",
        "forecast = m.predict(future)\n",
        "forecast[['ds', 'yhat']].to_csv('고운동80.csv')"
      ],
      "execution_count": 22,
      "outputs": [
        {
          "output_type": "stream",
          "text": [
            "INFO:fbprophet:Disabling weekly seasonality. Run prophet with weekly_seasonality=True to override this.\n",
            "INFO:fbprophet:Disabling daily seasonality. Run prophet with daily_seasonality=True to override this.\n"
          ],
          "name": "stderr"
        }
      ]
    },
    {
      "cell_type": "code",
      "metadata": {
        "colab": {
          "base_uri": "https://localhost:8080/"
        },
        "id": "mzVPMCufTsTu",
        "outputId": "8f0e2a31-14bc-472d-b3ae-e9d6287ff967"
      },
      "source": [
        "# 90세 \n",
        "df1 = df[is_place].drop(['읍면동',\t'년',\t'월',\t'일',\t'0s',\t'10s',\t'20s',\t'30s',\t'40s',\t'50s',\t'60s',\t'70s',\t'80s',\t'100s'], axis = 1)\n",
        "df1.columns=['y', 'ds']\n",
        "m = Prophet()\n",
        "m.fit(df1)\n",
        "future = m.make_future_dataframe(periods=365)\n",
        "forecast = m.predict(future)\n",
        "forecast[['ds', 'yhat']].to_csv('고운동90.csv')"
      ],
      "execution_count": 23,
      "outputs": [
        {
          "output_type": "stream",
          "text": [
            "INFO:fbprophet:Disabling weekly seasonality. Run prophet with weekly_seasonality=True to override this.\n",
            "INFO:fbprophet:Disabling daily seasonality. Run prophet with daily_seasonality=True to override this.\n"
          ],
          "name": "stderr"
        }
      ]
    },
    {
      "cell_type": "code",
      "metadata": {
        "colab": {
          "base_uri": "https://localhost:8080/"
        },
        "id": "wSw-KT7yTt6c",
        "outputId": "e1cd4afd-b9dd-4619-c547-7c1fce19a8ea"
      },
      "source": [
        "# 100세 \n",
        "df1 = df[is_place].drop(['읍면동',\t'년',\t'월',\t'일',\t'0s',\t'10s',\t'20s',\t'30s',\t'40s',\t'50s',\t'60s',\t'70s',\t'80s',\t'90s'], axis = 1)\n",
        "df1.columns=['y', 'ds']\n",
        "m = Prophet()\n",
        "m.fit(df1)\n",
        "future = m.make_future_dataframe(periods=365)\n",
        "forecast = m.predict(future)\n",
        "forecast[['ds', 'yhat']].to_csv('고운동100.csv')"
      ],
      "execution_count": 24,
      "outputs": [
        {
          "output_type": "stream",
          "text": [
            "INFO:fbprophet:Disabling weekly seasonality. Run prophet with weekly_seasonality=True to override this.\n",
            "INFO:fbprophet:Disabling daily seasonality. Run prophet with daily_seasonality=True to override this.\n"
          ],
          "name": "stderr"
        }
      ]
    },
    {
      "cell_type": "code",
      "metadata": {
        "id": "_-KwVz2zTvOy"
      },
      "source": [
        ""
      ],
      "execution_count": null,
      "outputs": []
    },
    {
      "cell_type": "markdown",
      "metadata": {
        "id": "PYCB7UudVwMn"
      },
      "source": [
        "# 다정동 \n"
      ]
    },
    {
      "cell_type": "code",
      "metadata": {
        "colab": {
          "base_uri": "https://localhost:8080/",
          "height": 201
        },
        "id": "aHZJ_VW9YFvu",
        "outputId": "2470c570-6d94-42d9-aedc-9bbe5c933200"
      },
      "source": [
        "is_place = df['읍면동'] == '다정동'\n",
        "df[is_place]"
      ],
      "execution_count": 58,
      "outputs": [
        {
          "output_type": "execute_result",
          "data": {
            "text/html": [
              "<div>\n",
              "<style scoped>\n",
              "    .dataframe tbody tr th:only-of-type {\n",
              "        vertical-align: middle;\n",
              "    }\n",
              "\n",
              "    .dataframe tbody tr th {\n",
              "        vertical-align: top;\n",
              "    }\n",
              "\n",
              "    .dataframe thead th {\n",
              "        text-align: right;\n",
              "    }\n",
              "</style>\n",
              "<table border=\"1\" class=\"dataframe\">\n",
              "  <thead>\n",
              "    <tr style=\"text-align: right;\">\n",
              "      <th></th>\n",
              "      <th>읍면동</th>\n",
              "      <th>년</th>\n",
              "      <th>월</th>\n",
              "      <th>일</th>\n",
              "      <th>0s</th>\n",
              "      <th>10s</th>\n",
              "      <th>20s</th>\n",
              "      <th>30s</th>\n",
              "      <th>40s</th>\n",
              "      <th>50s</th>\n",
              "      <th>60s</th>\n",
              "      <th>70s</th>\n",
              "      <th>80s</th>\n",
              "      <th>90s</th>\n",
              "      <th>100s</th>\n",
              "      <th>날짜</th>\n",
              "    </tr>\n",
              "  </thead>\n",
              "  <tbody>\n",
              "    <tr>\n",
              "      <th>819</th>\n",
              "      <td>다정동</td>\n",
              "      <td>2020</td>\n",
              "      <td>8</td>\n",
              "      <td>1</td>\n",
              "      <td>4842</td>\n",
              "      <td>3187</td>\n",
              "      <td>2313</td>\n",
              "      <td>5976</td>\n",
              "      <td>5253</td>\n",
              "      <td>2579</td>\n",
              "      <td>1383</td>\n",
              "      <td>372</td>\n",
              "      <td>136</td>\n",
              "      <td>23</td>\n",
              "      <td>1</td>\n",
              "      <td>2020-08-01</td>\n",
              "    </tr>\n",
              "    <tr>\n",
              "      <th>838</th>\n",
              "      <td>다정동</td>\n",
              "      <td>2020</td>\n",
              "      <td>9</td>\n",
              "      <td>1</td>\n",
              "      <td>4844</td>\n",
              "      <td>3215</td>\n",
              "      <td>2288</td>\n",
              "      <td>5981</td>\n",
              "      <td>5302</td>\n",
              "      <td>2589</td>\n",
              "      <td>1406</td>\n",
              "      <td>379</td>\n",
              "      <td>136</td>\n",
              "      <td>25</td>\n",
              "      <td>1</td>\n",
              "      <td>2020-09-01</td>\n",
              "    </tr>\n",
              "    <tr>\n",
              "      <th>857</th>\n",
              "      <td>다정동</td>\n",
              "      <td>2020</td>\n",
              "      <td>10</td>\n",
              "      <td>1</td>\n",
              "      <td>4801</td>\n",
              "      <td>3245</td>\n",
              "      <td>2283</td>\n",
              "      <td>5907</td>\n",
              "      <td>5309</td>\n",
              "      <td>2605</td>\n",
              "      <td>1416</td>\n",
              "      <td>390</td>\n",
              "      <td>135</td>\n",
              "      <td>26</td>\n",
              "      <td>1</td>\n",
              "      <td>2020-10-01</td>\n",
              "    </tr>\n",
              "    <tr>\n",
              "      <th>876</th>\n",
              "      <td>다정동</td>\n",
              "      <td>2020</td>\n",
              "      <td>11</td>\n",
              "      <td>1</td>\n",
              "      <td>4804</td>\n",
              "      <td>3264</td>\n",
              "      <td>2319</td>\n",
              "      <td>5878</td>\n",
              "      <td>5349</td>\n",
              "      <td>2640</td>\n",
              "      <td>1443</td>\n",
              "      <td>406</td>\n",
              "      <td>137</td>\n",
              "      <td>24</td>\n",
              "      <td>0</td>\n",
              "      <td>2020-11-01</td>\n",
              "    </tr>\n",
              "    <tr>\n",
              "      <th>895</th>\n",
              "      <td>다정동</td>\n",
              "      <td>2020</td>\n",
              "      <td>12</td>\n",
              "      <td>1</td>\n",
              "      <td>4855</td>\n",
              "      <td>3310</td>\n",
              "      <td>2589</td>\n",
              "      <td>6051</td>\n",
              "      <td>5489</td>\n",
              "      <td>2784</td>\n",
              "      <td>1577</td>\n",
              "      <td>481</td>\n",
              "      <td>148</td>\n",
              "      <td>29</td>\n",
              "      <td>0</td>\n",
              "      <td>2020-12-01</td>\n",
              "    </tr>\n",
              "  </tbody>\n",
              "</table>\n",
              "</div>"
            ],
            "text/plain": [
              "     읍면동     년   월  일    0s   10s  ...   60s  70s  80s  90s  100s          날짜\n",
              "819  다정동  2020   8  1  4842  3187  ...  1383  372  136   23     1  2020-08-01\n",
              "838  다정동  2020   9  1  4844  3215  ...  1406  379  136   25     1  2020-09-01\n",
              "857  다정동  2020  10  1  4801  3245  ...  1416  390  135   26     1  2020-10-01\n",
              "876  다정동  2020  11  1  4804  3264  ...  1443  406  137   24     0  2020-11-01\n",
              "895  다정동  2020  12  1  4855  3310  ...  1577  481  148   29     0  2020-12-01\n",
              "\n",
              "[5 rows x 16 columns]"
            ]
          },
          "metadata": {
            "tags": []
          },
          "execution_count": 58
        }
      ]
    },
    {
      "cell_type": "code",
      "metadata": {
        "colab": {
          "base_uri": "https://localhost:8080/"
        },
        "id": "_aIaYsIuVwMo",
        "outputId": "02ae7c29-5404-448e-a91f-aed58f439994"
      },
      "source": [
        "is_place = df['읍면동'] == '다정동'\n",
        "#0세\n",
        "df1 = df[is_place].drop(['읍면동',\t'년',\t'월',\t'일',\t'10s',\t'20s',\t'30s',\t'40s',\t'50s',\t'60s',\t'70s',\t'80s',\t'90s',\t'100s'], axis = 1)\n",
        "df1.columns=['y', 'ds']\n",
        "m = Prophet()\n",
        "m.fit(df1)\n",
        "future = m.make_future_dataframe(periods=365)\n",
        "forecast = m.predict(future)\n",
        "forecast[['ds', 'yhat']].to_csv('다정동_00세.csv')"
      ],
      "execution_count": 25,
      "outputs": [
        {
          "output_type": "stream",
          "text": [
            "INFO:fbprophet:Disabling yearly seasonality. Run prophet with yearly_seasonality=True to override this.\n",
            "INFO:fbprophet:Disabling weekly seasonality. Run prophet with weekly_seasonality=True to override this.\n",
            "INFO:fbprophet:Disabling daily seasonality. Run prophet with daily_seasonality=True to override this.\n",
            "INFO:fbprophet:n_changepoints greater than number of observations. Using 3.\n"
          ],
          "name": "stderr"
        }
      ]
    },
    {
      "cell_type": "code",
      "metadata": {
        "colab": {
          "base_uri": "https://localhost:8080/"
        },
        "id": "osz4qjNsVwMp",
        "outputId": "4204acaa-9bbb-472e-d3c8-1f8d7ee5c6b0"
      },
      "source": [
        "#10세\n",
        "df1 = df[is_place].drop(['읍면동',\t'년',\t'월',\t'일',\t'0s',\t'20s',\t'30s',\t'40s',\t'50s',\t'60s',\t'70s',\t'80s',\t'90s',\t'100s'], axis = 1)\n",
        "df1.columns=['y', 'ds']\n",
        "m = Prophet()\n",
        "m.fit(df1)\n",
        "future = m.make_future_dataframe(periods=365)\n",
        "forecast = m.predict(future)\n",
        "forecast[['ds', 'yhat']].to_csv('다정동10.csv')\n"
      ],
      "execution_count": 26,
      "outputs": [
        {
          "output_type": "stream",
          "text": [
            "INFO:fbprophet:Disabling yearly seasonality. Run prophet with yearly_seasonality=True to override this.\n",
            "INFO:fbprophet:Disabling weekly seasonality. Run prophet with weekly_seasonality=True to override this.\n",
            "INFO:fbprophet:Disabling daily seasonality. Run prophet with daily_seasonality=True to override this.\n",
            "INFO:fbprophet:n_changepoints greater than number of observations. Using 3.\n"
          ],
          "name": "stderr"
        }
      ]
    },
    {
      "cell_type": "code",
      "metadata": {
        "colab": {
          "base_uri": "https://localhost:8080/"
        },
        "id": "_w-Ja7WHVwMq",
        "outputId": "ad3ade31-d4ae-4908-f4e0-0a1f5bb9cfe9"
      },
      "source": [
        "#20세 \n",
        "df1 = df[is_place].drop(['읍면동',\t'년',\t'월',\t'일',\t'0s',\t'10s',\t'30s',\t'40s',\t'50s',\t'60s',\t'70s',\t'80s',\t'90s',\t'100s'], axis = 1)\n",
        "df1.columns=['y', 'ds']\n",
        "m = Prophet()\n",
        "m.fit(df1)\n",
        "future = m.make_future_dataframe(periods=365)\n",
        "forecast = m.predict(future)\n",
        "forecast[['ds', 'yhat']].to_csv('다정동20.csv')\n"
      ],
      "execution_count": 27,
      "outputs": [
        {
          "output_type": "stream",
          "text": [
            "INFO:fbprophet:Disabling yearly seasonality. Run prophet with yearly_seasonality=True to override this.\n",
            "INFO:fbprophet:Disabling weekly seasonality. Run prophet with weekly_seasonality=True to override this.\n",
            "INFO:fbprophet:Disabling daily seasonality. Run prophet with daily_seasonality=True to override this.\n",
            "INFO:fbprophet:n_changepoints greater than number of observations. Using 3.\n"
          ],
          "name": "stderr"
        }
      ]
    },
    {
      "cell_type": "code",
      "metadata": {
        "colab": {
          "base_uri": "https://localhost:8080/"
        },
        "id": "u-n6ImjcVwMq",
        "outputId": "7edff7df-b876-48ef-c7a5-0fb62089d04d"
      },
      "source": [
        "#30세 \n",
        "df1 = df[is_place].drop(['읍면동',\t'년',\t'월',\t'일',\t'0s',\t'10s',\t'20s',\t'40s',\t'50s',\t'60s',\t'70s',\t'80s',\t'90s',\t'100s'], axis = 1)\n",
        "df1.columns=['y', 'ds']\n",
        "m = Prophet()\n",
        "m.fit(df1)\n",
        "future = m.make_future_dataframe(periods=365)\n",
        "forecast = m.predict(future)\n",
        "forecast[['ds', 'yhat']].to_csv('다정동30.csv')\n"
      ],
      "execution_count": 28,
      "outputs": [
        {
          "output_type": "stream",
          "text": [
            "INFO:fbprophet:Disabling yearly seasonality. Run prophet with yearly_seasonality=True to override this.\n",
            "INFO:fbprophet:Disabling weekly seasonality. Run prophet with weekly_seasonality=True to override this.\n",
            "INFO:fbprophet:Disabling daily seasonality. Run prophet with daily_seasonality=True to override this.\n",
            "INFO:fbprophet:n_changepoints greater than number of observations. Using 3.\n"
          ],
          "name": "stderr"
        }
      ]
    },
    {
      "cell_type": "code",
      "metadata": {
        "colab": {
          "base_uri": "https://localhost:8080/"
        },
        "id": "agyG9mWCVwMr",
        "outputId": "666c37ad-9232-484c-ddce-d0791990af0d"
      },
      "source": [
        "#40세 \n",
        "df1 = df[is_place].drop(['읍면동',\t'년',\t'월',\t'일',\t'0s',\t'10s',\t'20s',\t'30s',\t'50s',\t'60s',\t'70s',\t'80s',\t'90s',\t'100s'], axis = 1)\n",
        "df1.columns=['y', 'ds']\n",
        "m = Prophet()\n",
        "m.fit(df1)\n",
        "future = m.make_future_dataframe(periods=365)\n",
        "forecast = m.predict(future)\n",
        "forecast[['ds', 'yhat']].to_csv('다정동40.csv')"
      ],
      "execution_count": 29,
      "outputs": [
        {
          "output_type": "stream",
          "text": [
            "INFO:fbprophet:Disabling yearly seasonality. Run prophet with yearly_seasonality=True to override this.\n",
            "INFO:fbprophet:Disabling weekly seasonality. Run prophet with weekly_seasonality=True to override this.\n",
            "INFO:fbprophet:Disabling daily seasonality. Run prophet with daily_seasonality=True to override this.\n",
            "INFO:fbprophet:n_changepoints greater than number of observations. Using 3.\n"
          ],
          "name": "stderr"
        }
      ]
    },
    {
      "cell_type": "code",
      "metadata": {
        "colab": {
          "base_uri": "https://localhost:8080/"
        },
        "id": "sSYbIjMjVwMr",
        "outputId": "9aff6ae2-efef-41f0-c04c-ea8fceb2dab8"
      },
      "source": [
        "#50세 \n",
        "df1 = df[is_place].drop(['읍면동',\t'년',\t'월',\t'일',\t'0s',\t'10s',\t'20s',\t'30s',\t'40s',\t'60s',\t'70s',\t'80s',\t'90s',\t'100s'], axis = 1)\n",
        "df1.columns=['y', 'ds']\n",
        "m = Prophet()\n",
        "m.fit(df1)\n",
        "future = m.make_future_dataframe(periods=365)\n",
        "forecast = m.predict(future)\n",
        "forecast[['ds', 'yhat']].to_csv('다정동50.csv')"
      ],
      "execution_count": 30,
      "outputs": [
        {
          "output_type": "stream",
          "text": [
            "INFO:fbprophet:Disabling yearly seasonality. Run prophet with yearly_seasonality=True to override this.\n",
            "INFO:fbprophet:Disabling weekly seasonality. Run prophet with weekly_seasonality=True to override this.\n",
            "INFO:fbprophet:Disabling daily seasonality. Run prophet with daily_seasonality=True to override this.\n",
            "INFO:fbprophet:n_changepoints greater than number of observations. Using 3.\n"
          ],
          "name": "stderr"
        }
      ]
    },
    {
      "cell_type": "code",
      "metadata": {
        "colab": {
          "base_uri": "https://localhost:8080/"
        },
        "id": "G0mEgU1uVwMs",
        "outputId": "524fb15b-b12c-4da4-a286-77a0349eecc4"
      },
      "source": [
        "#60세 \n",
        "df1 = df[is_place].drop(['읍면동',\t'년',\t'월',\t'일',\t'0s',\t'10s',\t'20s',\t'30s',\t'40s',\t'50s',\t'70s',\t'80s',\t'90s',\t'100s'], axis = 1)\n",
        "df1.columns=['y', 'ds']\n",
        "m = Prophet()\n",
        "m.fit(df1)\n",
        "future = m.make_future_dataframe(periods=365)\n",
        "forecast = m.predict(future)\n",
        "forecast[['ds', 'yhat']].to_csv('다정동60.csv')"
      ],
      "execution_count": 31,
      "outputs": [
        {
          "output_type": "stream",
          "text": [
            "INFO:fbprophet:Disabling yearly seasonality. Run prophet with yearly_seasonality=True to override this.\n",
            "INFO:fbprophet:Disabling weekly seasonality. Run prophet with weekly_seasonality=True to override this.\n",
            "INFO:fbprophet:Disabling daily seasonality. Run prophet with daily_seasonality=True to override this.\n",
            "INFO:fbprophet:n_changepoints greater than number of observations. Using 3.\n"
          ],
          "name": "stderr"
        }
      ]
    },
    {
      "cell_type": "code",
      "metadata": {
        "colab": {
          "base_uri": "https://localhost:8080/"
        },
        "id": "XiKtauHtVwMt",
        "outputId": "4e54b566-dfdf-4970-87e4-65490223f141"
      },
      "source": [
        "#70세 \n",
        "df1 = df[is_place].drop(['읍면동',\t'년',\t'월',\t'일',\t'0s',\t'10s',\t'20s',\t'30s',\t'40s',\t'50s',\t'60s',\t'80s',\t'90s',\t'100s'], axis = 1)\n",
        "df1.columns=['y', 'ds']\n",
        "m = Prophet()\n",
        "m.fit(df1)\n",
        "future = m.make_future_dataframe(periods=365)\n",
        "forecast = m.predict(future)\n",
        "forecast[['ds', 'yhat']].to_csv('다정동70.csv')"
      ],
      "execution_count": 32,
      "outputs": [
        {
          "output_type": "stream",
          "text": [
            "INFO:fbprophet:Disabling yearly seasonality. Run prophet with yearly_seasonality=True to override this.\n",
            "INFO:fbprophet:Disabling weekly seasonality. Run prophet with weekly_seasonality=True to override this.\n",
            "INFO:fbprophet:Disabling daily seasonality. Run prophet with daily_seasonality=True to override this.\n",
            "INFO:fbprophet:n_changepoints greater than number of observations. Using 3.\n"
          ],
          "name": "stderr"
        }
      ]
    },
    {
      "cell_type": "code",
      "metadata": {
        "colab": {
          "base_uri": "https://localhost:8080/"
        },
        "id": "Y3Avg-5BVwMu",
        "outputId": "5446714e-da2c-4020-ef71-5f2c9442c116"
      },
      "source": [
        "#80세 \n",
        "df1 = df[is_place].drop(['읍면동',\t'년',\t'월',\t'일',\t'0s',\t'10s',\t'20s',\t'30s',\t'40s',\t'50s',\t'60s',\t'70s',\t'90s',\t'100s'], axis = 1)\n",
        "df1.columns=['y', 'ds']\n",
        "m = Prophet()\n",
        "m.fit(df1)\n",
        "future = m.make_future_dataframe(periods=365)\n",
        "forecast = m.predict(future)\n",
        "forecast[['ds', 'yhat']].to_csv('다정동80.csv')"
      ],
      "execution_count": 33,
      "outputs": [
        {
          "output_type": "stream",
          "text": [
            "INFO:fbprophet:Disabling yearly seasonality. Run prophet with yearly_seasonality=True to override this.\n",
            "INFO:fbprophet:Disabling weekly seasonality. Run prophet with weekly_seasonality=True to override this.\n",
            "INFO:fbprophet:Disabling daily seasonality. Run prophet with daily_seasonality=True to override this.\n",
            "INFO:fbprophet:n_changepoints greater than number of observations. Using 3.\n"
          ],
          "name": "stderr"
        }
      ]
    },
    {
      "cell_type": "code",
      "metadata": {
        "colab": {
          "base_uri": "https://localhost:8080/"
        },
        "id": "H5HA1Zb_VwMu",
        "outputId": "8045c63d-5b8b-4f75-c2b8-f49d79b3aa21"
      },
      "source": [
        "# 90세 \n",
        "df1 = df[is_place].drop(['읍면동',\t'년',\t'월',\t'일',\t'0s',\t'10s',\t'20s',\t'30s',\t'40s',\t'50s',\t'60s',\t'70s',\t'80s',\t'100s'], axis = 1)\n",
        "df1.columns=['y', 'ds']\n",
        "m = Prophet()\n",
        "m.fit(df1)\n",
        "future = m.make_future_dataframe(periods=365)\n",
        "forecast = m.predict(future)\n",
        "forecast[['ds', 'yhat']].to_csv('다정동90.csv')"
      ],
      "execution_count": 34,
      "outputs": [
        {
          "output_type": "stream",
          "text": [
            "INFO:fbprophet:Disabling yearly seasonality. Run prophet with yearly_seasonality=True to override this.\n",
            "INFO:fbprophet:Disabling weekly seasonality. Run prophet with weekly_seasonality=True to override this.\n",
            "INFO:fbprophet:Disabling daily seasonality. Run prophet with daily_seasonality=True to override this.\n",
            "INFO:fbprophet:n_changepoints greater than number of observations. Using 3.\n"
          ],
          "name": "stderr"
        }
      ]
    },
    {
      "cell_type": "code",
      "metadata": {
        "colab": {
          "base_uri": "https://localhost:8080/"
        },
        "id": "F3ybQrFhVwMv",
        "outputId": "f64a2803-8d62-44b0-db6c-0f2e503ea53b"
      },
      "source": [
        "# 100세 \n",
        "df1 = df[is_place].drop(['읍면동',\t'년',\t'월',\t'일',\t'0s',\t'10s',\t'20s',\t'30s',\t'40s',\t'50s',\t'60s',\t'70s',\t'80s',\t'90s'], axis = 1)\n",
        "df1.columns=['y', 'ds']\n",
        "m = Prophet()\n",
        "m.fit(df1)\n",
        "future = m.make_future_dataframe(periods=365)\n",
        "forecast = m.predict(future)\n",
        "forecast[['ds', 'yhat']].to_csv('다정동100.csv')"
      ],
      "execution_count": 35,
      "outputs": [
        {
          "output_type": "stream",
          "text": [
            "INFO:fbprophet:Disabling yearly seasonality. Run prophet with yearly_seasonality=True to override this.\n",
            "INFO:fbprophet:Disabling weekly seasonality. Run prophet with weekly_seasonality=True to override this.\n",
            "INFO:fbprophet:Disabling daily seasonality. Run prophet with daily_seasonality=True to override this.\n",
            "INFO:fbprophet:n_changepoints greater than number of observations. Using 3.\n"
          ],
          "name": "stderr"
        }
      ]
    },
    {
      "cell_type": "code",
      "metadata": {
        "id": "MAgO4T_hV8My"
      },
      "source": [
        ""
      ],
      "execution_count": 35,
      "outputs": []
    },
    {
      "cell_type": "markdown",
      "metadata": {
        "id": "opuXVha1V8a5"
      },
      "source": [
        "# 대평동 \n"
      ]
    },
    {
      "cell_type": "code",
      "metadata": {
        "colab": {
          "base_uri": "https://localhost:8080/"
        },
        "id": "hDo_v-TzV8a6",
        "outputId": "54a27dad-502c-4592-9a33-31a6c222e043"
      },
      "source": [
        "is_place = df['읍면동'] == '대평동'\n",
        "#0세\n",
        "df1 = df[is_place].drop(['읍면동',\t'년',\t'월',\t'일',\t'10s',\t'20s',\t'30s',\t'40s',\t'50s',\t'60s',\t'70s',\t'80s',\t'90s',\t'100s'], axis = 1)\n",
        "df1.columns=['y', 'ds']\n",
        "m = Prophet(changepoint_prior_scale = 0.001, seasonality_prior_scale=0.01)\n",
        "m.fit(df1)\n",
        "future = m.make_future_dataframe(periods=365)\n",
        "forecast = m.predict(future)\n",
        "fc = forecast[['ds', 'yhat']]\n",
        "is_minus = fc['yhat']<0\n",
        "fc[is_minus]\n",
        "fc.to_csv('대평동0-9세.csv')"
      ],
      "execution_count": 162,
      "outputs": [
        {
          "output_type": "stream",
          "text": [
            "INFO:fbprophet:Disabling weekly seasonality. Run prophet with weekly_seasonality=True to override this.\n",
            "INFO:fbprophet:Disabling daily seasonality. Run prophet with daily_seasonality=True to override this.\n",
            "INFO:fbprophet:n_changepoints greater than number of observations. Using 23.\n"
          ],
          "name": "stderr"
        }
      ]
    },
    {
      "cell_type": "code",
      "metadata": {
        "colab": {
          "base_uri": "https://localhost:8080/"
        },
        "id": "rqWqaNkAV8a8",
        "outputId": "4aa89c62-eaa0-46e7-9e25-a638694862b6"
      },
      "source": [
        "#10세\n",
        "df1 = df[is_place].drop(['읍면동',\t'년',\t'월',\t'일',\t'0s',\t'20s',\t'30s',\t'40s',\t'50s',\t'60s',\t'70s',\t'80s',\t'90s',\t'100s'], axis = 1)\n",
        "df1.columns=['y', 'ds']\n",
        "m = Prophet(changepoint_prior_scale = 0.001, seasonality_prior_scale=0.01)\n",
        "m.fit(df1)\n",
        "future = m.make_future_dataframe(periods=365)\n",
        "forecast = m.predict(future)\n",
        "fc = forecast[['ds', 'yhat']]\n",
        "is_minus = fc['yhat']<0\n",
        "fc[is_minus]\n",
        "fc.to_csv('대평동10.csv')\n"
      ],
      "execution_count": 164,
      "outputs": [
        {
          "output_type": "stream",
          "text": [
            "INFO:fbprophet:Disabling weekly seasonality. Run prophet with weekly_seasonality=True to override this.\n",
            "INFO:fbprophet:Disabling daily seasonality. Run prophet with daily_seasonality=True to override this.\n",
            "INFO:fbprophet:n_changepoints greater than number of observations. Using 23.\n"
          ],
          "name": "stderr"
        }
      ]
    },
    {
      "cell_type": "code",
      "metadata": {
        "colab": {
          "base_uri": "https://localhost:8080/"
        },
        "id": "MZ63-VVgV8a9",
        "outputId": "ea1dca18-c156-4b28-bc36-291366ba664f"
      },
      "source": [
        "#20세 \n",
        "df1 = df[is_place].drop(['읍면동',\t'년',\t'월',\t'일',\t'0s',\t'10s',\t'30s',\t'40s',\t'50s',\t'60s',\t'70s',\t'80s',\t'90s',\t'100s'], axis = 1)\n",
        "df1.columns=['y', 'ds']\n",
        "m = Prophet(changepoint_prior_scale = 0.001, seasonality_prior_scale=0.01)\n",
        "m.fit(df1)\n",
        "future = m.make_future_dataframe(periods=365)\n",
        "forecast = m.predict(future)\n",
        "fc = forecast[['ds', 'yhat']]\n",
        "is_minus = fc['yhat']<0\n",
        "fc[is_minus]\n",
        "fc.to_csv('대평동20.csv')"
      ],
      "execution_count": 166,
      "outputs": [
        {
          "output_type": "stream",
          "text": [
            "INFO:fbprophet:Disabling weekly seasonality. Run prophet with weekly_seasonality=True to override this.\n",
            "INFO:fbprophet:Disabling daily seasonality. Run prophet with daily_seasonality=True to override this.\n",
            "INFO:fbprophet:n_changepoints greater than number of observations. Using 23.\n"
          ],
          "name": "stderr"
        }
      ]
    },
    {
      "cell_type": "code",
      "metadata": {
        "colab": {
          "base_uri": "https://localhost:8080/"
        },
        "id": "D7ylII5IV8a9",
        "outputId": "46595842-b001-432a-9187-5f0f0201515b"
      },
      "source": [
        "#30세 \n",
        "df1 = df[is_place].drop(['읍면동',\t'년',\t'월',\t'일',\t'0s',\t'10s',\t'20s',\t'40s',\t'50s',\t'60s',\t'70s',\t'80s',\t'90s',\t'100s'], axis = 1)\n",
        "df1.columns=['y', 'ds']\n",
        "m = Prophet(changepoint_prior_scale = 0.001, seasonality_prior_scale=0.01)\n",
        "m.fit(df1)\n",
        "future = m.make_future_dataframe(periods=365)\n",
        "forecast = m.predict(future)\n",
        "fc = forecast[['ds', 'yhat']]\n",
        "is_minus = fc['yhat']<0\n",
        "fc[is_minus]\n",
        "fc.to_csv('대평동30.csv')\n"
      ],
      "execution_count": 168,
      "outputs": [
        {
          "output_type": "stream",
          "text": [
            "INFO:fbprophet:Disabling weekly seasonality. Run prophet with weekly_seasonality=True to override this.\n",
            "INFO:fbprophet:Disabling daily seasonality. Run prophet with daily_seasonality=True to override this.\n",
            "INFO:fbprophet:n_changepoints greater than number of observations. Using 23.\n"
          ],
          "name": "stderr"
        }
      ]
    },
    {
      "cell_type": "code",
      "metadata": {
        "colab": {
          "base_uri": "https://localhost:8080/"
        },
        "id": "eDtOiykRV8a-",
        "outputId": "1d05c327-a579-4fd4-f8d2-5df0095a91a7"
      },
      "source": [
        "#40세 \n",
        "df1 = df[is_place].drop(['읍면동',\t'년',\t'월',\t'일',\t'0s',\t'10s',\t'20s',\t'30s',\t'50s',\t'60s',\t'70s',\t'80s',\t'90s',\t'100s'], axis = 1)\n",
        "df1.columns=['y', 'ds']\n",
        "m = Prophet(changepoint_prior_scale = 0.001, seasonality_prior_scale=0.01)\n",
        "m.fit(df1)\n",
        "future = m.make_future_dataframe(periods=365)\n",
        "forecast = m.predict(future)\n",
        "fc = forecast[['ds', 'yhat']]\n",
        "is_minus = fc['yhat']<0\n",
        "fc[is_minus]\n",
        "fc.to_csv('대평동40.csv')"
      ],
      "execution_count": 170,
      "outputs": [
        {
          "output_type": "stream",
          "text": [
            "INFO:fbprophet:Disabling weekly seasonality. Run prophet with weekly_seasonality=True to override this.\n",
            "INFO:fbprophet:Disabling daily seasonality. Run prophet with daily_seasonality=True to override this.\n",
            "INFO:fbprophet:n_changepoints greater than number of observations. Using 23.\n"
          ],
          "name": "stderr"
        }
      ]
    },
    {
      "cell_type": "code",
      "metadata": {
        "colab": {
          "base_uri": "https://localhost:8080/"
        },
        "id": "JPE1IfIMV8a_",
        "outputId": "bd1b1c43-3812-4888-d5ce-593ae19d45b5"
      },
      "source": [
        "#50세 \n",
        "df1 = df[is_place].drop(['읍면동',\t'년',\t'월',\t'일',\t'0s',\t'10s',\t'20s',\t'30s',\t'40s',\t'60s',\t'70s',\t'80s',\t'90s',\t'100s'], axis = 1)\n",
        "df1.columns=['y', 'ds']\n",
        "m = Prophet(changepoint_prior_scale = 0.001, seasonality_prior_scale=0.01)\n",
        "m.fit(df1)\n",
        "future = m.make_future_dataframe(periods=365)\n",
        "forecast = m.predict(future)\n",
        "fc = forecast[['ds', 'yhat']]\n",
        "is_minus = fc['yhat']<0\n",
        "fc[is_minus]\n",
        "fc.to_csv('대평동50.csv')"
      ],
      "execution_count": 172,
      "outputs": [
        {
          "output_type": "stream",
          "text": [
            "INFO:fbprophet:Disabling weekly seasonality. Run prophet with weekly_seasonality=True to override this.\n",
            "INFO:fbprophet:Disabling daily seasonality. Run prophet with daily_seasonality=True to override this.\n",
            "INFO:fbprophet:n_changepoints greater than number of observations. Using 23.\n"
          ],
          "name": "stderr"
        }
      ]
    },
    {
      "cell_type": "code",
      "metadata": {
        "colab": {
          "base_uri": "https://localhost:8080/"
        },
        "id": "O5hDyb6jV8bA",
        "outputId": "a3c41e56-96d6-4911-f18a-3e882f8cc04e"
      },
      "source": [
        "#60세 \n",
        "df1 = df[is_place].drop(['읍면동',\t'년',\t'월',\t'일',\t'0s',\t'10s',\t'20s',\t'30s',\t'40s',\t'50s',\t'70s',\t'80s',\t'90s',\t'100s'], axis = 1)\n",
        "df1.columns=['y', 'ds']\n",
        "m = Prophet(changepoint_prior_scale = 0.001, seasonality_prior_scale=0.01)\n",
        "m.fit(df1)\n",
        "future = m.make_future_dataframe(periods=365)\n",
        "forecast = m.predict(future)\n",
        "fc = forecast[['ds', 'yhat']]\n",
        "is_minus = fc['yhat']<0\n",
        "fc[is_minus]\n",
        "fc.to_csv('대평동60.csv')"
      ],
      "execution_count": 174,
      "outputs": [
        {
          "output_type": "stream",
          "text": [
            "INFO:fbprophet:Disabling weekly seasonality. Run prophet with weekly_seasonality=True to override this.\n",
            "INFO:fbprophet:Disabling daily seasonality. Run prophet with daily_seasonality=True to override this.\n",
            "INFO:fbprophet:n_changepoints greater than number of observations. Using 23.\n"
          ],
          "name": "stderr"
        }
      ]
    },
    {
      "cell_type": "code",
      "metadata": {
        "colab": {
          "base_uri": "https://localhost:8080/"
        },
        "id": "BG8p3IGuV8bB",
        "outputId": "9d6413a7-185e-46b3-939a-19e727ed50bf"
      },
      "source": [
        "#70세 \n",
        "df1 = df[is_place].drop(['읍면동',\t'년',\t'월',\t'일',\t'0s',\t'10s',\t'20s',\t'30s',\t'40s',\t'50s',\t'60s',\t'80s',\t'90s',\t'100s'], axis = 1)\n",
        "df1.columns=['y', 'ds']\n",
        "m = Prophet(changepoint_prior_scale = 0.001, seasonality_prior_scale=0.01)\n",
        "m.fit(df1)\n",
        "future = m.make_future_dataframe(periods=365)\n",
        "forecast = m.predict(future)\n",
        "fc = forecast[['ds', 'yhat']]\n",
        "is_minus = fc['yhat']<0\n",
        "fc[is_minus]\n",
        "fc.to_csv('대평동70.csv')"
      ],
      "execution_count": 176,
      "outputs": [
        {
          "output_type": "stream",
          "text": [
            "INFO:fbprophet:Disabling weekly seasonality. Run prophet with weekly_seasonality=True to override this.\n",
            "INFO:fbprophet:Disabling daily seasonality. Run prophet with daily_seasonality=True to override this.\n",
            "INFO:fbprophet:n_changepoints greater than number of observations. Using 23.\n"
          ],
          "name": "stderr"
        }
      ]
    },
    {
      "cell_type": "code",
      "metadata": {
        "colab": {
          "base_uri": "https://localhost:8080/"
        },
        "id": "nstoCQn7V8bC",
        "outputId": "59c13157-017a-477d-8ded-a98891637d45"
      },
      "source": [
        "#80세 \n",
        "df1 = df[is_place].drop(['읍면동',\t'년',\t'월',\t'일',\t'0s',\t'10s',\t'20s',\t'30s',\t'40s',\t'50s',\t'60s',\t'70s',\t'90s',\t'100s'], axis = 1)\n",
        "df1.columns=['y', 'ds']\n",
        "m = Prophet(changepoint_prior_scale = 0.001, seasonality_prior_scale=0.01)\n",
        "m.fit(df1)\n",
        "future = m.make_future_dataframe(periods=365)\n",
        "forecast = m.predict(future)\n",
        "fc = forecast[['ds', 'yhat']]\n",
        "is_minus = fc['yhat']<0\n",
        "fc[is_minus]\n",
        "fc.to_csv('대평동80.csv')"
      ],
      "execution_count": 178,
      "outputs": [
        {
          "output_type": "stream",
          "text": [
            "INFO:fbprophet:Disabling weekly seasonality. Run prophet with weekly_seasonality=True to override this.\n",
            "INFO:fbprophet:Disabling daily seasonality. Run prophet with daily_seasonality=True to override this.\n",
            "INFO:fbprophet:n_changepoints greater than number of observations. Using 23.\n"
          ],
          "name": "stderr"
        }
      ]
    },
    {
      "cell_type": "code",
      "metadata": {
        "colab": {
          "base_uri": "https://localhost:8080/"
        },
        "id": "b44t3ddyV8bD",
        "outputId": "e5d553b1-cbb3-4233-f41e-c08c82dc7611"
      },
      "source": [
        "# 90세 \n",
        "df1 = df[is_place].drop(['읍면동',\t'년',\t'월',\t'일',\t'0s',\t'10s',\t'20s',\t'30s',\t'40s',\t'50s',\t'60s',\t'70s',\t'80s',\t'100s'], axis = 1)\n",
        "df1.columns=['y', 'ds']\n",
        "m = Prophet(changepoint_prior_scale = 0.001, seasonality_prior_scale=0.01)\n",
        "m.fit(df1)\n",
        "future = m.make_future_dataframe(periods=365)\n",
        "forecast = m.predict(future)\n",
        "fc = forecast[['ds', 'yhat']]\n",
        "is_minus = fc['yhat']<0\n",
        "fc[is_minus]\n",
        "fc.to_csv('대평동90.csv')"
      ],
      "execution_count": 180,
      "outputs": [
        {
          "output_type": "stream",
          "text": [
            "INFO:fbprophet:Disabling weekly seasonality. Run prophet with weekly_seasonality=True to override this.\n",
            "INFO:fbprophet:Disabling daily seasonality. Run prophet with daily_seasonality=True to override this.\n",
            "INFO:fbprophet:n_changepoints greater than number of observations. Using 23.\n"
          ],
          "name": "stderr"
        }
      ]
    },
    {
      "cell_type": "code",
      "metadata": {
        "colab": {
          "base_uri": "https://localhost:8080/"
        },
        "id": "B76yXKE_V8bD",
        "outputId": "98f7b432-58b0-431d-f340-2f0da806ff4b"
      },
      "source": [
        "# 100세 \n",
        "df1 = df[is_place].drop(['읍면동',\t'년',\t'월',\t'일',\t'0s',\t'10s',\t'20s',\t'30s',\t'40s',\t'50s',\t'60s',\t'70s',\t'80s',\t'90s'], axis = 1)\n",
        "df1.columns=['y', 'ds']\n",
        "m = Prophet(changepoint_prior_scale = 0.001, seasonality_prior_scale=0.01)\n",
        "m.fit(df1)\n",
        "future = m.make_future_dataframe(periods=365)\n",
        "forecast = m.predict(future)\n",
        "fc = forecast[['ds', 'yhat']]\n",
        "is_minus = fc['yhat']<0\n",
        "fc[is_minus]\n",
        "fc['yhat'] = fc['yhat'].abs()\n",
        "fc['yhat']\n",
        "fc.to_csv('대평동100.csv')"
      ],
      "execution_count": 184,
      "outputs": [
        {
          "output_type": "stream",
          "text": [
            "INFO:fbprophet:Disabling weekly seasonality. Run prophet with weekly_seasonality=True to override this.\n",
            "INFO:fbprophet:Disabling daily seasonality. Run prophet with daily_seasonality=True to override this.\n",
            "INFO:fbprophet:n_changepoints greater than number of observations. Using 23.\n",
            "/usr/local/lib/python3.7/dist-packages/ipykernel_launcher.py:11: SettingWithCopyWarning:\n",
            "\n",
            "\n",
            "A value is trying to be set on a copy of a slice from a DataFrame.\n",
            "Try using .loc[row_indexer,col_indexer] = value instead\n",
            "\n",
            "See the caveats in the documentation: https://pandas.pydata.org/pandas-docs/stable/user_guide/indexing.html#returning-a-view-versus-a-copy\n",
            "\n"
          ],
          "name": "stderr"
        }
      ]
    },
    {
      "cell_type": "code",
      "metadata": {
        "id": "sKBNsULAWI74"
      },
      "source": [
        ""
      ],
      "execution_count": 69,
      "outputs": []
    },
    {
      "cell_type": "code",
      "metadata": {
        "id": "f8WoLJTTWLqm"
      },
      "source": [
        ""
      ],
      "execution_count": 69,
      "outputs": []
    },
    {
      "cell_type": "markdown",
      "metadata": {
        "id": "N0gMCcSTWMUl"
      },
      "source": [
        "# 보람동 \n"
      ]
    },
    {
      "cell_type": "code",
      "metadata": {
        "colab": {
          "base_uri": "https://localhost:8080/"
        },
        "id": "sJO6Zyn_WMUm",
        "outputId": "756effc8-5624-42b7-a839-1c586b09a4b3"
      },
      "source": [
        "is_place = df['읍면동'] == '보람동'\n",
        "#0세\n",
        "df1 = df[is_place].drop(['읍면동',\t'년',\t'월',\t'일',\t'10s',\t'20s',\t'30s',\t'40s',\t'50s',\t'60s',\t'70s',\t'80s',\t'90s',\t'100s'], axis = 1)\n",
        "df1.columns=['y', 'ds']\n",
        "m = Prophet(changepoint_prior_scale = 0.001, seasonality_prior_scale=0.01)\n",
        "m.fit(df1)\n",
        "future = m.make_future_dataframe(periods=365)\n",
        "forecast = m.predict(future)\n",
        "fc = forecast[['ds', 'yhat']]\n",
        "is_minus = fc['yhat']<0\n",
        "fc[is_minus]\n",
        "fc.to_csv('보람동0-9세.csv')"
      ],
      "execution_count": 140,
      "outputs": [
        {
          "output_type": "stream",
          "text": [
            "INFO:fbprophet:Disabling weekly seasonality. Run prophet with weekly_seasonality=True to override this.\n",
            "INFO:fbprophet:Disabling daily seasonality. Run prophet with daily_seasonality=True to override this.\n"
          ],
          "name": "stderr"
        }
      ]
    },
    {
      "cell_type": "code",
      "metadata": {
        "colab": {
          "base_uri": "https://localhost:8080/"
        },
        "id": "OVx85TTJWMUo",
        "outputId": "6e2744b2-7fca-48bf-d462-71a61b9e1132"
      },
      "source": [
        "#10세\n",
        "df1 = df[is_place].drop(['읍면동',\t'년',\t'월',\t'일',\t'0s',\t'20s',\t'30s',\t'40s',\t'50s',\t'60s',\t'70s',\t'80s',\t'90s',\t'100s'], axis = 1)\n",
        "df1.columns=['y', 'ds']\n",
        "m = Prophet(changepoint_prior_scale = 0.001, seasonality_prior_scale=0.01)\n",
        "m.fit(df1)\n",
        "future = m.make_future_dataframe(periods=365)\n",
        "forecast = m.predict(future)\n",
        "fc = forecast[['ds', 'yhat']]\n",
        "is_minus = fc['yhat']<0\n",
        "fc[is_minus]\n",
        "fc.to_csv('보람동10.csv')\n"
      ],
      "execution_count": 142,
      "outputs": [
        {
          "output_type": "stream",
          "text": [
            "INFO:fbprophet:Disabling weekly seasonality. Run prophet with weekly_seasonality=True to override this.\n",
            "INFO:fbprophet:Disabling daily seasonality. Run prophet with daily_seasonality=True to override this.\n"
          ],
          "name": "stderr"
        }
      ]
    },
    {
      "cell_type": "code",
      "metadata": {
        "colab": {
          "base_uri": "https://localhost:8080/"
        },
        "id": "HiwsOBWUWMUp",
        "outputId": "146e9a19-47cf-4bc5-a47c-038d1cc83318"
      },
      "source": [
        "#20세 \n",
        "df1 = df[is_place].drop(['읍면동',\t'년',\t'월',\t'일',\t'0s',\t'10s',\t'30s',\t'40s',\t'50s',\t'60s',\t'70s',\t'80s',\t'90s',\t'100s'], axis = 1)\n",
        "df1.columns=['y', 'ds']\n",
        "m = Prophet(changepoint_prior_scale = 0.001, seasonality_prior_scale=0.01)\n",
        "m.fit(df1)\n",
        "future = m.make_future_dataframe(periods=365)\n",
        "forecast = m.predict(future)\n",
        "fc = forecast[['ds', 'yhat']]\n",
        "is_minus = fc['yhat']<0\n",
        "fc[is_minus]\n",
        "fc.to_csv('보람동20.csv')\n"
      ],
      "execution_count": 144,
      "outputs": [
        {
          "output_type": "stream",
          "text": [
            "INFO:fbprophet:Disabling weekly seasonality. Run prophet with weekly_seasonality=True to override this.\n",
            "INFO:fbprophet:Disabling daily seasonality. Run prophet with daily_seasonality=True to override this.\n"
          ],
          "name": "stderr"
        }
      ]
    },
    {
      "cell_type": "code",
      "metadata": {
        "colab": {
          "base_uri": "https://localhost:8080/"
        },
        "id": "wQfQO8wWWMUp",
        "outputId": "e2f1c039-8382-4c6d-d785-c9b28142293a"
      },
      "source": [
        "#30세 \n",
        "df1 = df[is_place].drop(['읍면동',\t'년',\t'월',\t'일',\t'0s',\t'10s',\t'20s',\t'40s',\t'50s',\t'60s',\t'70s',\t'80s',\t'90s',\t'100s'], axis = 1)\n",
        "df1.columns=['y', 'ds']\n",
        "m = Prophet(changepoint_prior_scale = 0.001, seasonality_prior_scale=0.01)\n",
        "m.fit(df1)\n",
        "future = m.make_future_dataframe(periods=365)\n",
        "forecast = m.predict(future)\n",
        "fc = forecast[['ds', 'yhat']]\n",
        "is_minus = fc['yhat']<0\n",
        "fc[is_minus]\n",
        "fc.to_csv('보람동30.csv')\n"
      ],
      "execution_count": 146,
      "outputs": [
        {
          "output_type": "stream",
          "text": [
            "INFO:fbprophet:Disabling weekly seasonality. Run prophet with weekly_seasonality=True to override this.\n",
            "INFO:fbprophet:Disabling daily seasonality. Run prophet with daily_seasonality=True to override this.\n"
          ],
          "name": "stderr"
        }
      ]
    },
    {
      "cell_type": "code",
      "metadata": {
        "colab": {
          "base_uri": "https://localhost:8080/"
        },
        "id": "d2CFWFl3WMUq",
        "outputId": "29252b2b-a02d-4344-83d5-afd18eb9f90f"
      },
      "source": [
        "#40세 \n",
        "df1 = df[is_place].drop(['읍면동',\t'년',\t'월',\t'일',\t'0s',\t'10s',\t'20s',\t'30s',\t'50s',\t'60s',\t'70s',\t'80s',\t'90s',\t'100s'], axis = 1)\n",
        "df1.columns=['y', 'ds']\n",
        "m = Prophet(changepoint_prior_scale = 0.001, seasonality_prior_scale=0.01)\n",
        "m.fit(df1)\n",
        "future = m.make_future_dataframe(periods=365)\n",
        "forecast = m.predict(future)\n",
        "fc = forecast[['ds', 'yhat']]\n",
        "is_minus = fc['yhat']<0\n",
        "fc[is_minus]\n",
        "fc.to_csv('보람동40.csv')"
      ],
      "execution_count": 148,
      "outputs": [
        {
          "output_type": "stream",
          "text": [
            "INFO:fbprophet:Disabling weekly seasonality. Run prophet with weekly_seasonality=True to override this.\n",
            "INFO:fbprophet:Disabling daily seasonality. Run prophet with daily_seasonality=True to override this.\n"
          ],
          "name": "stderr"
        }
      ]
    },
    {
      "cell_type": "code",
      "metadata": {
        "colab": {
          "base_uri": "https://localhost:8080/"
        },
        "id": "enY_JfWYWMUq",
        "outputId": "006c0f47-adcd-4a4b-ef21-faf7b956293c"
      },
      "source": [
        "#50세 \n",
        "df1 = df[is_place].drop(['읍면동',\t'년',\t'월',\t'일',\t'0s',\t'10s',\t'20s',\t'30s',\t'40s',\t'60s',\t'70s',\t'80s',\t'90s',\t'100s'], axis = 1)\n",
        "df1.columns=['y', 'ds']\n",
        "m = Prophet(changepoint_prior_scale = 0.001, seasonality_prior_scale=0.01)\n",
        "m.fit(df1)\n",
        "future = m.make_future_dataframe(periods=365)\n",
        "forecast = m.predict(future)\n",
        "fc = forecast[['ds', 'yhat']]\n",
        "is_minus = fc['yhat']<0\n",
        "fc[is_minus]\n",
        "fc.to_csv('보람동50.csv')"
      ],
      "execution_count": 150,
      "outputs": [
        {
          "output_type": "stream",
          "text": [
            "INFO:fbprophet:Disabling weekly seasonality. Run prophet with weekly_seasonality=True to override this.\n",
            "INFO:fbprophet:Disabling daily seasonality. Run prophet with daily_seasonality=True to override this.\n"
          ],
          "name": "stderr"
        }
      ]
    },
    {
      "cell_type": "code",
      "metadata": {
        "colab": {
          "base_uri": "https://localhost:8080/"
        },
        "id": "LMev46RWWMUr",
        "outputId": "07aaa228-9048-4eec-ad74-189fd919ad16"
      },
      "source": [
        "#60세 \n",
        "df1 = df[is_place].drop(['읍면동',\t'년',\t'월',\t'일',\t'0s',\t'10s',\t'20s',\t'30s',\t'40s',\t'50s',\t'70s',\t'80s',\t'90s',\t'100s'], axis = 1)\n",
        "df1.columns=['y', 'ds']\n",
        "m = Prophet(changepoint_prior_scale = 0.001, seasonality_prior_scale=0.01)\n",
        "m.fit(df1)\n",
        "future = m.make_future_dataframe(periods=365)\n",
        "forecast = m.predict(future)\n",
        "fc = forecast[['ds', 'yhat']]\n",
        "is_minus = fc['yhat']<0\n",
        "fc[is_minus]\n",
        "fc.to_csv('보람동60.csv')"
      ],
      "execution_count": 152,
      "outputs": [
        {
          "output_type": "stream",
          "text": [
            "INFO:fbprophet:Disabling weekly seasonality. Run prophet with weekly_seasonality=True to override this.\n",
            "INFO:fbprophet:Disabling daily seasonality. Run prophet with daily_seasonality=True to override this.\n"
          ],
          "name": "stderr"
        }
      ]
    },
    {
      "cell_type": "code",
      "metadata": {
        "colab": {
          "base_uri": "https://localhost:8080/"
        },
        "id": "ZtHtr3FNWMUr",
        "outputId": "92343a11-a9be-428a-b278-be1a6e9a9497"
      },
      "source": [
        "#70세 \n",
        "df1 = df[is_place].drop(['읍면동',\t'년',\t'월',\t'일',\t'0s',\t'10s',\t'20s',\t'30s',\t'40s',\t'50s',\t'60s',\t'80s',\t'90s',\t'100s'], axis = 1)\n",
        "df1.columns=['y', 'ds']\n",
        "m = Prophet(changepoint_prior_scale = 0.001, seasonality_prior_scale=0.01)\n",
        "m.fit(df1)\n",
        "future = m.make_future_dataframe(periods=365)\n",
        "forecast = m.predict(future)\n",
        "fc = forecast[['ds', 'yhat']]\n",
        "is_minus = fc['yhat']<0\n",
        "fc[is_minus]\n",
        "fc.to_csv('보람동70.csv')"
      ],
      "execution_count": 154,
      "outputs": [
        {
          "output_type": "stream",
          "text": [
            "INFO:fbprophet:Disabling weekly seasonality. Run prophet with weekly_seasonality=True to override this.\n",
            "INFO:fbprophet:Disabling daily seasonality. Run prophet with daily_seasonality=True to override this.\n"
          ],
          "name": "stderr"
        }
      ]
    },
    {
      "cell_type": "code",
      "metadata": {
        "colab": {
          "base_uri": "https://localhost:8080/"
        },
        "id": "LOhSZ-cqWMUr",
        "outputId": "eb9db632-5709-4eb3-dd7e-0210d8998707"
      },
      "source": [
        "#80세 \n",
        "df1 = df[is_place].drop(['읍면동',\t'년',\t'월',\t'일',\t'0s',\t'10s',\t'20s',\t'30s',\t'40s',\t'50s',\t'60s',\t'70s',\t'90s',\t'100s'], axis = 1)\n",
        "df1.columns=['y', 'ds']\n",
        "m = Prophet(changepoint_prior_scale = 0.001, seasonality_prior_scale=0.01)\n",
        "m.fit(df1)\n",
        "future = m.make_future_dataframe(periods=365)\n",
        "forecast = m.predict(future)\n",
        "fc = forecast[['ds', 'yhat']]\n",
        "is_minus = fc['yhat']<0\n",
        "fc[is_minus]\n",
        "fc.to_csv('보람동80.csv')"
      ],
      "execution_count": 156,
      "outputs": [
        {
          "output_type": "stream",
          "text": [
            "INFO:fbprophet:Disabling weekly seasonality. Run prophet with weekly_seasonality=True to override this.\n",
            "INFO:fbprophet:Disabling daily seasonality. Run prophet with daily_seasonality=True to override this.\n"
          ],
          "name": "stderr"
        }
      ]
    },
    {
      "cell_type": "code",
      "metadata": {
        "colab": {
          "base_uri": "https://localhost:8080/"
        },
        "id": "KI5dMIbgWMUs",
        "outputId": "d1c56b6b-403e-4204-ca27-6440fd2d32bc"
      },
      "source": [
        "# 90세 \n",
        "df1 = df[is_place].drop(['읍면동',\t'년',\t'월',\t'일',\t'0s',\t'10s',\t'20s',\t'30s',\t'40s',\t'50s',\t'60s',\t'70s',\t'80s',\t'100s'], axis = 1)\n",
        "df1.columns=['y', 'ds']\n",
        "m = Prophet(changepoint_prior_scale = 0.001, seasonality_prior_scale=0.01)\n",
        "m.fit(df1)\n",
        "future = m.make_future_dataframe(periods=365)\n",
        "forecast = m.predict(future)\n",
        "fc = forecast[['ds', 'yhat']]\n",
        "is_minus = fc['yhat']<0\n",
        "fc[is_minus]\n",
        "fc.to_csv('보람동90.csv')"
      ],
      "execution_count": 157,
      "outputs": [
        {
          "output_type": "stream",
          "text": [
            "INFO:fbprophet:Disabling weekly seasonality. Run prophet with weekly_seasonality=True to override this.\n",
            "INFO:fbprophet:Disabling daily seasonality. Run prophet with daily_seasonality=True to override this.\n"
          ],
          "name": "stderr"
        }
      ]
    },
    {
      "cell_type": "code",
      "metadata": {
        "colab": {
          "base_uri": "https://localhost:8080/"
        },
        "id": "c_M5ncfmWMUs",
        "outputId": "2f20fdd8-55c9-43a3-be5e-ada1a330d13f"
      },
      "source": [
        "# 100세 \n",
        "df1 = df[is_place].drop(['읍면동',\t'년',\t'월',\t'일',\t'0s',\t'10s',\t'20s',\t'30s',\t'40s',\t'50s',\t'60s',\t'70s',\t'80s',\t'90s'], axis = 1)\n",
        "df1.columns=['y', 'ds']\n",
        "m = Prophet(changepoint_prior_scale = 0.001, seasonality_prior_scale=0.01)\n",
        "m.fit(df1)\n",
        "future = m.make_future_dataframe(periods=365)\n",
        "forecast = m.predict(future)\n",
        "fc = forecast[['ds', 'yhat']]\n",
        "is_minus = fc['yhat']<0\n",
        "fc[is_minus]\n",
        "fc.to_csv('보람동100세.csv')"
      ],
      "execution_count": 159,
      "outputs": [
        {
          "output_type": "stream",
          "text": [
            "INFO:fbprophet:Disabling weekly seasonality. Run prophet with weekly_seasonality=True to override this.\n",
            "INFO:fbprophet:Disabling daily seasonality. Run prophet with daily_seasonality=True to override this.\n"
          ],
          "name": "stderr"
        }
      ]
    },
    {
      "cell_type": "code",
      "metadata": {
        "id": "DK8Ht6uMWMUt"
      },
      "source": [
        ""
      ],
      "execution_count": 80,
      "outputs": []
    },
    {
      "cell_type": "code",
      "metadata": {
        "id": "X9Roy3mpWZUP"
      },
      "source": [
        ""
      ],
      "execution_count": 80,
      "outputs": []
    },
    {
      "cell_type": "markdown",
      "metadata": {
        "id": "Kfk2dZEsWZ2o"
      },
      "source": [
        "# 새롬동 \n"
      ]
    },
    {
      "cell_type": "code",
      "metadata": {
        "colab": {
          "base_uri": "https://localhost:8080/"
        },
        "id": "aBRda3RuWZ2p",
        "outputId": "79d6cb96-82dc-4714-a70c-d1d68561e913"
      },
      "source": [
        "is_place = df['읍면동'] == '새롬동'\n",
        "#0세\n",
        "df1 = df[is_place].drop(['읍면동',\t'년',\t'월',\t'일',\t'10s',\t'20s',\t'30s',\t'40s',\t'50s',\t'60s',\t'70s',\t'80s',\t'90s',\t'100s'], axis = 1)\n",
        "df1.columns=['y', 'ds']\n",
        "m = Prophet(changepoint_prior_scale = 0.001, seasonality_prior_scale=0.01)\n",
        "m.fit(df1)\n",
        "future = m.make_future_dataframe(periods=365)\n",
        "forecast = m.predict(future)\n",
        "fc = forecast[['ds', 'yhat']]\n",
        "is_minus = fc['yhat']<0\n",
        "fc[is_minus]\n",
        "fc.to_csv('새롬동00-09세.csv')"
      ],
      "execution_count": 138,
      "outputs": [
        {
          "output_type": "stream",
          "text": [
            "INFO:fbprophet:Disabling weekly seasonality. Run prophet with weekly_seasonality=True to override this.\n",
            "INFO:fbprophet:Disabling daily seasonality. Run prophet with daily_seasonality=True to override this.\n"
          ],
          "name": "stderr"
        }
      ]
    },
    {
      "cell_type": "code",
      "metadata": {
        "colab": {
          "base_uri": "https://localhost:8080/"
        },
        "id": "2zl-RisuWZ2r",
        "outputId": "fdfc3b12-cb9a-43f1-8b04-35c6a60a4545"
      },
      "source": [
        "#10세\n",
        "df1 = df[is_place].drop(['읍면동',\t'년',\t'월',\t'일',\t'0s',\t'20s',\t'30s',\t'40s',\t'50s',\t'60s',\t'70s',\t'80s',\t'90s',\t'100s'], axis = 1)\n",
        "df1.columns=['y', 'ds']\n",
        "m = Prophet(changepoint_prior_scale = 0.001, seasonality_prior_scale=0.05)\n",
        "m.fit(df1)\n",
        "future = m.make_future_dataframe(periods=365)\n",
        "forecast = m.predict(future)\n",
        "fc = forecast[['ds', 'yhat']]\n",
        "is_minus = fc['yhat']<0\n",
        "fc[is_minus]\n",
        "fc.to_csv('새롬동10.csv')\n"
      ],
      "execution_count": 113,
      "outputs": [
        {
          "output_type": "stream",
          "text": [
            "INFO:fbprophet:Disabling weekly seasonality. Run prophet with weekly_seasonality=True to override this.\n",
            "INFO:fbprophet:Disabling daily seasonality. Run prophet with daily_seasonality=True to override this.\n"
          ],
          "name": "stderr"
        }
      ]
    },
    {
      "cell_type": "code",
      "metadata": {
        "colab": {
          "base_uri": "https://localhost:8080/"
        },
        "id": "OzgXmCfTWZ2s",
        "outputId": "508d3115-42fe-4180-bf18-19eba7112a44"
      },
      "source": [
        "#20세 \n",
        "df1 = df[is_place].drop(['읍면동',\t'년',\t'월',\t'일',\t'0s',\t'10s',\t'30s',\t'40s',\t'50s',\t'60s',\t'70s',\t'80s',\t'90s',\t'100s'], axis = 1)\n",
        "df1.columns=['y', 'ds']\n",
        "m = Prophet(changepoint_prior_scale = 0.001, seasonality_prior_scale=0.05)\n",
        "m.fit(df1)\n",
        "future = m.make_future_dataframe(periods=365)\n",
        "forecast = m.predict(future)\n",
        "fc = forecast[['ds', 'yhat']]\n",
        "is_minus = fc['yhat']<0\n",
        "fc[is_minus]\n",
        "fc.to_csv('새롬동20.csv')\n"
      ],
      "execution_count": 116,
      "outputs": [
        {
          "output_type": "stream",
          "text": [
            "INFO:fbprophet:Disabling weekly seasonality. Run prophet with weekly_seasonality=True to override this.\n",
            "INFO:fbprophet:Disabling daily seasonality. Run prophet with daily_seasonality=True to override this.\n"
          ],
          "name": "stderr"
        }
      ]
    },
    {
      "cell_type": "code",
      "metadata": {
        "colab": {
          "base_uri": "https://localhost:8080/"
        },
        "id": "SC84mGATWZ2t",
        "outputId": "ed16edae-6b69-4346-d53e-70e6d5569058"
      },
      "source": [
        "#30세 \n",
        "df1 = df[is_place].drop(['읍면동',\t'년',\t'월',\t'일',\t'0s',\t'10s',\t'20s',\t'40s',\t'50s',\t'60s',\t'70s',\t'80s',\t'90s',\t'100s'], axis = 1)\n",
        "df1.columns=['y', 'ds']\n",
        "m = Prophet(changepoint_prior_scale = 0.001, seasonality_prior_scale=0.05)\n",
        "m.fit(df1)\n",
        "future = m.make_future_dataframe(periods=365)\n",
        "forecast = m.predict(future)\n",
        "fc = forecast[['ds', 'yhat']]\n",
        "is_minus = fc['yhat']<0\n",
        "fc[is_minus]\n",
        "fc.to_csv('새롬동30.csv')"
      ],
      "execution_count": 118,
      "outputs": [
        {
          "output_type": "stream",
          "text": [
            "INFO:fbprophet:Disabling weekly seasonality. Run prophet with weekly_seasonality=True to override this.\n",
            "INFO:fbprophet:Disabling daily seasonality. Run prophet with daily_seasonality=True to override this.\n"
          ],
          "name": "stderr"
        }
      ]
    },
    {
      "cell_type": "code",
      "metadata": {
        "colab": {
          "base_uri": "https://localhost:8080/"
        },
        "id": "EYjV3MDBWZ2t",
        "outputId": "2bd0bf0a-26bd-48b3-a81b-d823ac82e6d5"
      },
      "source": [
        "#40세 \n",
        "df1 = df[is_place].drop(['읍면동',\t'년',\t'월',\t'일',\t'0s',\t'10s',\t'20s',\t'30s',\t'50s',\t'60s',\t'70s',\t'80s',\t'90s',\t'100s'], axis = 1)\n",
        "df1.columns=['y', 'ds']\n",
        "m = Prophet(changepoint_prior_scale = 0.001, seasonality_prior_scale=0.05)\n",
        "m.fit(df1)\n",
        "future = m.make_future_dataframe(periods=365)\n",
        "forecast = m.predict(future)\n",
        "fc = forecast[['ds', 'yhat']]\n",
        "is_minus = fc['yhat']<0\n",
        "fc[is_minus]\n",
        "fc.to_csv('새롬동40.csv')"
      ],
      "execution_count": 123,
      "outputs": [
        {
          "output_type": "stream",
          "text": [
            "INFO:fbprophet:Disabling weekly seasonality. Run prophet with weekly_seasonality=True to override this.\n",
            "INFO:fbprophet:Disabling daily seasonality. Run prophet with daily_seasonality=True to override this.\n"
          ],
          "name": "stderr"
        }
      ]
    },
    {
      "cell_type": "code",
      "metadata": {
        "colab": {
          "base_uri": "https://localhost:8080/"
        },
        "id": "YbB9tlUdWZ2u",
        "outputId": "3196469d-c83b-4d8c-ad85-7cb98430b534"
      },
      "source": [
        "#50세 \n",
        "df1 = df[is_place].drop(['읍면동',\t'년',\t'월',\t'일',\t'0s',\t'10s',\t'20s',\t'30s',\t'40s',\t'60s',\t'70s',\t'80s',\t'90s',\t'100s'], axis = 1)\n",
        "df1.columns=['y', 'ds']\n",
        "m = Prophet(changepoint_prior_scale = 0.001, seasonality_prior_scale=0.05)\n",
        "m.fit(df1)\n",
        "future = m.make_future_dataframe(periods=365)\n",
        "forecast = m.predict(future)\n",
        "fc = forecast[['ds', 'yhat']]\n",
        "is_minus = fc['yhat']<0\n",
        "fc[is_minus]\n",
        "fc.to_csv('새롬동50.csv')"
      ],
      "execution_count": 124,
      "outputs": [
        {
          "output_type": "stream",
          "text": [
            "INFO:fbprophet:Disabling weekly seasonality. Run prophet with weekly_seasonality=True to override this.\n",
            "INFO:fbprophet:Disabling daily seasonality. Run prophet with daily_seasonality=True to override this.\n"
          ],
          "name": "stderr"
        }
      ]
    },
    {
      "cell_type": "code",
      "metadata": {
        "colab": {
          "base_uri": "https://localhost:8080/"
        },
        "id": "F6AfJ44zWZ2u",
        "outputId": "b087a09a-76f4-4491-de33-8a0ca888600c"
      },
      "source": [
        "#60세 \n",
        "df1 = df[is_place].drop(['읍면동',\t'년',\t'월',\t'일',\t'0s',\t'10s',\t'20s',\t'30s',\t'40s',\t'50s',\t'70s',\t'80s',\t'90s',\t'100s'], axis = 1)\n",
        "df1.columns=['y', 'ds']\n",
        "m = Prophet(changepoint_prior_scale = 0.001, seasonality_prior_scale=0.05)\n",
        "m.fit(df1)\n",
        "future = m.make_future_dataframe(periods=365)\n",
        "forecast = m.predict(future)\n",
        "fc = forecast[['ds', 'yhat']]\n",
        "is_minus = fc['yhat']<0\n",
        "fc[is_minus]\n",
        "fc.to_csv('새롬동60.csv')"
      ],
      "execution_count": 126,
      "outputs": [
        {
          "output_type": "stream",
          "text": [
            "INFO:fbprophet:Disabling weekly seasonality. Run prophet with weekly_seasonality=True to override this.\n",
            "INFO:fbprophet:Disabling daily seasonality. Run prophet with daily_seasonality=True to override this.\n"
          ],
          "name": "stderr"
        }
      ]
    },
    {
      "cell_type": "code",
      "metadata": {
        "colab": {
          "base_uri": "https://localhost:8080/"
        },
        "id": "98bejcysWZ2v",
        "outputId": "f939cce2-c1a3-4ee2-ba9d-ad260ff7d356"
      },
      "source": [
        "#70세 \n",
        "df1 = df[is_place].drop(['읍면동',\t'년',\t'월',\t'일',\t'0s',\t'10s',\t'20s',\t'30s',\t'40s',\t'50s',\t'60s',\t'80s',\t'90s',\t'100s'], axis = 1)\n",
        "df1.columns=['y', 'ds']\n",
        "m = Prophet(changepoint_prior_scale = 0.001, seasonality_prior_scale=0.05)\n",
        "m.fit(df1)\n",
        "future = m.make_future_dataframe(periods=365)\n",
        "forecast = m.predict(future)\n",
        "fc = forecast[['ds', 'yhat']]\n",
        "is_minus = fc['yhat']<0\n",
        "fc[is_minus]\n",
        "fc.to_csv('새롬동70.csv')"
      ],
      "execution_count": 128,
      "outputs": [
        {
          "output_type": "stream",
          "text": [
            "INFO:fbprophet:Disabling weekly seasonality. Run prophet with weekly_seasonality=True to override this.\n",
            "INFO:fbprophet:Disabling daily seasonality. Run prophet with daily_seasonality=True to override this.\n"
          ],
          "name": "stderr"
        }
      ]
    },
    {
      "cell_type": "code",
      "metadata": {
        "colab": {
          "base_uri": "https://localhost:8080/"
        },
        "id": "DUMZAa6DWZ2y",
        "outputId": "89573d65-42f0-43df-883e-5f2e5a6980fa"
      },
      "source": [
        "#80세 \n",
        "df1 = df[is_place].drop(['읍면동',\t'년',\t'월',\t'일',\t'0s',\t'10s',\t'20s',\t'30s',\t'40s',\t'50s',\t'60s',\t'70s',\t'90s',\t'100s'], axis = 1)\n",
        "df1.columns=['y', 'ds']\n",
        "m = Prophet(changepoint_prior_scale = 0.001, seasonality_prior_scale=0.05)\n",
        "m.fit(df1)\n",
        "future = m.make_future_dataframe(periods=365)\n",
        "forecast = m.predict(future)\n",
        "fc = forecast[['ds', 'yhat']]\n",
        "is_minus = fc['yhat']<0\n",
        "fc[is_minus]\n",
        "fc.to_csv('새롬동80.csv')"
      ],
      "execution_count": 130,
      "outputs": [
        {
          "output_type": "stream",
          "text": [
            "INFO:fbprophet:Disabling weekly seasonality. Run prophet with weekly_seasonality=True to override this.\n",
            "INFO:fbprophet:Disabling daily seasonality. Run prophet with daily_seasonality=True to override this.\n"
          ],
          "name": "stderr"
        }
      ]
    },
    {
      "cell_type": "code",
      "metadata": {
        "colab": {
          "base_uri": "https://localhost:8080/"
        },
        "id": "51SPPDy8WZ2y",
        "outputId": "8edb854b-9224-4f5e-f6d4-8d5e113cac70"
      },
      "source": [
        "# 90세 \n",
        "df1 = df[is_place].drop(['읍면동',\t'년',\t'월',\t'일',\t'0s',\t'10s',\t'20s',\t'30s',\t'40s',\t'50s',\t'60s',\t'70s',\t'80s',\t'100s'], axis = 1)\n",
        "df1.columns=['y', 'ds']\n",
        "m = Prophet(changepoint_prior_scale = 0.001, seasonality_prior_scale=0.05)\n",
        "m.fit(df1)\n",
        "future = m.make_future_dataframe(periods=365)\n",
        "forecast = m.predict(future)\n",
        "fc = forecast[['ds', 'yhat']]\n",
        "is_minus = fc['yhat']<0\n",
        "fc[is_minus]\n",
        "fc.to_csv('새롬동90.csv')"
      ],
      "execution_count": 132,
      "outputs": [
        {
          "output_type": "stream",
          "text": [
            "INFO:fbprophet:Disabling weekly seasonality. Run prophet with weekly_seasonality=True to override this.\n",
            "INFO:fbprophet:Disabling daily seasonality. Run prophet with daily_seasonality=True to override this.\n"
          ],
          "name": "stderr"
        }
      ]
    },
    {
      "cell_type": "code",
      "metadata": {
        "colab": {
          "base_uri": "https://localhost:8080/"
        },
        "id": "2hTQK2o4WZ2y",
        "outputId": "87a54904-3f6a-459f-bec8-731a3e85648d"
      },
      "source": [
        "# 100세 \n",
        "df1 = df[is_place].drop(['읍면동',\t'년',\t'월',\t'일',\t'0s',\t'10s',\t'20s',\t'30s',\t'40s',\t'50s',\t'60s',\t'70s',\t'80s',\t'90s'], axis = 1)\n",
        "df1.columns=['y', 'ds']\n",
        "m = Prophet(changepoint_prior_scale = 0.001, seasonality_prior_scale=0.05)\n",
        "m.fit(df1)\n",
        "future = m.make_future_dataframe(periods=365)\n",
        "forecast = m.predict(future)\n",
        "fc = forecast[['ds', 'yhat']]\n",
        "is_minus = fc['yhat']<0\n",
        "fc[is_minus]\n",
        "fc['yhat'] = fc['yhat'].abs()\n",
        "fc.to_csv('새롬동100.csv')"
      ],
      "execution_count": 137,
      "outputs": [
        {
          "output_type": "stream",
          "text": [
            "INFO:fbprophet:Disabling weekly seasonality. Run prophet with weekly_seasonality=True to override this.\n",
            "INFO:fbprophet:Disabling daily seasonality. Run prophet with daily_seasonality=True to override this.\n",
            "/usr/local/lib/python3.7/dist-packages/ipykernel_launcher.py:11: SettingWithCopyWarning:\n",
            "\n",
            "\n",
            "A value is trying to be set on a copy of a slice from a DataFrame.\n",
            "Try using .loc[row_indexer,col_indexer] = value instead\n",
            "\n",
            "See the caveats in the documentation: https://pandas.pydata.org/pandas-docs/stable/user_guide/indexing.html#returning-a-view-versus-a-copy\n",
            "\n"
          ],
          "name": "stderr"
        }
      ]
    },
    {
      "cell_type": "code",
      "metadata": {
        "id": "MdU9BFedWZ2z"
      },
      "source": [
        ""
      ],
      "execution_count": 91,
      "outputs": []
    },
    {
      "cell_type": "code",
      "metadata": {
        "id": "ePq7RFLSWkqF"
      },
      "source": [
        ""
      ],
      "execution_count": 91,
      "outputs": []
    },
    {
      "cell_type": "markdown",
      "metadata": {
        "id": "iRqn7A1dWlek"
      },
      "source": [
        "# 소담동 \n"
      ]
    },
    {
      "cell_type": "code",
      "metadata": {
        "colab": {
          "base_uri": "https://localhost:8080/"
        },
        "id": "oUsuLLiCWlek",
        "outputId": "52803c90-1c7a-4740-e7a6-e4ac65f912e4"
      },
      "source": [
        "is_place = df['읍면동'] == '소담동'\n",
        "#0세\n",
        "df1 = df[is_place].drop(['읍면동',\t'년',\t'월',\t'일',\t'10s',\t'20s',\t'30s',\t'40s',\t'50s',\t'60s',\t'70s',\t'80s',\t'90s',\t'100s'], axis = 1)\n",
        "df1.columns=['y', 'ds']\n",
        "m = Prophet(changepoint_prior_scale = 0.001, seasonality_prior_scale=0.05)\n",
        "m.fit(df1)\n",
        "future = m.make_future_dataframe(periods=365)\n",
        "forecast = m.predict(future)\n",
        "fc = forecast[['ds', 'yhat']]\n",
        "is_minus = fc['yhat']<0\n",
        "fc[is_minus]\n",
        "fc.to_csv('소담동0-9세.csv')"
      ],
      "execution_count": 187,
      "outputs": [
        {
          "output_type": "stream",
          "text": [
            "INFO:fbprophet:Disabling weekly seasonality. Run prophet with weekly_seasonality=True to override this.\n",
            "INFO:fbprophet:Disabling daily seasonality. Run prophet with daily_seasonality=True to override this.\n",
            "INFO:fbprophet:n_changepoints greater than number of observations. Using 23.\n"
          ],
          "name": "stderr"
        }
      ]
    },
    {
      "cell_type": "code",
      "metadata": {
        "colab": {
          "base_uri": "https://localhost:8080/"
        },
        "id": "h2Gqf7HdWlel",
        "outputId": "59b4ba7d-817b-4c9f-ed07-a1cd0e1cbf32"
      },
      "source": [
        "#10세\n",
        "df1 = df[is_place].drop(['읍면동',\t'년',\t'월',\t'일',\t'0s',\t'20s',\t'30s',\t'40s',\t'50s',\t'60s',\t'70s',\t'80s',\t'90s',\t'100s'], axis = 1)\n",
        "df1.columns=['y', 'ds']\n",
        "m = Prophet(changepoint_prior_scale = 0.001, seasonality_prior_scale=0.05)\n",
        "m.fit(df1)\n",
        "future = m.make_future_dataframe(periods=365)\n",
        "forecast = m.predict(future)\n",
        "fc = forecast[['ds', 'yhat']]\n",
        "is_minus = fc['yhat']<0\n",
        "fc[is_minus]\n",
        "fc.to_csv('소담동10.csv')"
      ],
      "execution_count": 189,
      "outputs": [
        {
          "output_type": "stream",
          "text": [
            "INFO:fbprophet:Disabling weekly seasonality. Run prophet with weekly_seasonality=True to override this.\n",
            "INFO:fbprophet:Disabling daily seasonality. Run prophet with daily_seasonality=True to override this.\n",
            "INFO:fbprophet:n_changepoints greater than number of observations. Using 23.\n"
          ],
          "name": "stderr"
        }
      ]
    },
    {
      "cell_type": "code",
      "metadata": {
        "colab": {
          "base_uri": "https://localhost:8080/"
        },
        "id": "Eu8K6U44Wlem",
        "outputId": "3681fa6e-4821-4569-bef3-cd710339f0ca"
      },
      "source": [
        "#20세 \n",
        "df1 = df[is_place].drop(['읍면동',\t'년',\t'월',\t'일',\t'0s',\t'10s',\t'30s',\t'40s',\t'50s',\t'60s',\t'70s',\t'80s',\t'90s',\t'100s'], axis = 1)\n",
        "df1.columns=['y', 'ds']\n",
        "m = Prophet(changepoint_prior_scale = 0.001, seasonality_prior_scale=0.05)\n",
        "m.fit(df1)\n",
        "future = m.make_future_dataframe(periods=365)\n",
        "forecast = m.predict(future)\n",
        "fc = forecast[['ds', 'yhat']]\n",
        "is_minus = fc['yhat']<0\n",
        "fc[is_minus]\n",
        "fc.to_csv('소담동20.csv')"
      ],
      "execution_count": 191,
      "outputs": [
        {
          "output_type": "stream",
          "text": [
            "INFO:fbprophet:Disabling weekly seasonality. Run prophet with weekly_seasonality=True to override this.\n",
            "INFO:fbprophet:Disabling daily seasonality. Run prophet with daily_seasonality=True to override this.\n",
            "INFO:fbprophet:n_changepoints greater than number of observations. Using 23.\n"
          ],
          "name": "stderr"
        }
      ]
    },
    {
      "cell_type": "code",
      "metadata": {
        "colab": {
          "base_uri": "https://localhost:8080/"
        },
        "id": "EwgHUTu4Wlem",
        "outputId": "cc039748-4d52-47d8-aa55-a0a95a6cdc51"
      },
      "source": [
        "#30세 \n",
        "df1 = df[is_place].drop(['읍면동',\t'년',\t'월',\t'일',\t'0s',\t'10s',\t'20s',\t'40s',\t'50s',\t'60s',\t'70s',\t'80s',\t'90s',\t'100s'], axis = 1)\n",
        "df1.columns=['y', 'ds']\n",
        "m = Prophet(changepoint_prior_scale = 0.001, seasonality_prior_scale=0.05)\n",
        "m.fit(df1)\n",
        "future = m.make_future_dataframe(periods=365)\n",
        "forecast = m.predict(future)\n",
        "fc = forecast[['ds', 'yhat']]\n",
        "is_minus = fc['yhat']<0\n",
        "fc[is_minus]\n",
        "fc.to_csv('소담동30.csv')"
      ],
      "execution_count": 193,
      "outputs": [
        {
          "output_type": "stream",
          "text": [
            "INFO:fbprophet:Disabling weekly seasonality. Run prophet with weekly_seasonality=True to override this.\n",
            "INFO:fbprophet:Disabling daily seasonality. Run prophet with daily_seasonality=True to override this.\n",
            "INFO:fbprophet:n_changepoints greater than number of observations. Using 23.\n"
          ],
          "name": "stderr"
        }
      ]
    },
    {
      "cell_type": "code",
      "metadata": {
        "colab": {
          "base_uri": "https://localhost:8080/"
        },
        "id": "ywB3uJUJWlen",
        "outputId": "674d447e-9a87-4d33-cf78-8c216e8c5f5c"
      },
      "source": [
        "#40세 \n",
        "df1 = df[is_place].drop(['읍면동',\t'년',\t'월',\t'일',\t'0s',\t'10s',\t'20s',\t'30s',\t'50s',\t'60s',\t'70s',\t'80s',\t'90s',\t'100s'], axis = 1)\n",
        "df1.columns=['y', 'ds']\n",
        "m = Prophet(changepoint_prior_scale = 0.001, seasonality_prior_scale=0.05)\n",
        "m.fit(df1)\n",
        "future = m.make_future_dataframe(periods=365)\n",
        "forecast = m.predict(future)\n",
        "fc = forecast[['ds', 'yhat']]\n",
        "is_minus = fc['yhat']<0\n",
        "fc[is_minus]\n",
        "fc.to_csv('소담동40.csv')"
      ],
      "execution_count": 195,
      "outputs": [
        {
          "output_type": "stream",
          "text": [
            "INFO:fbprophet:Disabling weekly seasonality. Run prophet with weekly_seasonality=True to override this.\n",
            "INFO:fbprophet:Disabling daily seasonality. Run prophet with daily_seasonality=True to override this.\n",
            "INFO:fbprophet:n_changepoints greater than number of observations. Using 23.\n"
          ],
          "name": "stderr"
        }
      ]
    },
    {
      "cell_type": "code",
      "metadata": {
        "colab": {
          "base_uri": "https://localhost:8080/"
        },
        "id": "JIs0ScedWlep",
        "outputId": "d113e3f5-60be-4611-a8dc-a3f81cae815f"
      },
      "source": [
        "#50세 \n",
        "df1 = df[is_place].drop(['읍면동',\t'년',\t'월',\t'일',\t'0s',\t'10s',\t'20s',\t'30s',\t'40s',\t'60s',\t'70s',\t'80s',\t'90s',\t'100s'], axis = 1)\n",
        "df1.columns=['y', 'ds']\n",
        "m = Prophet(changepoint_prior_scale = 0.001, seasonality_prior_scale=0.05)\n",
        "m.fit(df1)\n",
        "future = m.make_future_dataframe(periods=365)\n",
        "forecast = m.predict(future)\n",
        "fc = forecast[['ds', 'yhat']]\n",
        "is_minus = fc['yhat']<0\n",
        "fc[is_minus]\n",
        "fc.to_csv('소담동50.csv')"
      ],
      "execution_count": 197,
      "outputs": [
        {
          "output_type": "stream",
          "text": [
            "INFO:fbprophet:Disabling weekly seasonality. Run prophet with weekly_seasonality=True to override this.\n",
            "INFO:fbprophet:Disabling daily seasonality. Run prophet with daily_seasonality=True to override this.\n",
            "INFO:fbprophet:n_changepoints greater than number of observations. Using 23.\n"
          ],
          "name": "stderr"
        }
      ]
    },
    {
      "cell_type": "code",
      "metadata": {
        "colab": {
          "base_uri": "https://localhost:8080/"
        },
        "id": "KBZ8eA60Wlep",
        "outputId": "229728f3-4ff1-4b37-e895-c11e899d237e"
      },
      "source": [
        "#60세 \n",
        "df1 = df[is_place].drop(['읍면동',\t'년',\t'월',\t'일',\t'0s',\t'10s',\t'20s',\t'30s',\t'40s',\t'50s',\t'70s',\t'80s',\t'90s',\t'100s'], axis = 1)\n",
        "df1.columns=['y', 'ds']\n",
        "m = Prophet(changepoint_prior_scale = 0.001, seasonality_prior_scale=0.05)\n",
        "m.fit(df1)\n",
        "future = m.make_future_dataframe(periods=365)\n",
        "forecast = m.predict(future)\n",
        "fc = forecast[['ds', 'yhat']]\n",
        "is_minus = fc['yhat']<0\n",
        "fc[is_minus]\n",
        "fc.to_csv('소담동60.csv')"
      ],
      "execution_count": 198,
      "outputs": [
        {
          "output_type": "stream",
          "text": [
            "INFO:fbprophet:Disabling weekly seasonality. Run prophet with weekly_seasonality=True to override this.\n",
            "INFO:fbprophet:Disabling daily seasonality. Run prophet with daily_seasonality=True to override this.\n",
            "INFO:fbprophet:n_changepoints greater than number of observations. Using 23.\n"
          ],
          "name": "stderr"
        }
      ]
    },
    {
      "cell_type": "code",
      "metadata": {
        "colab": {
          "base_uri": "https://localhost:8080/"
        },
        "id": "4LPUcj_vWleq",
        "outputId": "8575f373-1c7a-4040-8371-ec8120c3e6a9"
      },
      "source": [
        "#70세 \n",
        "df1 = df[is_place].drop(['읍면동',\t'년',\t'월',\t'일',\t'0s',\t'10s',\t'20s',\t'30s',\t'40s',\t'50s',\t'60s',\t'80s',\t'90s',\t'100s'], axis = 1)\n",
        "df1.columns=['y', 'ds']\n",
        "m = Prophet(changepoint_prior_scale = 0.001, seasonality_prior_scale=0.05)\n",
        "m.fit(df1)\n",
        "future = m.make_future_dataframe(periods=365)\n",
        "forecast = m.predict(future)\n",
        "fc = forecast[['ds', 'yhat']]\n",
        "is_minus = fc['yhat']<0\n",
        "fc[is_minus]\n",
        "fc.to_csv('소담동70.csv')"
      ],
      "execution_count": 200,
      "outputs": [
        {
          "output_type": "stream",
          "text": [
            "INFO:fbprophet:Disabling weekly seasonality. Run prophet with weekly_seasonality=True to override this.\n",
            "INFO:fbprophet:Disabling daily seasonality. Run prophet with daily_seasonality=True to override this.\n",
            "INFO:fbprophet:n_changepoints greater than number of observations. Using 23.\n"
          ],
          "name": "stderr"
        }
      ]
    },
    {
      "cell_type": "code",
      "metadata": {
        "colab": {
          "base_uri": "https://localhost:8080/"
        },
        "id": "LKydZYLNWleq",
        "outputId": "ed170f64-8f1b-4a03-885e-432d5293d6ce"
      },
      "source": [
        "#80세 \n",
        "df1 = df[is_place].drop(['읍면동',\t'년',\t'월',\t'일',\t'0s',\t'10s',\t'20s',\t'30s',\t'40s',\t'50s',\t'60s',\t'70s',\t'90s',\t'100s'], axis = 1)\n",
        "df1.columns=['y', 'ds']\n",
        "m = Prophet(changepoint_prior_scale = 0.001, seasonality_prior_scale=0.05)\n",
        "m.fit(df1)\n",
        "future = m.make_future_dataframe(periods=365)\n",
        "forecast = m.predict(future)\n",
        "fc = forecast[['ds', 'yhat']]\n",
        "is_minus = fc['yhat']<0\n",
        "fc[is_minus]\n",
        "fc.to_csv('소담동80.csv')"
      ],
      "execution_count": 202,
      "outputs": [
        {
          "output_type": "stream",
          "text": [
            "INFO:fbprophet:Disabling weekly seasonality. Run prophet with weekly_seasonality=True to override this.\n",
            "INFO:fbprophet:Disabling daily seasonality. Run prophet with daily_seasonality=True to override this.\n",
            "INFO:fbprophet:n_changepoints greater than number of observations. Using 23.\n"
          ],
          "name": "stderr"
        }
      ]
    },
    {
      "cell_type": "code",
      "metadata": {
        "colab": {
          "base_uri": "https://localhost:8080/"
        },
        "id": "owEonHE5Wleq",
        "outputId": "443e714f-c142-4133-ce7e-cabe100859c7"
      },
      "source": [
        "# 90세 \n",
        "df1 = df[is_place].drop(['읍면동',\t'년',\t'월',\t'일',\t'0s',\t'10s',\t'20s',\t'30s',\t'40s',\t'50s',\t'60s',\t'70s',\t'80s',\t'100s'], axis = 1)\n",
        "df1.columns=['y', 'ds']\n",
        "m = Prophet(changepoint_prior_scale = 0.001, seasonality_prior_scale=0.05)\n",
        "m.fit(df1)\n",
        "future = m.make_future_dataframe(periods=365)\n",
        "forecast = m.predict(future)\n",
        "fc = forecast[['ds', 'yhat']]\n",
        "is_minus = fc['yhat']<0\n",
        "fc[is_minus]\n",
        "fc.to_csv('소담동90.csv')"
      ],
      "execution_count": 204,
      "outputs": [
        {
          "output_type": "stream",
          "text": [
            "INFO:fbprophet:Disabling weekly seasonality. Run prophet with weekly_seasonality=True to override this.\n",
            "INFO:fbprophet:Disabling daily seasonality. Run prophet with daily_seasonality=True to override this.\n",
            "INFO:fbprophet:n_changepoints greater than number of observations. Using 23.\n"
          ],
          "name": "stderr"
        }
      ]
    },
    {
      "cell_type": "code",
      "metadata": {
        "colab": {
          "base_uri": "https://localhost:8080/"
        },
        "id": "kAbxBb2AWler",
        "outputId": "d46ee760-5a79-4f5f-aac5-82110aafc797"
      },
      "source": [
        "# 100세 \n",
        "df1 = df[is_place].drop(['읍면동',\t'년',\t'월',\t'일',\t'0s',\t'10s',\t'20s',\t'30s',\t'40s',\t'50s',\t'60s',\t'70s',\t'80s',\t'90s'], axis = 1)\n",
        "df1.columns=['y', 'ds']\n",
        "m = Prophet(changepoint_prior_scale = 0.001, seasonality_prior_scale=0.05)\n",
        "m.fit(df1)\n",
        "future = m.make_future_dataframe(periods=365)\n",
        "forecast = m.predict(future)\n",
        "fc = forecast[['ds', 'yhat']]\n",
        "is_minus = fc['yhat']<0\n",
        "fc[is_minus]\n",
        "fc['yhat'] = fc['yhat'].abs()\n",
        "fc.to_csv('소담동100.csv')"
      ],
      "execution_count": 206,
      "outputs": [
        {
          "output_type": "stream",
          "text": [
            "INFO:fbprophet:Disabling weekly seasonality. Run prophet with weekly_seasonality=True to override this.\n",
            "INFO:fbprophet:Disabling daily seasonality. Run prophet with daily_seasonality=True to override this.\n",
            "INFO:fbprophet:n_changepoints greater than number of observations. Using 23.\n",
            "/usr/local/lib/python3.7/dist-packages/ipykernel_launcher.py:11: SettingWithCopyWarning:\n",
            "\n",
            "\n",
            "A value is trying to be set on a copy of a slice from a DataFrame.\n",
            "Try using .loc[row_indexer,col_indexer] = value instead\n",
            "\n",
            "See the caveats in the documentation: https://pandas.pydata.org/pandas-docs/stable/user_guide/indexing.html#returning-a-view-versus-a-copy\n",
            "\n"
          ],
          "name": "stderr"
        }
      ]
    },
    {
      "cell_type": "code",
      "metadata": {
        "id": "L1fMSX49Wler"
      },
      "source": [
        ""
      ],
      "execution_count": 102,
      "outputs": []
    },
    {
      "cell_type": "code",
      "metadata": {
        "id": "z8pVuXoJe0C_"
      },
      "source": [
        ""
      ],
      "execution_count": null,
      "outputs": []
    },
    {
      "cell_type": "markdown",
      "metadata": {
        "id": "DS_pL8bAe1CX"
      },
      "source": [
        "# 전체 데이터 절대값 지정\n"
      ]
    },
    {
      "cell_type": "code",
      "metadata": {
        "colab": {
          "base_uri": "https://localhost:8080/",
          "height": 389
        },
        "id": "qyAvuI3fe26l",
        "outputId": "8ac1d7de-7a33-4fe3-9a79-f1dcd657ccf5"
      },
      "source": [
        "df = pd.read_csv('/content/고운동.csv', encoding=)"
      ],
      "execution_count": 103,
      "outputs": [
        {
          "output_type": "error",
          "ename": "UnicodeDecodeError",
          "evalue": "ignored",
          "traceback": [
            "\u001b[0;31m---------------------------------------------------------------------------\u001b[0m",
            "\u001b[0;31mUnicodeDecodeError\u001b[0m                        Traceback (most recent call last)",
            "\u001b[0;32m<ipython-input-103-08067c360347>\u001b[0m in \u001b[0;36m<module>\u001b[0;34m()\u001b[0m\n\u001b[0;32m----> 1\u001b[0;31m \u001b[0mdf\u001b[0m \u001b[0;34m=\u001b[0m \u001b[0mpd\u001b[0m\u001b[0;34m.\u001b[0m\u001b[0mread_csv\u001b[0m\u001b[0;34m(\u001b[0m\u001b[0;34m'/content/고운동.csv'\u001b[0m\u001b[0;34m)\u001b[0m\u001b[0;34m\u001b[0m\u001b[0;34m\u001b[0m\u001b[0m\n\u001b[0m",
            "\u001b[0;32m/usr/local/lib/python3.7/dist-packages/pandas/io/parsers.py\u001b[0m in \u001b[0;36mread_csv\u001b[0;34m(filepath_or_buffer, sep, delimiter, header, names, index_col, usecols, squeeze, prefix, mangle_dupe_cols, dtype, engine, converters, true_values, false_values, skipinitialspace, skiprows, skipfooter, nrows, na_values, keep_default_na, na_filter, verbose, skip_blank_lines, parse_dates, infer_datetime_format, keep_date_col, date_parser, dayfirst, cache_dates, iterator, chunksize, compression, thousands, decimal, lineterminator, quotechar, quoting, doublequote, escapechar, comment, encoding, dialect, error_bad_lines, warn_bad_lines, delim_whitespace, low_memory, memory_map, float_precision)\u001b[0m\n\u001b[1;32m    686\u001b[0m     )\n\u001b[1;32m    687\u001b[0m \u001b[0;34m\u001b[0m\u001b[0m\n\u001b[0;32m--> 688\u001b[0;31m     \u001b[0;32mreturn\u001b[0m \u001b[0m_read\u001b[0m\u001b[0;34m(\u001b[0m\u001b[0mfilepath_or_buffer\u001b[0m\u001b[0;34m,\u001b[0m \u001b[0mkwds\u001b[0m\u001b[0;34m)\u001b[0m\u001b[0;34m\u001b[0m\u001b[0;34m\u001b[0m\u001b[0m\n\u001b[0m\u001b[1;32m    689\u001b[0m \u001b[0;34m\u001b[0m\u001b[0m\n\u001b[1;32m    690\u001b[0m \u001b[0;34m\u001b[0m\u001b[0m\n",
            "\u001b[0;32m/usr/local/lib/python3.7/dist-packages/pandas/io/parsers.py\u001b[0m in \u001b[0;36m_read\u001b[0;34m(filepath_or_buffer, kwds)\u001b[0m\n\u001b[1;32m    452\u001b[0m \u001b[0;34m\u001b[0m\u001b[0m\n\u001b[1;32m    453\u001b[0m     \u001b[0;31m# Create the parser.\u001b[0m\u001b[0;34m\u001b[0m\u001b[0;34m\u001b[0m\u001b[0;34m\u001b[0m\u001b[0m\n\u001b[0;32m--> 454\u001b[0;31m     \u001b[0mparser\u001b[0m \u001b[0;34m=\u001b[0m \u001b[0mTextFileReader\u001b[0m\u001b[0;34m(\u001b[0m\u001b[0mfp_or_buf\u001b[0m\u001b[0;34m,\u001b[0m \u001b[0;34m**\u001b[0m\u001b[0mkwds\u001b[0m\u001b[0;34m)\u001b[0m\u001b[0;34m\u001b[0m\u001b[0;34m\u001b[0m\u001b[0m\n\u001b[0m\u001b[1;32m    455\u001b[0m \u001b[0;34m\u001b[0m\u001b[0m\n\u001b[1;32m    456\u001b[0m     \u001b[0;32mif\u001b[0m \u001b[0mchunksize\u001b[0m \u001b[0;32mor\u001b[0m \u001b[0miterator\u001b[0m\u001b[0;34m:\u001b[0m\u001b[0;34m\u001b[0m\u001b[0;34m\u001b[0m\u001b[0m\n",
            "\u001b[0;32m/usr/local/lib/python3.7/dist-packages/pandas/io/parsers.py\u001b[0m in \u001b[0;36m__init__\u001b[0;34m(self, f, engine, **kwds)\u001b[0m\n\u001b[1;32m    946\u001b[0m             \u001b[0mself\u001b[0m\u001b[0;34m.\u001b[0m\u001b[0moptions\u001b[0m\u001b[0;34m[\u001b[0m\u001b[0;34m\"has_index_names\"\u001b[0m\u001b[0;34m]\u001b[0m \u001b[0;34m=\u001b[0m \u001b[0mkwds\u001b[0m\u001b[0;34m[\u001b[0m\u001b[0;34m\"has_index_names\"\u001b[0m\u001b[0;34m]\u001b[0m\u001b[0;34m\u001b[0m\u001b[0;34m\u001b[0m\u001b[0m\n\u001b[1;32m    947\u001b[0m \u001b[0;34m\u001b[0m\u001b[0m\n\u001b[0;32m--> 948\u001b[0;31m         \u001b[0mself\u001b[0m\u001b[0;34m.\u001b[0m\u001b[0m_make_engine\u001b[0m\u001b[0;34m(\u001b[0m\u001b[0mself\u001b[0m\u001b[0;34m.\u001b[0m\u001b[0mengine\u001b[0m\u001b[0;34m)\u001b[0m\u001b[0;34m\u001b[0m\u001b[0;34m\u001b[0m\u001b[0m\n\u001b[0m\u001b[1;32m    949\u001b[0m \u001b[0;34m\u001b[0m\u001b[0m\n\u001b[1;32m    950\u001b[0m     \u001b[0;32mdef\u001b[0m \u001b[0mclose\u001b[0m\u001b[0;34m(\u001b[0m\u001b[0mself\u001b[0m\u001b[0;34m)\u001b[0m\u001b[0;34m:\u001b[0m\u001b[0;34m\u001b[0m\u001b[0;34m\u001b[0m\u001b[0m\n",
            "\u001b[0;32m/usr/local/lib/python3.7/dist-packages/pandas/io/parsers.py\u001b[0m in \u001b[0;36m_make_engine\u001b[0;34m(self, engine)\u001b[0m\n\u001b[1;32m   1178\u001b[0m     \u001b[0;32mdef\u001b[0m \u001b[0m_make_engine\u001b[0m\u001b[0;34m(\u001b[0m\u001b[0mself\u001b[0m\u001b[0;34m,\u001b[0m \u001b[0mengine\u001b[0m\u001b[0;34m=\u001b[0m\u001b[0;34m\"c\"\u001b[0m\u001b[0;34m)\u001b[0m\u001b[0;34m:\u001b[0m\u001b[0;34m\u001b[0m\u001b[0;34m\u001b[0m\u001b[0m\n\u001b[1;32m   1179\u001b[0m         \u001b[0;32mif\u001b[0m \u001b[0mengine\u001b[0m \u001b[0;34m==\u001b[0m \u001b[0;34m\"c\"\u001b[0m\u001b[0;34m:\u001b[0m\u001b[0;34m\u001b[0m\u001b[0;34m\u001b[0m\u001b[0m\n\u001b[0;32m-> 1180\u001b[0;31m             \u001b[0mself\u001b[0m\u001b[0;34m.\u001b[0m\u001b[0m_engine\u001b[0m \u001b[0;34m=\u001b[0m \u001b[0mCParserWrapper\u001b[0m\u001b[0;34m(\u001b[0m\u001b[0mself\u001b[0m\u001b[0;34m.\u001b[0m\u001b[0mf\u001b[0m\u001b[0;34m,\u001b[0m \u001b[0;34m**\u001b[0m\u001b[0mself\u001b[0m\u001b[0;34m.\u001b[0m\u001b[0moptions\u001b[0m\u001b[0;34m)\u001b[0m\u001b[0;34m\u001b[0m\u001b[0;34m\u001b[0m\u001b[0m\n\u001b[0m\u001b[1;32m   1181\u001b[0m         \u001b[0;32melse\u001b[0m\u001b[0;34m:\u001b[0m\u001b[0;34m\u001b[0m\u001b[0;34m\u001b[0m\u001b[0m\n\u001b[1;32m   1182\u001b[0m             \u001b[0;32mif\u001b[0m \u001b[0mengine\u001b[0m \u001b[0;34m==\u001b[0m \u001b[0;34m\"python\"\u001b[0m\u001b[0;34m:\u001b[0m\u001b[0;34m\u001b[0m\u001b[0;34m\u001b[0m\u001b[0m\n",
            "\u001b[0;32m/usr/local/lib/python3.7/dist-packages/pandas/io/parsers.py\u001b[0m in \u001b[0;36m__init__\u001b[0;34m(self, src, **kwds)\u001b[0m\n\u001b[1;32m   2008\u001b[0m         \u001b[0mkwds\u001b[0m\u001b[0;34m[\u001b[0m\u001b[0;34m\"usecols\"\u001b[0m\u001b[0;34m]\u001b[0m \u001b[0;34m=\u001b[0m \u001b[0mself\u001b[0m\u001b[0;34m.\u001b[0m\u001b[0musecols\u001b[0m\u001b[0;34m\u001b[0m\u001b[0;34m\u001b[0m\u001b[0m\n\u001b[1;32m   2009\u001b[0m \u001b[0;34m\u001b[0m\u001b[0m\n\u001b[0;32m-> 2010\u001b[0;31m         \u001b[0mself\u001b[0m\u001b[0;34m.\u001b[0m\u001b[0m_reader\u001b[0m \u001b[0;34m=\u001b[0m \u001b[0mparsers\u001b[0m\u001b[0;34m.\u001b[0m\u001b[0mTextReader\u001b[0m\u001b[0;34m(\u001b[0m\u001b[0msrc\u001b[0m\u001b[0;34m,\u001b[0m \u001b[0;34m**\u001b[0m\u001b[0mkwds\u001b[0m\u001b[0;34m)\u001b[0m\u001b[0;34m\u001b[0m\u001b[0;34m\u001b[0m\u001b[0m\n\u001b[0m\u001b[1;32m   2011\u001b[0m         \u001b[0mself\u001b[0m\u001b[0;34m.\u001b[0m\u001b[0munnamed_cols\u001b[0m \u001b[0;34m=\u001b[0m \u001b[0mself\u001b[0m\u001b[0;34m.\u001b[0m\u001b[0m_reader\u001b[0m\u001b[0;34m.\u001b[0m\u001b[0munnamed_cols\u001b[0m\u001b[0;34m\u001b[0m\u001b[0;34m\u001b[0m\u001b[0m\n\u001b[1;32m   2012\u001b[0m \u001b[0;34m\u001b[0m\u001b[0m\n",
            "\u001b[0;32mpandas/_libs/parsers.pyx\u001b[0m in \u001b[0;36mpandas._libs.parsers.TextReader.__cinit__\u001b[0;34m()\u001b[0m\n",
            "\u001b[0;32mpandas/_libs/parsers.pyx\u001b[0m in \u001b[0;36mpandas._libs.parsers.TextReader._get_header\u001b[0;34m()\u001b[0m\n",
            "\u001b[0;31mUnicodeDecodeError\u001b[0m: 'utf-8' codec can't decode byte 0xb3 in position 0: invalid start byte"
          ]
        }
      ]
    }
  ]
}