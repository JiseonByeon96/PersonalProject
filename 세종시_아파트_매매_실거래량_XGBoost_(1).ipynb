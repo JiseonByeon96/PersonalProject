{
  "nbformat": 4,
  "nbformat_minor": 0,
  "metadata": {
    "colab": {
      "name": "세종시 아파트 매매 실거래량 XGBoost (1).ipynb",
      "provenance": [],
      "authorship_tag": "ABX9TyMSmV97y5HINVnhajiTXR8U",
      "include_colab_link": true
    },
    "kernelspec": {
      "name": "python3",
      "display_name": "Python 3"
    }
  },
  "cells": [
    {
      "cell_type": "markdown",
      "metadata": {
        "id": "view-in-github",
        "colab_type": "text"
      },
      "source": [
        "<a href=\"https://colab.research.google.com/github/JiseonByeon96/PersonalProject/blob/main/%EC%84%B8%EC%A2%85%EC%8B%9C_%EC%95%84%ED%8C%8C%ED%8A%B8_%EB%A7%A4%EB%A7%A4_%EC%8B%A4%EA%B1%B0%EB%9E%98%EB%9F%89_XGBoost_(1).ipynb\" target=\"_parent\"><img src=\"https://colab.research.google.com/assets/colab-badge.svg\" alt=\"Open In Colab\"/></a>"
      ]
    },
    {
      "cell_type": "markdown",
      "metadata": {
        "id": "d5HIwnSFhY7c"
      },
      "source": [
        "# XGBoost 전처리"
      ]
    },
    {
      "cell_type": "code",
      "metadata": {
        "colab": {
          "base_uri": "https://localhost:8080/"
        },
        "id": "4xvJPQyNhTSB",
        "outputId": "f17483f9-98cb-4342-fc1a-578bf31186d3"
      },
      "source": [
        "pip install xgboost"
      ],
      "execution_count": 1,
      "outputs": [
        {
          "output_type": "stream",
          "text": [
            "Requirement already satisfied: xgboost in /usr/local/lib/python3.7/dist-packages (0.90)\n",
            "Requirement already satisfied: scipy in /usr/local/lib/python3.7/dist-packages (from xgboost) (1.4.1)\n",
            "Requirement already satisfied: numpy in /usr/local/lib/python3.7/dist-packages (from xgboost) (1.19.5)\n"
          ],
          "name": "stdout"
        }
      ]
    },
    {
      "cell_type": "code",
      "metadata": {
        "id": "Ps-AwpBknDX6"
      },
      "source": [
        "import pandas as pd\r\n",
        "import numpy as np\r\n",
        "import matplotlib.pyplot as plt\r\n",
        "from datetime import datetime\r\n",
        "import xgboost as xgb\r\n",
        "from xgboost import plot_importance, plot_tree\r\n",
        "from xgboost import XGBClassifier"
      ],
      "execution_count": 64,
      "outputs": []
    },
    {
      "cell_type": "code",
      "metadata": {
        "colab": {
          "base_uri": "https://localhost:8080/",
          "height": 587
        },
        "id": "K5bPKVIRnJNf",
        "outputId": "189f2999-a715-446d-a08d-af9eb086a36e"
      },
      "source": [
        "data = pd.read_csv('/content/아파트매매.csv', encoding='cp949')\n",
        "data.drop(['계약년월', '계약일', '시군구', '본번', '부번', '단지명','전용면적(㎡)', '층', '건축년도', '동.1'], axis=1, inplace=True)\n",
        "data.info()\n",
        "data['계약년월일'] = data['계약년월일'].astype('str')\n",
        "data['계약년월일'] = pd.to_datetime(data['계약년월일'])\n",
        "data"
      ],
      "execution_count": 69,
      "outputs": [
        {
          "output_type": "stream",
          "text": [
            "<class 'pandas.core.frame.DataFrame'>\n",
            "RangeIndex: 21140 entries, 0 to 21139\n",
            "Data columns (total 3 columns):\n",
            " #   Column    Non-Null Count  Dtype \n",
            "---  ------    --------------  ----- \n",
            " 0   거래금액(만원)  21140 non-null  int64 \n",
            " 1   동         21140 non-null  object\n",
            " 2   계약년월일     21140 non-null  int64 \n",
            "dtypes: int64(2), object(1)\n",
            "memory usage: 495.6+ KB\n"
          ],
          "name": "stdout"
        },
        {
          "output_type": "execute_result",
          "data": {
            "text/html": [
              "<div>\n",
              "<style scoped>\n",
              "    .dataframe tbody tr th:only-of-type {\n",
              "        vertical-align: middle;\n",
              "    }\n",
              "\n",
              "    .dataframe tbody tr th {\n",
              "        vertical-align: top;\n",
              "    }\n",
              "\n",
              "    .dataframe thead th {\n",
              "        text-align: right;\n",
              "    }\n",
              "</style>\n",
              "<table border=\"1\" class=\"dataframe\">\n",
              "  <thead>\n",
              "    <tr style=\"text-align: right;\">\n",
              "      <th></th>\n",
              "      <th>거래금액(만원)</th>\n",
              "      <th>동</th>\n",
              "      <th>계약년월일</th>\n",
              "    </tr>\n",
              "  </thead>\n",
              "  <tbody>\n",
              "    <tr>\n",
              "      <th>0</th>\n",
              "      <td>8600</td>\n",
              "      <td>보람동</td>\n",
              "      <td>2017-01-01</td>\n",
              "    </tr>\n",
              "    <tr>\n",
              "      <th>1</th>\n",
              "      <td>27300</td>\n",
              "      <td>종촌동</td>\n",
              "      <td>2017-01-01</td>\n",
              "    </tr>\n",
              "    <tr>\n",
              "      <th>2</th>\n",
              "      <td>32000</td>\n",
              "      <td>고운동</td>\n",
              "      <td>2017-01-02</td>\n",
              "    </tr>\n",
              "    <tr>\n",
              "      <th>3</th>\n",
              "      <td>30500</td>\n",
              "      <td>고운동</td>\n",
              "      <td>2017-01-02</td>\n",
              "    </tr>\n",
              "    <tr>\n",
              "      <th>4</th>\n",
              "      <td>31300</td>\n",
              "      <td>아름동</td>\n",
              "      <td>2017-01-02</td>\n",
              "    </tr>\n",
              "    <tr>\n",
              "      <th>...</th>\n",
              "      <td>...</td>\n",
              "      <td>...</td>\n",
              "      <td>...</td>\n",
              "    </tr>\n",
              "    <tr>\n",
              "      <th>21135</th>\n",
              "      <td>50000</td>\n",
              "      <td>조치원읍</td>\n",
              "      <td>2020-10-27</td>\n",
              "    </tr>\n",
              "    <tr>\n",
              "      <th>21136</th>\n",
              "      <td>23500</td>\n",
              "      <td>조치원읍</td>\n",
              "      <td>2020-10-27</td>\n",
              "    </tr>\n",
              "    <tr>\n",
              "      <th>21137</th>\n",
              "      <td>68000</td>\n",
              "      <td>도담동</td>\n",
              "      <td>2020-10-28</td>\n",
              "    </tr>\n",
              "    <tr>\n",
              "      <th>21138</th>\n",
              "      <td>6500</td>\n",
              "      <td>부강면</td>\n",
              "      <td>2020-10-28</td>\n",
              "    </tr>\n",
              "    <tr>\n",
              "      <th>21139</th>\n",
              "      <td>37000</td>\n",
              "      <td>조치원읍</td>\n",
              "      <td>2020-10-28</td>\n",
              "    </tr>\n",
              "  </tbody>\n",
              "</table>\n",
              "<p>21140 rows × 3 columns</p>\n",
              "</div>"
            ],
            "text/plain": [
              "       거래금액(만원)     동      계약년월일\n",
              "0          8600   보람동 2017-01-01\n",
              "1         27300   종촌동 2017-01-01\n",
              "2         32000   고운동 2017-01-02\n",
              "3         30500   고운동 2017-01-02\n",
              "4         31300   아름동 2017-01-02\n",
              "...         ...   ...        ...\n",
              "21135     50000  조치원읍 2020-10-27\n",
              "21136     23500  조치원읍 2020-10-27\n",
              "21137     68000   도담동 2020-10-28\n",
              "21138      6500   부강면 2020-10-28\n",
              "21139     37000  조치원읍 2020-10-28\n",
              "\n",
              "[21140 rows x 3 columns]"
            ]
          },
          "metadata": {
            "tags": []
          },
          "execution_count": 69
        }
      ]
    },
    {
      "cell_type": "code",
      "metadata": {
        "id": "-vVJKkHW72K8"
      },
      "source": [
        "data.set_index('계약년월일')\r\n",
        "data['month'] = data.index.month\r\n",
        "data['year'] = data.index.year\r\n",
        "data['dayofweek'] = data.index.dayofweek"
      ],
      "execution_count": null,
      "outputs": []
    },
    {
      "cell_type": "code",
      "metadata": {
        "colab": {
          "base_uri": "https://localhost:8080/",
          "height": 440
        },
        "id": "tb7Tb9Rl77zW",
        "outputId": "f395fa90-0a22-4c25-aa91-e28264c9bf41"
      },
      "source": [
        "data"
      ],
      "execution_count": 71,
      "outputs": [
        {
          "output_type": "execute_result",
          "data": {
            "text/html": [
              "<div>\n",
              "<style scoped>\n",
              "    .dataframe tbody tr th:only-of-type {\n",
              "        vertical-align: middle;\n",
              "    }\n",
              "\n",
              "    .dataframe tbody tr th {\n",
              "        vertical-align: top;\n",
              "    }\n",
              "\n",
              "    .dataframe thead th {\n",
              "        text-align: right;\n",
              "    }\n",
              "</style>\n",
              "<table border=\"1\" class=\"dataframe\">\n",
              "  <thead>\n",
              "    <tr style=\"text-align: right;\">\n",
              "      <th></th>\n",
              "      <th>거래금액(만원)</th>\n",
              "      <th>동</th>\n",
              "      <th>month</th>\n",
              "      <th>year</th>\n",
              "      <th>dayofweek</th>\n",
              "    </tr>\n",
              "    <tr>\n",
              "      <th>계약년월일</th>\n",
              "      <th></th>\n",
              "      <th></th>\n",
              "      <th></th>\n",
              "      <th></th>\n",
              "      <th></th>\n",
              "    </tr>\n",
              "  </thead>\n",
              "  <tbody>\n",
              "    <tr>\n",
              "      <th>2017-01-01</th>\n",
              "      <td>8600</td>\n",
              "      <td>보람동</td>\n",
              "      <td>1</td>\n",
              "      <td>2017</td>\n",
              "      <td>6</td>\n",
              "    </tr>\n",
              "    <tr>\n",
              "      <th>2017-01-01</th>\n",
              "      <td>27300</td>\n",
              "      <td>종촌동</td>\n",
              "      <td>1</td>\n",
              "      <td>2017</td>\n",
              "      <td>6</td>\n",
              "    </tr>\n",
              "    <tr>\n",
              "      <th>2017-01-02</th>\n",
              "      <td>32000</td>\n",
              "      <td>고운동</td>\n",
              "      <td>1</td>\n",
              "      <td>2017</td>\n",
              "      <td>0</td>\n",
              "    </tr>\n",
              "    <tr>\n",
              "      <th>2017-01-02</th>\n",
              "      <td>30500</td>\n",
              "      <td>고운동</td>\n",
              "      <td>1</td>\n",
              "      <td>2017</td>\n",
              "      <td>0</td>\n",
              "    </tr>\n",
              "    <tr>\n",
              "      <th>2017-01-02</th>\n",
              "      <td>31300</td>\n",
              "      <td>아름동</td>\n",
              "      <td>1</td>\n",
              "      <td>2017</td>\n",
              "      <td>0</td>\n",
              "    </tr>\n",
              "    <tr>\n",
              "      <th>...</th>\n",
              "      <td>...</td>\n",
              "      <td>...</td>\n",
              "      <td>...</td>\n",
              "      <td>...</td>\n",
              "      <td>...</td>\n",
              "    </tr>\n",
              "    <tr>\n",
              "      <th>2020-10-27</th>\n",
              "      <td>50000</td>\n",
              "      <td>조치원읍</td>\n",
              "      <td>10</td>\n",
              "      <td>2020</td>\n",
              "      <td>1</td>\n",
              "    </tr>\n",
              "    <tr>\n",
              "      <th>2020-10-27</th>\n",
              "      <td>23500</td>\n",
              "      <td>조치원읍</td>\n",
              "      <td>10</td>\n",
              "      <td>2020</td>\n",
              "      <td>1</td>\n",
              "    </tr>\n",
              "    <tr>\n",
              "      <th>2020-10-28</th>\n",
              "      <td>68000</td>\n",
              "      <td>도담동</td>\n",
              "      <td>10</td>\n",
              "      <td>2020</td>\n",
              "      <td>2</td>\n",
              "    </tr>\n",
              "    <tr>\n",
              "      <th>2020-10-28</th>\n",
              "      <td>6500</td>\n",
              "      <td>부강면</td>\n",
              "      <td>10</td>\n",
              "      <td>2020</td>\n",
              "      <td>2</td>\n",
              "    </tr>\n",
              "    <tr>\n",
              "      <th>2020-10-28</th>\n",
              "      <td>37000</td>\n",
              "      <td>조치원읍</td>\n",
              "      <td>10</td>\n",
              "      <td>2020</td>\n",
              "      <td>2</td>\n",
              "    </tr>\n",
              "  </tbody>\n",
              "</table>\n",
              "<p>21140 rows × 5 columns</p>\n",
              "</div>"
            ],
            "text/plain": [
              "            거래금액(만원)     동  month  year  dayofweek\n",
              "계약년월일                                             \n",
              "2017-01-01      8600   보람동      1  2017          6\n",
              "2017-01-01     27300   종촌동      1  2017          6\n",
              "2017-01-02     32000   고운동      1  2017          0\n",
              "2017-01-02     30500   고운동      1  2017          0\n",
              "2017-01-02     31300   아름동      1  2017          0\n",
              "...              ...   ...    ...   ...        ...\n",
              "2020-10-27     50000  조치원읍     10  2020          1\n",
              "2020-10-27     23500  조치원읍     10  2020          1\n",
              "2020-10-28     68000   도담동     10  2020          2\n",
              "2020-10-28      6500   부강면     10  2020          2\n",
              "2020-10-28     37000  조치원읍     10  2020          2\n",
              "\n",
              "[21140 rows x 5 columns]"
            ]
          },
          "metadata": {
            "tags": []
          },
          "execution_count": 71
        }
      ]
    },
    {
      "cell_type": "code",
      "metadata": {
        "id": "98KIhlZI77Hz"
      },
      "source": [
        "# 레이블인코딩\r\n",
        "from sklearn.preprocessing import LabelEncoder\r\n",
        "encoder = LabelEncoder()\r\n",
        "encoder.fit(data['동'])\r\n",
        "data['동']=encoder.transform(data['동'])"
      ],
      "execution_count": 81,
      "outputs": []
    },
    {
      "cell_type": "code",
      "metadata": {
        "colab": {
          "base_uri": "https://localhost:8080/",
          "height": 440
        },
        "id": "sLDLM1zO_bLs",
        "outputId": "8e5c0ea6-f151-4400-927f-27114390a441"
      },
      "source": [
        "data"
      ],
      "execution_count": 82,
      "outputs": [
        {
          "output_type": "execute_result",
          "data": {
            "text/html": [
              "<div>\n",
              "<style scoped>\n",
              "    .dataframe tbody tr th:only-of-type {\n",
              "        vertical-align: middle;\n",
              "    }\n",
              "\n",
              "    .dataframe tbody tr th {\n",
              "        vertical-align: top;\n",
              "    }\n",
              "\n",
              "    .dataframe thead th {\n",
              "        text-align: right;\n",
              "    }\n",
              "</style>\n",
              "<table border=\"1\" class=\"dataframe\">\n",
              "  <thead>\n",
              "    <tr style=\"text-align: right;\">\n",
              "      <th></th>\n",
              "      <th>거래금액(만원)</th>\n",
              "      <th>동</th>\n",
              "      <th>month</th>\n",
              "      <th>year</th>\n",
              "      <th>dayofweek</th>\n",
              "      <th>labels</th>\n",
              "    </tr>\n",
              "    <tr>\n",
              "      <th>계약년월일</th>\n",
              "      <th></th>\n",
              "      <th></th>\n",
              "      <th></th>\n",
              "      <th></th>\n",
              "      <th></th>\n",
              "      <th></th>\n",
              "    </tr>\n",
              "  </thead>\n",
              "  <tbody>\n",
              "    <tr>\n",
              "      <th>2017-01-01</th>\n",
              "      <td>8600</td>\n",
              "      <td>7</td>\n",
              "      <td>1</td>\n",
              "      <td>2017</td>\n",
              "      <td>6</td>\n",
              "      <td>7</td>\n",
              "    </tr>\n",
              "    <tr>\n",
              "      <th>2017-01-01</th>\n",
              "      <td>27300</td>\n",
              "      <td>20</td>\n",
              "      <td>1</td>\n",
              "      <td>2017</td>\n",
              "      <td>6</td>\n",
              "      <td>20</td>\n",
              "    </tr>\n",
              "    <tr>\n",
              "      <th>2017-01-02</th>\n",
              "      <td>32000</td>\n",
              "      <td>0</td>\n",
              "      <td>1</td>\n",
              "      <td>2017</td>\n",
              "      <td>0</td>\n",
              "      <td>0</td>\n",
              "    </tr>\n",
              "    <tr>\n",
              "      <th>2017-01-02</th>\n",
              "      <td>30500</td>\n",
              "      <td>0</td>\n",
              "      <td>1</td>\n",
              "      <td>2017</td>\n",
              "      <td>0</td>\n",
              "      <td>0</td>\n",
              "    </tr>\n",
              "    <tr>\n",
              "      <th>2017-01-02</th>\n",
              "      <td>31300</td>\n",
              "      <td>12</td>\n",
              "      <td>1</td>\n",
              "      <td>2017</td>\n",
              "      <td>0</td>\n",
              "      <td>12</td>\n",
              "    </tr>\n",
              "    <tr>\n",
              "      <th>...</th>\n",
              "      <td>...</td>\n",
              "      <td>...</td>\n",
              "      <td>...</td>\n",
              "      <td>...</td>\n",
              "      <td>...</td>\n",
              "      <td>...</td>\n",
              "    </tr>\n",
              "    <tr>\n",
              "      <th>2020-10-27</th>\n",
              "      <td>50000</td>\n",
              "      <td>19</td>\n",
              "      <td>10</td>\n",
              "      <td>2020</td>\n",
              "      <td>1</td>\n",
              "      <td>19</td>\n",
              "    </tr>\n",
              "    <tr>\n",
              "      <th>2020-10-27</th>\n",
              "      <td>23500</td>\n",
              "      <td>19</td>\n",
              "      <td>10</td>\n",
              "      <td>2020</td>\n",
              "      <td>1</td>\n",
              "      <td>19</td>\n",
              "    </tr>\n",
              "    <tr>\n",
              "      <th>2020-10-28</th>\n",
              "      <td>68000</td>\n",
              "      <td>5</td>\n",
              "      <td>10</td>\n",
              "      <td>2020</td>\n",
              "      <td>2</td>\n",
              "      <td>5</td>\n",
              "    </tr>\n",
              "    <tr>\n",
              "      <th>2020-10-28</th>\n",
              "      <td>6500</td>\n",
              "      <td>8</td>\n",
              "      <td>10</td>\n",
              "      <td>2020</td>\n",
              "      <td>2</td>\n",
              "      <td>8</td>\n",
              "    </tr>\n",
              "    <tr>\n",
              "      <th>2020-10-28</th>\n",
              "      <td>37000</td>\n",
              "      <td>19</td>\n",
              "      <td>10</td>\n",
              "      <td>2020</td>\n",
              "      <td>2</td>\n",
              "      <td>19</td>\n",
              "    </tr>\n",
              "  </tbody>\n",
              "</table>\n",
              "<p>21140 rows × 6 columns</p>\n",
              "</div>"
            ],
            "text/plain": [
              "            거래금액(만원)   동  month  year  dayofweek  labels\n",
              "계약년월일                                                   \n",
              "2017-01-01      8600   7      1  2017          6       7\n",
              "2017-01-01     27300  20      1  2017          6      20\n",
              "2017-01-02     32000   0      1  2017          0       0\n",
              "2017-01-02     30500   0      1  2017          0       0\n",
              "2017-01-02     31300  12      1  2017          0      12\n",
              "...              ...  ..    ...   ...        ...     ...\n",
              "2020-10-27     50000  19     10  2020          1      19\n",
              "2020-10-27     23500  19     10  2020          1      19\n",
              "2020-10-28     68000   5     10  2020          2       5\n",
              "2020-10-28      6500   8     10  2020          2       8\n",
              "2020-10-28     37000  19     10  2020          2      19\n",
              "\n",
              "[21140 rows x 6 columns]"
            ]
          },
          "metadata": {
            "tags": []
          },
          "execution_count": 82
        }
      ]
    },
    {
      "cell_type": "code",
      "metadata": {
        "colab": {
          "base_uri": "https://localhost:8080/"
        },
        "id": "zaLkrOyf_hW6",
        "outputId": "92b702df-46d7-4610-eb12-04eb9656590e"
      },
      "source": [
        "encoder.classes_ # 인코딩된 원래의 클래스명"
      ],
      "execution_count": 79,
      "outputs": [
        {
          "output_type": "execute_result",
          "data": {
            "text/plain": [
              "array(['고운동', '금남면', '나성동', '다정동', '대평동', '도담동', '반곡동', '보람동', '부강면',\n",
              "       '새롬동', '소담동', '소정면', '아름동', '어진동', '연동면', '연서면', '장군면', '전동면',\n",
              "       '전의면', '조치원읍', '종촌동', '한솔동'], dtype=object)"
            ]
          },
          "metadata": {
            "tags": []
          },
          "execution_count": 79
        }
      ]
    },
    {
      "cell_type": "code",
      "metadata": {
        "colab": {
          "base_uri": "https://localhost:8080/"
        },
        "id": "KYPRAju_9iod",
        "outputId": "1f084289-d8f4-44d2-85aa-57601eeec845"
      },
      "source": [
        "data.info()"
      ],
      "execution_count": 86,
      "outputs": [
        {
          "output_type": "stream",
          "text": [
            "<class 'pandas.core.frame.DataFrame'>\n",
            "DatetimeIndex: 21140 entries, 2017-01-01 to 2020-10-28\n",
            "Data columns (total 6 columns):\n",
            " #   Column     Non-Null Count  Dtype\n",
            "---  ------     --------------  -----\n",
            " 0   거래금액(만원)   21140 non-null  int64\n",
            " 1   동          21140 non-null  int64\n",
            " 2   month      21140 non-null  int64\n",
            " 3   year       21140 non-null  int64\n",
            " 4   dayofweek  21140 non-null  int64\n",
            " 5   labels     21140 non-null  int64\n",
            "dtypes: int64(6)\n",
            "memory usage: 1.8 MB\n"
          ],
          "name": "stdout"
        }
      ]
    },
    {
      "cell_type": "code",
      "metadata": {
        "id": "JKwLofFpwMBK"
      },
      "source": [
        "# XGBoost 전처리\r\n",
        "\r\n",
        "split = \"2020-05-30\"\r\n",
        "data_train = data[:split]\r\n",
        "data_test = data[split:]\r\n",
        "data\r\n",
        "data_train_y = data_train.loc[:, '거래금액(만원)']\r\n",
        "data_train_x = data_train.drop('거래금액(만원)', axis=1)\r\n",
        "data_test_y = data_test.loc[:,'거래금액(만원)']\r\n",
        "data_test_x = data_test.drop('거래금액(만원)', axis=1)\r\n",
        "data_test_orig = data_test.loc[:, ['동', '거래금액(만원)']]"
      ],
      "execution_count": 88,
      "outputs": []
    },
    {
      "cell_type": "code",
      "metadata": {
        "id": "KbONTUgwyDis"
      },
      "source": [
        "XG_model_month = xgb.XGBRegressor(n_estimators=1000)"
      ],
      "execution_count": 89,
      "outputs": []
    },
    {
      "cell_type": "code",
      "metadata": {
        "colab": {
          "base_uri": "https://localhost:8080/"
        },
        "id": "obXIN4TPzI8-",
        "outputId": "39724116-555c-4de8-eb0e-c25815095090"
      },
      "source": [
        "XG_model_month.fit(data_train_x, data_train_y, eval_set=[(data_test_x, data_test_y)], early_stopping_rounds=50,verbose=False)"
      ],
      "execution_count": 90,
      "outputs": [
        {
          "output_type": "stream",
          "text": [
            "[07:56:19] WARNING: /workspace/src/objective/regression_obj.cu:152: reg:linear is now deprecated in favor of reg:squarederror.\n"
          ],
          "name": "stdout"
        },
        {
          "output_type": "execute_result",
          "data": {
            "text/plain": [
              "XGBRegressor(base_score=0.5, booster='gbtree', colsample_bylevel=1,\n",
              "             colsample_bynode=1, colsample_bytree=1, gamma=0,\n",
              "             importance_type='gain', learning_rate=0.1, max_delta_step=0,\n",
              "             max_depth=3, min_child_weight=1, missing=None, n_estimators=1000,\n",
              "             n_jobs=1, nthread=None, objective='reg:linear', random_state=0,\n",
              "             reg_alpha=0, reg_lambda=1, scale_pos_weight=1, seed=None,\n",
              "             silent=None, subsample=1, verbosity=1)"
            ]
          },
          "metadata": {
            "tags": []
          },
          "execution_count": 90
        }
      ]
    },
    {
      "cell_type": "code",
      "metadata": {
        "colab": {
          "base_uri": "https://localhost:8080/",
          "height": 312
        },
        "id": "Dw4hohQSzRFd",
        "outputId": "7f0eb634-80cf-47ab-b16e-894746d88923"
      },
      "source": [
        "# 주요하게 적용하는 변수를 판단\r\n",
        "plot_importance(XG_model_month, height=0.9)"
      ],
      "execution_count": 91,
      "outputs": [
        {
          "output_type": "execute_result",
          "data": {
            "text/plain": [
              "<matplotlib.axes._subplots.AxesSubplot at 0x7f77cea74f90>"
            ]
          },
          "metadata": {
            "tags": []
          },
          "execution_count": 91
        },
        {
          "output_type": "display_data",
          "data": {
            "image/png": "[encoded data removed]",
            "text/plain": [
              "<Figure size 432x288 with 1 Axes>"
            ]
          },
          "metadata": {
            "tags": [],
            "needs_background": "light"
          }
        }
      ]
    },
    {
      "cell_type": "code",
      "metadata": {
        "id": "W6TuxFxTEb9V"
      },
      "source": [
        "# 테스트 데이터 중 특정 동 데이터를 추출\r\n",
        "df1 = data_test_x[(data_test_x.동==1)]\r\n",
        "xgboost = XG_model_month.predict(df1)\r\n"
      ],
      "execution_count": 113,
      "outputs": []
    },
    {
      "cell_type": "code",
      "metadata": {
        "id": "x1CWLdsJFajz"
      },
      "source": [
        ""
      ],
      "execution_count": null,
      "outputs": []
    },
    {
      "cell_type": "code",
      "metadata": {
        "colab": {
          "base_uri": "https://localhost:8080/",
          "height": 303
        },
        "id": "5V8UEXdIE9kk",
        "outputId": "56ca76ad-f7b3-4cdf-a7af-163ab2640542"
      },
      "source": [
        "result=pd.concat([data_test_orig[(data_test_orig.동==1)].reset_index(), pd.DataFrame(xgboost, columns=['xgboost'])], axis=1, ignore_index=False)\r\n",
        "result = result.set_index('계약년월일')\r\n",
        "result = result.loc[:, ['거래금액(만원)', 'xgboost']]\r\n",
        "result.plot()"
      ],
      "execution_count": 114,
      "outputs": [
        {
          "output_type": "execute_result",
          "data": {
            "text/plain": [
              "<matplotlib.axes._subplots.AxesSubplot at 0x7f77ce96fad0>"
            ]
          },
          "metadata": {
            "tags": []
          },
          "execution_count": 114
        },
        {
          "output_type": "display_data",
          "data": {
            "image/png": "[encoded data removed]",
            "text/plain": [
              "<Figure size 432x288 with 1 Axes>"
            ]
          },
          "metadata": {
            "tags": [],
            "needs_background": "light"
          }
        }
      ]
    }
  ]
}